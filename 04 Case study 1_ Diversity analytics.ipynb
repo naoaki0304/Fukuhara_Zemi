{
 "cells": [
  {
   "cell_type": "markdown",
   "id": "d0154a23",
   "metadata": {},
   "source": [
    "# 04 Case study 1_ Diversity analytics"
   ]
  },
  {
   "cell_type": "code",
   "execution_count": null,
   "id": "885550fa",
   "metadata": {},
   "outputs": [],
   "source": [
    "import numpy as np\n",
    "import pandas as pd\n",
    "from scipy import stats"
   ]
  },
  {
   "cell_type": "markdown",
   "id": "78009acc",
   "metadata": {},
   "source": [
    "# Example 1: gender and job grade analysis using frequency tables and chi square"
   ]
  },
  {
   "cell_type": "markdown",
   "id": "eb878516",
   "metadata": {},
   "source": [
    "Please download the original file converted to csv."
   ]
  },
  {
   "cell_type": "code",
   "execution_count": null,
   "id": "11ba6ec0",
   "metadata": {},
   "outputs": [],
   "source": [
    "df = pd.read_csv(\"Chapter 4Diversity CASE Group level data.csv\")"
   ]
  },
  {
   "cell_type": "code",
   "execution_count": null,
   "id": "7d9be149",
   "metadata": {},
   "outputs": [],
   "source": [
    "pd.set_option('display.max_columns', None)\n",
    "df.head()"
   ]
  },
  {
   "cell_type": "code",
   "execution_count": null,
   "id": "ba8daa2e",
   "metadata": {},
   "outputs": [],
   "source": [
    "print(df.shape)"
   ]
  },
  {
   "cell_type": "code",
   "execution_count": null,
   "id": "0335c432",
   "metadata": {},
   "outputs": [],
   "source": [
    "#df.info()"
   ]
  },
  {
   "cell_type": "code",
   "execution_count": null,
   "id": "04c58d9f",
   "metadata": {},
   "outputs": [],
   "source": [
    "# Table 4.3\n",
    "data_crosstab = pd.crosstab(df['JobGrade'],\n",
    "                            df['Gender'],\n",
    "                            margins=True)\n",
    "data_crosstab.columns = ['Number of Women in Role',\n",
    "                         'Number of Men in Role',\n",
    "                         'Number of People Currently in Role']\n",
    "data_crosstab.index = ['Clerical/Officer','Administrator/Assistant','Graduate/Trainee Consultant',\n",
    "                       'Consultant','Senior Consultant','Managing Consultant',\n",
    "                       'Principal Consultant','Partner', \"Total\"]\n",
    "data_crosstab"
   ]
  },
  {
   "cell_type": "markdown",
   "id": "bd8dca7d",
   "metadata": {},
   "source": [
    "## Results"
   ]
  },
  {
   "cell_type": "code",
   "execution_count": null,
   "id": "1ec089e0",
   "metadata": {},
   "outputs": [],
   "source": [
    "chi2, p, dof, exp = stats.chi2_contingency(data_crosstab, correction=False)\n",
    "print(\"expected frequency\", \"\\n\", exp)\n",
    "print(\"degree of freedom\", \"\\n\", dof)\n",
    "print(\"chi-square value\", \"\\n\", chi2)\n",
    "print(\"p-value\", \"\\n\", p)"
   ]
  },
  {
   "cell_type": "markdown",
   "id": "682e6c6f",
   "metadata": {},
   "source": [
    "**In this organization women are under-represented in senior roles (to a level of certainty that means it pretty much could never happen by chance alone) and no one could try to deny it due to the overwhelming evidence.**"
   ]
  },
  {
   "cell_type": "markdown",
   "id": "31a3fa6b",
   "metadata": {},
   "source": [
    "# Example 2a: exploring ethnic diversity across teams using descriptive statistics"
   ]
  },
  {
   "cell_type": "markdown",
   "id": "35db56bc",
   "metadata": {},
   "source": [
    "Please download the original file converted to csv."
   ]
  },
  {
   "cell_type": "code",
   "execution_count": null,
   "id": "3f9ce1ba",
   "metadata": {},
   "outputs": [],
   "source": [
    "df2 = pd.read_csv(\"Chapter 4Diversity CASE Group level data.csv\")"
   ]
  },
  {
   "cell_type": "code",
   "execution_count": null,
   "id": "c5acc315",
   "metadata": {},
   "outputs": [],
   "source": [
    "pd.set_option('display.max_columns', None)\n",
    "df2.head()"
   ]
  },
  {
   "cell_type": "code",
   "execution_count": null,
   "id": "23ecc626",
   "metadata": {},
   "outputs": [],
   "source": [
    "print(df2.shape)"
   ]
  },
  {
   "cell_type": "code",
   "execution_count": null,
   "id": "b7fcd52c",
   "metadata": {},
   "outputs": [],
   "source": [
    "#df2.info()"
   ]
  },
  {
   "cell_type": "markdown",
   "id": "71873cce",
   "metadata": {},
   "source": [
    "## Results"
   ]
  },
  {
   "cell_type": "code",
   "execution_count": null,
   "id": "19b00f8e",
   "metadata": {},
   "outputs": [],
   "source": [
    "print(df2['PercentMale'].describe())\n",
    "print(df2['BAME'].describe())"
   ]
  },
  {
   "cell_type": "markdown",
   "id": "a8921fca",
   "metadata": {},
   "source": [
    "# Example 2b: comparing ethnicity and gender across two functions in an organization using the independent samples t-test"
   ]
  },
  {
   "cell_type": "code",
   "execution_count": null,
   "id": "89626b76",
   "metadata": {},
   "outputs": [],
   "source": [
    "Binary = df2['Function']\n",
    "Male = df2['PercentMale']\n",
    "Bame = df2['BAME']"
   ]
  },
  {
   "cell_type": "code",
   "execution_count": null,
   "id": "486a9469",
   "metadata": {},
   "outputs": [],
   "source": [
    "Binary.value_counts()"
   ]
  },
  {
   "cell_type": "code",
   "execution_count": null,
   "id": "3dd4215a",
   "metadata": {},
   "outputs": [],
   "source": [
    "Category1 = Binary == 1.0\n",
    "Category2 = Binary == 2.0\n",
    "Category1.head()"
   ]
  },
  {
   "cell_type": "code",
   "execution_count": null,
   "id": "beba3055",
   "metadata": {},
   "outputs": [],
   "source": [
    "MaleCatScores1 = Male[Category1].dropna()\n",
    "MaleCatScores2 = Male[Category2].dropna()\n",
    "BameCatScores1 = Bame[Category1].dropna()\n",
    "BameCatScores2 = Bame[Category2].dropna()"
   ]
  },
  {
   "cell_type": "markdown",
   "id": "4c5ba7cf",
   "metadata": {},
   "source": [
    "## Results"
   ]
  },
  {
   "cell_type": "code",
   "execution_count": null,
   "id": "e6ea0e7e",
   "metadata": {},
   "outputs": [],
   "source": [
    "stats.ttest_ind(MaleCatScores1, MaleCatScores2)"
   ]
  },
  {
   "cell_type": "code",
   "execution_count": null,
   "id": "e2e8dd25",
   "metadata": {},
   "outputs": [],
   "source": [
    "stats.ttest_ind(MaleCatScores1, MaleCatScores2, equal_var=False)"
   ]
  },
  {
   "cell_type": "code",
   "execution_count": null,
   "id": "66e5dd6f",
   "metadata": {},
   "outputs": [],
   "source": [
    "stats.ttest_ind(BameCatScores1, BameCatScores2)"
   ]
  },
  {
   "cell_type": "code",
   "execution_count": null,
   "id": "247b0599",
   "metadata": {},
   "outputs": [],
   "source": [
    "stats.ttest_ind(BameCatScores1, BameCatScores2, equal_var=False)"
   ]
  },
  {
   "cell_type": "markdown",
   "id": "06faf5df",
   "metadata": {},
   "source": [
    "**In comparing the Sales and the Professional Service functions, the proportion of BAME staff is significantly lower in Sales than in Professional Service. The average proportion of BAME staff in teams within the Sales is 9.7 per cent, and by comparison the average proportion of BAME staff in teams within the Professional Service function is 14.39 per cent. Deeper analysis shows that the likelihood of this difference occurring by chance alone is less than 1 in 1,000; suggesting we have an issue that needs attention within the Sales function.**\n",
    "\n",
    "**In comparing the Sales and the Professional Service functions, the proportion of male staff is significantly higher in Sales than in Professional Service groups within our organization. The average percentage of male staff in teams within Sales is 71.26 per cent, and by comparison the average proportion of male staff in teams within the Professional Service function is 44.4 per cent. Deeper analysis shows the chance of this difference occurring by chance alone is less than 1 in 1,000, suggesting that we have a clear issue of male dominance within our Sales function; this potentially needs attention if we want gender proportions to be similar across our organization.**"
   ]
  },
  {
   "cell_type": "markdown",
   "id": "08de4ad2",
   "metadata": {},
   "source": [
    "# Example 3: using multiple linear regression to model and predict ethnic diversity variation across teams"
   ]
  },
  {
   "cell_type": "code",
   "execution_count": null,
   "id": "731a3b46",
   "metadata": {},
   "outputs": [],
   "source": [
    "df2 = df2.dropna()"
   ]
  },
  {
   "cell_type": "code",
   "execution_count": null,
   "id": "b9497319",
   "metadata": {},
   "outputs": [],
   "source": [
    "np.where(np.isnan(df2))"
   ]
  },
  {
   "cell_type": "code",
   "execution_count": null,
   "id": "79d9eb0e",
   "metadata": {},
   "outputs": [],
   "source": [
    "from sklearn import linear_model\n",
    "# Setting the value for X and Y\n",
    "x = df2[['LondonorNot', 'Function', 'GroupSize', 'NumberFeMaleTeamLeads', 'PercentMale']]\n",
    "y = df2['BAME']\n",
    "\n",
    "# Splitting the dataset\n",
    "#from sklearn.model_selection import train_test_split\n",
    "#x_train, x_test, y_train, y_test = train_test_split(x, y, test_size = 0.2, random_state = 0)"
   ]
  },
  {
   "cell_type": "code",
   "execution_count": null,
   "id": "9583636b",
   "metadata": {},
   "outputs": [],
   "source": [
    "mlr = linear_model.LinearRegression()\n",
    "mlr.fit(x, y)"
   ]
  },
  {
   "cell_type": "code",
   "execution_count": null,
   "id": "821893fc",
   "metadata": {},
   "outputs": [],
   "source": [
    "print(\"intercept\", \"\\n\", mlr.intercept_)\n",
    "list(zip(x, mlr.coef_))"
   ]
  },
  {
   "cell_type": "code",
   "execution_count": null,
   "id": "b63277a7",
   "metadata": {},
   "outputs": [],
   "source": [
    "#Model evaluation\n",
    "from sklearn import metrics\n",
    "meanAbErr = metrics.mean_absolute_error(y_test, y_pred_mlr)\n",
    "meanSqErr = metrics.mean_squared_error(y_test, y_pred_mlr)\n",
    "rootMeanSqErr = np.sqrt(metrics.mean_squared_error(y_test, y_pred_mlr))\n",
    "print('R squared: {:.2f}'.format(mlr.score(x,y)*100))\n",
    "print('Mean Absolute Error:', meanAbErr)\n",
    "print('Mean Square Error:', meanSqErr)\n",
    "print('Root Mean Square Error:', rootMeanSqErr)"
   ]
  }
 ],
 "metadata": {
  "kernelspec": {
   "display_name": "Python 3 (ipykernel)",
   "language": "python",
   "name": "python3"
  },
  "language_info": {
   "codemirror_mode": {
    "name": "ipython",
    "version": 3
   },
   "file_extension": ".py",
   "mimetype": "text/x-python",
   "name": "python",
   "nbconvert_exporter": "python",
   "pygments_lexer": "ipython3",
   "version": "3.9.12"
  }
 },
 "nbformat": 4,
 "nbformat_minor": 5
}
