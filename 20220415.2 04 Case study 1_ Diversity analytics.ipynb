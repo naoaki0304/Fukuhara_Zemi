{
 "cells": [
  {
   "cell_type": "markdown",
   "id": "d0154a23",
   "metadata": {},
   "source": [
    "# 04 Case study 1_ Diversity analytics"
   ]
  },
  {
   "cell_type": "code",
   "execution_count": 1,
   "id": "885550fa",
   "metadata": {},
   "outputs": [],
   "source": [
    "import numpy as np\n",
    "import pandas as pd\n",
    "from scipy import stats"
   ]
  },
  {
   "cell_type": "markdown",
   "id": "78009acc",
   "metadata": {},
   "source": [
    "# Example 1: gender and job grade analysis using frequency tables and chi square"
   ]
  },
  {
   "cell_type": "markdown",
   "id": "eb878516",
   "metadata": {},
   "source": [
    "Please download the original file converted to csv."
   ]
  },
  {
   "cell_type": "code",
   "execution_count": 2,
   "id": "11ba6ec0",
   "metadata": {},
   "outputs": [],
   "source": [
    "df = pd.read_csv(\"Chapter 4Diversity 1.csv\")"
   ]
  },
  {
   "cell_type": "code",
   "execution_count": 3,
   "id": "7d9be149",
   "metadata": {},
   "outputs": [
    {
     "data": {
      "text/html": [
       "<div>\n",
       "<style scoped>\n",
       "    .dataframe tbody tr th:only-of-type {\n",
       "        vertical-align: middle;\n",
       "    }\n",
       "\n",
       "    .dataframe tbody tr th {\n",
       "        vertical-align: top;\n",
       "    }\n",
       "\n",
       "    .dataframe thead th {\n",
       "        text-align: right;\n",
       "    }\n",
       "</style>\n",
       "<table border=\"1\" class=\"dataframe\">\n",
       "  <thead>\n",
       "    <tr style=\"text-align: right;\">\n",
       "      <th></th>\n",
       "      <th>BossGender</th>\n",
       "      <th>Gender</th>\n",
       "      <th>JobGrade</th>\n",
       "      <th>Age</th>\n",
       "      <th>Tenure</th>\n",
       "      <th>Status</th>\n",
       "      <th>PerformanceScore</th>\n",
       "      <th>BossPerformance</th>\n",
       "      <th>Division</th>\n",
       "      <th>Country</th>\n",
       "      <th>leaver</th>\n",
       "    </tr>\n",
       "  </thead>\n",
       "  <tbody>\n",
       "    <tr>\n",
       "      <th>0</th>\n",
       "      <td>1</td>\n",
       "      <td>1.0</td>\n",
       "      <td>6</td>\n",
       "      <td>39</td>\n",
       "      <td>0</td>\n",
       "      <td>1</td>\n",
       "      <td>4.0</td>\n",
       "      <td>4.0</td>\n",
       "      <td>12</td>\n",
       "      <td>3</td>\n",
       "      <td>1.0</td>\n",
       "    </tr>\n",
       "    <tr>\n",
       "      <th>1</th>\n",
       "      <td>1</td>\n",
       "      <td>1.0</td>\n",
       "      <td>5</td>\n",
       "      <td>37</td>\n",
       "      <td>6</td>\n",
       "      <td>1</td>\n",
       "      <td>4.0</td>\n",
       "      <td>3.0</td>\n",
       "      <td>12</td>\n",
       "      <td>4</td>\n",
       "      <td>1.0</td>\n",
       "    </tr>\n",
       "    <tr>\n",
       "      <th>2</th>\n",
       "      <td>1</td>\n",
       "      <td>1.0</td>\n",
       "      <td>5</td>\n",
       "      <td>35</td>\n",
       "      <td>1</td>\n",
       "      <td>1</td>\n",
       "      <td>4.0</td>\n",
       "      <td>3.0</td>\n",
       "      <td>6</td>\n",
       "      <td>7</td>\n",
       "      <td>1.0</td>\n",
       "    </tr>\n",
       "    <tr>\n",
       "      <th>3</th>\n",
       "      <td>1</td>\n",
       "      <td>1.0</td>\n",
       "      <td>3</td>\n",
       "      <td>30</td>\n",
       "      <td>3</td>\n",
       "      <td>1</td>\n",
       "      <td>4.0</td>\n",
       "      <td>3.0</td>\n",
       "      <td>6</td>\n",
       "      <td>7</td>\n",
       "      <td>1.0</td>\n",
       "    </tr>\n",
       "    <tr>\n",
       "      <th>4</th>\n",
       "      <td>1</td>\n",
       "      <td>1.0</td>\n",
       "      <td>6</td>\n",
       "      <td>33</td>\n",
       "      <td>0</td>\n",
       "      <td>1</td>\n",
       "      <td>NaN</td>\n",
       "      <td>3.0</td>\n",
       "      <td>8</td>\n",
       "      <td>7</td>\n",
       "      <td>1.0</td>\n",
       "    </tr>\n",
       "  </tbody>\n",
       "</table>\n",
       "</div>"
      ],
      "text/plain": [
       "   BossGender  Gender  JobGrade  Age  Tenure  Status  PerformanceScore  \\\n",
       "0           1     1.0         6   39       0       1               4.0   \n",
       "1           1     1.0         5   37       6       1               4.0   \n",
       "2           1     1.0         5   35       1       1               4.0   \n",
       "3           1     1.0         3   30       3       1               4.0   \n",
       "4           1     1.0         6   33       0       1               NaN   \n",
       "\n",
       "   BossPerformance  Division  Country  leaver  \n",
       "0              4.0        12        3     1.0  \n",
       "1              3.0        12        4     1.0  \n",
       "2              3.0         6        7     1.0  \n",
       "3              3.0         6        7     1.0  \n",
       "4              3.0         8        7     1.0  "
      ]
     },
     "execution_count": 3,
     "metadata": {},
     "output_type": "execute_result"
    }
   ],
   "source": [
    "pd.set_option('display.max_columns', None)\n",
    "df.head()"
   ]
  },
  {
   "cell_type": "code",
   "execution_count": 4,
   "id": "ba8daa2e",
   "metadata": {},
   "outputs": [
    {
     "name": "stdout",
     "output_type": "stream",
     "text": [
      "(1493, 11)\n"
     ]
    }
   ],
   "source": [
    "print(df.shape)"
   ]
  },
  {
   "cell_type": "code",
   "execution_count": 5,
   "id": "0335c432",
   "metadata": {},
   "outputs": [],
   "source": [
    "#df.info()"
   ]
  },
  {
   "cell_type": "code",
   "execution_count": 6,
   "id": "04c58d9f",
   "metadata": {},
   "outputs": [
    {
     "data": {
      "text/html": [
       "<div>\n",
       "<style scoped>\n",
       "    .dataframe tbody tr th:only-of-type {\n",
       "        vertical-align: middle;\n",
       "    }\n",
       "\n",
       "    .dataframe tbody tr th {\n",
       "        vertical-align: top;\n",
       "    }\n",
       "\n",
       "    .dataframe thead th {\n",
       "        text-align: right;\n",
       "    }\n",
       "</style>\n",
       "<table border=\"1\" class=\"dataframe\">\n",
       "  <thead>\n",
       "    <tr style=\"text-align: right;\">\n",
       "      <th></th>\n",
       "      <th>Number of Women in Role</th>\n",
       "      <th>Number of Men in Role</th>\n",
       "      <th>Number of People Currently in Role</th>\n",
       "    </tr>\n",
       "  </thead>\n",
       "  <tbody>\n",
       "    <tr>\n",
       "      <th>Clerical/Officer</th>\n",
       "      <td>31</td>\n",
       "      <td>8</td>\n",
       "      <td>39</td>\n",
       "    </tr>\n",
       "    <tr>\n",
       "      <th>Administrator/Assistant</th>\n",
       "      <td>227</td>\n",
       "      <td>116</td>\n",
       "      <td>343</td>\n",
       "    </tr>\n",
       "    <tr>\n",
       "      <th>Graduate/Trainee Consultant</th>\n",
       "      <td>160</td>\n",
       "      <td>103</td>\n",
       "      <td>263</td>\n",
       "    </tr>\n",
       "    <tr>\n",
       "      <th>Consultant</th>\n",
       "      <td>139</td>\n",
       "      <td>104</td>\n",
       "      <td>243</td>\n",
       "    </tr>\n",
       "    <tr>\n",
       "      <th>Senior Consultant</th>\n",
       "      <td>98</td>\n",
       "      <td>152</td>\n",
       "      <td>250</td>\n",
       "    </tr>\n",
       "    <tr>\n",
       "      <th>Managing Consultant</th>\n",
       "      <td>68</td>\n",
       "      <td>171</td>\n",
       "      <td>239</td>\n",
       "    </tr>\n",
       "    <tr>\n",
       "      <th>Principal Consultant</th>\n",
       "      <td>19</td>\n",
       "      <td>62</td>\n",
       "      <td>81</td>\n",
       "    </tr>\n",
       "    <tr>\n",
       "      <th>Partner</th>\n",
       "      <td>4</td>\n",
       "      <td>29</td>\n",
       "      <td>33</td>\n",
       "    </tr>\n",
       "    <tr>\n",
       "      <th>Total</th>\n",
       "      <td>746</td>\n",
       "      <td>745</td>\n",
       "      <td>1491</td>\n",
       "    </tr>\n",
       "  </tbody>\n",
       "</table>\n",
       "</div>"
      ],
      "text/plain": [
       "                             Number of Women in Role  Number of Men in Role  \\\n",
       "Clerical/Officer                                  31                      8   \n",
       "Administrator/Assistant                          227                    116   \n",
       "Graduate/Trainee Consultant                      160                    103   \n",
       "Consultant                                       139                    104   \n",
       "Senior Consultant                                 98                    152   \n",
       "Managing Consultant                               68                    171   \n",
       "Principal Consultant                              19                     62   \n",
       "Partner                                            4                     29   \n",
       "Total                                            746                    745   \n",
       "\n",
       "                             Number of People Currently in Role  \n",
       "Clerical/Officer                                             39  \n",
       "Administrator/Assistant                                     343  \n",
       "Graduate/Trainee Consultant                                 263  \n",
       "Consultant                                                  243  \n",
       "Senior Consultant                                           250  \n",
       "Managing Consultant                                         239  \n",
       "Principal Consultant                                         81  \n",
       "Partner                                                      33  \n",
       "Total                                                      1491  "
      ]
     },
     "execution_count": 6,
     "metadata": {},
     "output_type": "execute_result"
    }
   ],
   "source": [
    "# Table 4.3\n",
    "data_crosstab = pd.crosstab(df['JobGrade'],\n",
    "                            df['Gender'],\n",
    "                            margins=True)\n",
    "data_crosstab.columns = ['Number of Women in Role',\n",
    "                         'Number of Men in Role',\n",
    "                         'Number of People Currently in Role']\n",
    "data_crosstab.index = ['Clerical/Officer','Administrator/Assistant','Graduate/Trainee Consultant',\n",
    "                       'Consultant','Senior Consultant','Managing Consultant',\n",
    "                       'Principal Consultant','Partner', \"Total\"]\n",
    "data_crosstab"
   ]
  },
  {
   "cell_type": "markdown",
   "id": "bd8dca7d",
   "metadata": {},
   "source": [
    "## Results"
   ]
  },
  {
   "cell_type": "code",
   "execution_count": 7,
   "id": "1ec089e0",
   "metadata": {},
   "outputs": [
    {
     "name": "stdout",
     "output_type": "stream",
     "text": [
      "expected frequency \n",
      " [[  19.51307847   19.48692153   39.        ]\n",
      " [ 171.61502347  171.38497653  343.        ]\n",
      " [ 131.58819584  131.41180416  263.        ]\n",
      " [ 121.58148893  121.41851107  243.        ]\n",
      " [ 125.08383635  124.91616365  250.        ]\n",
      " [ 119.58014755  119.41985245  239.        ]\n",
      " [  40.52716298   40.47283702   81.        ]\n",
      " [  16.5110664    16.4889336    33.        ]\n",
      " [ 746.          745.         1491.        ]]\n",
      "degree of freedom \n",
      " 16\n",
      "chi-square value \n",
      " 164.69922896095545\n",
      "p-value \n",
      " 9.578060074090229e-27\n"
     ]
    }
   ],
   "source": [
    "chi2, p, dof, exp = stats.chi2_contingency(data_crosstab, correction=False)\n",
    "print(\"expected frequency\", \"\\n\", exp)\n",
    "print(\"degree of freedom\", \"\\n\", dof)\n",
    "print(\"chi-square value\", \"\\n\", chi2)\n",
    "print(\"p-value\", \"\\n\", p)"
   ]
  },
  {
   "cell_type": "markdown",
   "id": "682e6c6f",
   "metadata": {},
   "source": [
    "**In this organization women are under-represented in senior roles (to a level of certainty that means it pretty much could never happen by chance alone) and no one could try to deny it due to the overwhelming evidence.**"
   ]
  },
  {
   "cell_type": "markdown",
   "id": "31a3fa6b",
   "metadata": {},
   "source": [
    "# Example 2a: exploring ethnic diversity across teams using descriptive statistics"
   ]
  },
  {
   "cell_type": "markdown",
   "id": "35db56bc",
   "metadata": {},
   "source": [
    "Please download the original file converted to csv."
   ]
  },
  {
   "cell_type": "code",
   "execution_count": 8,
   "id": "3f9ce1ba",
   "metadata": {},
   "outputs": [],
   "source": [
    "df2 = pd.read_csv(\"Chapter 4Diversity CASE Group level data.csv\")"
   ]
  },
  {
   "cell_type": "code",
   "execution_count": 9,
   "id": "c5acc315",
   "metadata": {},
   "outputs": [
    {
     "data": {
      "text/html": [
       "<div>\n",
       "<style scoped>\n",
       "    .dataframe tbody tr th:only-of-type {\n",
       "        vertical-align: middle;\n",
       "    }\n",
       "\n",
       "    .dataframe tbody tr th {\n",
       "        vertical-align: top;\n",
       "    }\n",
       "\n",
       "    .dataframe thead th {\n",
       "        text-align: right;\n",
       "    }\n",
       "</style>\n",
       "<table border=\"1\" class=\"dataframe\">\n",
       "  <thead>\n",
       "    <tr style=\"text-align: right;\">\n",
       "      <th></th>\n",
       "      <th>DepartmentGroupNumber</th>\n",
       "      <th>GroupSize</th>\n",
       "      <th>PercentMale</th>\n",
       "      <th>BAME</th>\n",
       "      <th>NumberTeamLeads</th>\n",
       "      <th>NumberFeMaleTeamLeads</th>\n",
       "      <th>Location</th>\n",
       "      <th>LondonorNot</th>\n",
       "      <th>Function</th>\n",
       "      <th>EMPsurvEngage_1</th>\n",
       "      <th>EMPsurvEngage_2</th>\n",
       "      <th>EMPsurvEngage_3</th>\n",
       "      <th>EMPsurvEngage_4</th>\n",
       "      <th>EMPsurvEngage_5</th>\n",
       "      <th>EMPsurvEngage_6</th>\n",
       "      <th>EMPsurvEngage_7</th>\n",
       "      <th>EMPsurvEngage_8</th>\n",
       "      <th>EMPsurvEngage_9</th>\n",
       "      <th>EMPsurvEngagement</th>\n",
       "      <th>EMPorgIntegrity1</th>\n",
       "      <th>EMPorgIntegrity2</th>\n",
       "      <th>EMPorgIntegrity3</th>\n",
       "      <th>EMPorgIntegrity4</th>\n",
       "      <th>EMPorgIntegrity5</th>\n",
       "      <th>EmpSurvOrgIntegrity</th>\n",
       "      <th>EMPsurvSUP1</th>\n",
       "      <th>EMPsurvSUP2</th>\n",
       "      <th>EMPsurvSUP3</th>\n",
       "      <th>EMPsurvSUP4</th>\n",
       "      <th>EmpSurvSupervisor</th>\n",
       "    </tr>\n",
       "  </thead>\n",
       "  <tbody>\n",
       "    <tr>\n",
       "      <th>0</th>\n",
       "      <td>18</td>\n",
       "      <td>18.0</td>\n",
       "      <td>65.0</td>\n",
       "      <td>NaN</td>\n",
       "      <td>3.0</td>\n",
       "      <td>1.0</td>\n",
       "      <td>1</td>\n",
       "      <td>1</td>\n",
       "      <td>2.0</td>\n",
       "      <td>100.0</td>\n",
       "      <td>100.0</td>\n",
       "      <td>94.0</td>\n",
       "      <td>78.0</td>\n",
       "      <td>100.0</td>\n",
       "      <td>94.0</td>\n",
       "      <td>89.0</td>\n",
       "      <td>72.0</td>\n",
       "      <td>78.0</td>\n",
       "      <td>89.0</td>\n",
       "      <td>72.0</td>\n",
       "      <td>78.0</td>\n",
       "      <td>89.0</td>\n",
       "      <td>89.0</td>\n",
       "      <td>18.0</td>\n",
       "      <td>69.2</td>\n",
       "      <td>72.0</td>\n",
       "      <td>89.0</td>\n",
       "      <td>89.0</td>\n",
       "      <td>83.0</td>\n",
       "      <td>83.25</td>\n",
       "    </tr>\n",
       "    <tr>\n",
       "      <th>1</th>\n",
       "      <td>19</td>\n",
       "      <td>28.0</td>\n",
       "      <td>67.0</td>\n",
       "      <td>NaN</td>\n",
       "      <td>4.0</td>\n",
       "      <td>0.0</td>\n",
       "      <td>1</td>\n",
       "      <td>1</td>\n",
       "      <td>2.0</td>\n",
       "      <td>96.0</td>\n",
       "      <td>86.0</td>\n",
       "      <td>86.0</td>\n",
       "      <td>54.0</td>\n",
       "      <td>96.0</td>\n",
       "      <td>57.0</td>\n",
       "      <td>89.0</td>\n",
       "      <td>82.0</td>\n",
       "      <td>82.0</td>\n",
       "      <td>81.0</td>\n",
       "      <td>75.0</td>\n",
       "      <td>86.0</td>\n",
       "      <td>89.0</td>\n",
       "      <td>89.0</td>\n",
       "      <td>19.0</td>\n",
       "      <td>71.6</td>\n",
       "      <td>79.0</td>\n",
       "      <td>79.0</td>\n",
       "      <td>64.0</td>\n",
       "      <td>82.0</td>\n",
       "      <td>76.00</td>\n",
       "    </tr>\n",
       "    <tr>\n",
       "      <th>2</th>\n",
       "      <td>29</td>\n",
       "      <td>11.0</td>\n",
       "      <td>33.0</td>\n",
       "      <td>NaN</td>\n",
       "      <td>2.0</td>\n",
       "      <td>0.0</td>\n",
       "      <td>1</td>\n",
       "      <td>1</td>\n",
       "      <td>2.0</td>\n",
       "      <td>100.0</td>\n",
       "      <td>91.0</td>\n",
       "      <td>100.0</td>\n",
       "      <td>82.0</td>\n",
       "      <td>100.0</td>\n",
       "      <td>82.0</td>\n",
       "      <td>100.0</td>\n",
       "      <td>73.0</td>\n",
       "      <td>91.0</td>\n",
       "      <td>91.0</td>\n",
       "      <td>73.0</td>\n",
       "      <td>91.0</td>\n",
       "      <td>91.0</td>\n",
       "      <td>91.0</td>\n",
       "      <td>29.0</td>\n",
       "      <td>75.0</td>\n",
       "      <td>73.0</td>\n",
       "      <td>91.0</td>\n",
       "      <td>73.0</td>\n",
       "      <td>73.0</td>\n",
       "      <td>77.50</td>\n",
       "    </tr>\n",
       "    <tr>\n",
       "      <th>3</th>\n",
       "      <td>30</td>\n",
       "      <td>17.0</td>\n",
       "      <td>32.0</td>\n",
       "      <td>NaN</td>\n",
       "      <td>2.0</td>\n",
       "      <td>0.0</td>\n",
       "      <td>1</td>\n",
       "      <td>1</td>\n",
       "      <td>2.0</td>\n",
       "      <td>100.0</td>\n",
       "      <td>100.0</td>\n",
       "      <td>100.0</td>\n",
       "      <td>94.0</td>\n",
       "      <td>100.0</td>\n",
       "      <td>88.0</td>\n",
       "      <td>100.0</td>\n",
       "      <td>88.0</td>\n",
       "      <td>94.0</td>\n",
       "      <td>96.0</td>\n",
       "      <td>100.0</td>\n",
       "      <td>100.0</td>\n",
       "      <td>100.0</td>\n",
       "      <td>100.0</td>\n",
       "      <td>30.0</td>\n",
       "      <td>86.0</td>\n",
       "      <td>100.0</td>\n",
       "      <td>100.0</td>\n",
       "      <td>100.0</td>\n",
       "      <td>100.0</td>\n",
       "      <td>100.00</td>\n",
       "    </tr>\n",
       "    <tr>\n",
       "      <th>4</th>\n",
       "      <td>35</td>\n",
       "      <td>32.0</td>\n",
       "      <td>18.0</td>\n",
       "      <td>NaN</td>\n",
       "      <td>5.0</td>\n",
       "      <td>3.0</td>\n",
       "      <td>1</td>\n",
       "      <td>1</td>\n",
       "      <td>2.0</td>\n",
       "      <td>81.0</td>\n",
       "      <td>69.0</td>\n",
       "      <td>72.0</td>\n",
       "      <td>44.0</td>\n",
       "      <td>81.0</td>\n",
       "      <td>44.0</td>\n",
       "      <td>84.0</td>\n",
       "      <td>38.0</td>\n",
       "      <td>47.0</td>\n",
       "      <td>62.0</td>\n",
       "      <td>59.0</td>\n",
       "      <td>81.0</td>\n",
       "      <td>88.0</td>\n",
       "      <td>78.0</td>\n",
       "      <td>35.0</td>\n",
       "      <td>68.2</td>\n",
       "      <td>81.0</td>\n",
       "      <td>78.0</td>\n",
       "      <td>72.0</td>\n",
       "      <td>75.0</td>\n",
       "      <td>76.50</td>\n",
       "    </tr>\n",
       "  </tbody>\n",
       "</table>\n",
       "</div>"
      ],
      "text/plain": [
       "   DepartmentGroupNumber  GroupSize  PercentMale  BAME  NumberTeamLeads  \\\n",
       "0                     18       18.0         65.0   NaN              3.0   \n",
       "1                     19       28.0         67.0   NaN              4.0   \n",
       "2                     29       11.0         33.0   NaN              2.0   \n",
       "3                     30       17.0         32.0   NaN              2.0   \n",
       "4                     35       32.0         18.0   NaN              5.0   \n",
       "\n",
       "   NumberFeMaleTeamLeads  Location  LondonorNot  Function  EMPsurvEngage_1  \\\n",
       "0                    1.0         1            1       2.0            100.0   \n",
       "1                    0.0         1            1       2.0             96.0   \n",
       "2                    0.0         1            1       2.0            100.0   \n",
       "3                    0.0         1            1       2.0            100.0   \n",
       "4                    3.0         1            1       2.0             81.0   \n",
       "\n",
       "   EMPsurvEngage_2  EMPsurvEngage_3  EMPsurvEngage_4  EMPsurvEngage_5  \\\n",
       "0            100.0             94.0             78.0            100.0   \n",
       "1             86.0             86.0             54.0             96.0   \n",
       "2             91.0            100.0             82.0            100.0   \n",
       "3            100.0            100.0             94.0            100.0   \n",
       "4             69.0             72.0             44.0             81.0   \n",
       "\n",
       "   EMPsurvEngage_6  EMPsurvEngage_7  EMPsurvEngage_8  EMPsurvEngage_9  \\\n",
       "0             94.0             89.0             72.0             78.0   \n",
       "1             57.0             89.0             82.0             82.0   \n",
       "2             82.0            100.0             73.0             91.0   \n",
       "3             88.0            100.0             88.0             94.0   \n",
       "4             44.0             84.0             38.0             47.0   \n",
       "\n",
       "   EMPsurvEngagement  EMPorgIntegrity1  EMPorgIntegrity2  EMPorgIntegrity3  \\\n",
       "0               89.0              72.0              78.0              89.0   \n",
       "1               81.0              75.0              86.0              89.0   \n",
       "2               91.0              73.0              91.0              91.0   \n",
       "3               96.0             100.0             100.0             100.0   \n",
       "4               62.0              59.0              81.0              88.0   \n",
       "\n",
       "   EMPorgIntegrity4  EMPorgIntegrity5  EmpSurvOrgIntegrity  EMPsurvSUP1  \\\n",
       "0              89.0              18.0                 69.2         72.0   \n",
       "1              89.0              19.0                 71.6         79.0   \n",
       "2              91.0              29.0                 75.0         73.0   \n",
       "3             100.0              30.0                 86.0        100.0   \n",
       "4              78.0              35.0                 68.2         81.0   \n",
       "\n",
       "   EMPsurvSUP2  EMPsurvSUP3  EMPsurvSUP4  EmpSurvSupervisor  \n",
       "0         89.0         89.0         83.0              83.25  \n",
       "1         79.0         64.0         82.0              76.00  \n",
       "2         91.0         73.0         73.0              77.50  \n",
       "3        100.0        100.0        100.0             100.00  \n",
       "4         78.0         72.0         75.0              76.50  "
      ]
     },
     "execution_count": 9,
     "metadata": {},
     "output_type": "execute_result"
    }
   ],
   "source": [
    "pd.set_option('display.max_columns', None)\n",
    "df2.head()"
   ]
  },
  {
   "cell_type": "code",
   "execution_count": 10,
   "id": "23ecc626",
   "metadata": {},
   "outputs": [
    {
     "name": "stdout",
     "output_type": "stream",
     "text": [
      "(928, 30)\n"
     ]
    }
   ],
   "source": [
    "print(df2.shape)"
   ]
  },
  {
   "cell_type": "code",
   "execution_count": 11,
   "id": "b7fcd52c",
   "metadata": {},
   "outputs": [],
   "source": [
    "#df2.info()"
   ]
  },
  {
   "cell_type": "markdown",
   "id": "71873cce",
   "metadata": {},
   "source": [
    "## Results"
   ]
  },
  {
   "cell_type": "code",
   "execution_count": 12,
   "id": "19b00f8e",
   "metadata": {},
   "outputs": [
    {
     "name": "stdout",
     "output_type": "stream",
     "text": [
      "count    927.000000\n",
      "mean      58.947141\n",
      "std       22.265927\n",
      "min        1.000000\n",
      "25%       45.000000\n",
      "50%       65.000000\n",
      "75%       67.000000\n",
      "max      100.000000\n",
      "Name: PercentMale, dtype: float64\n",
      "count    746.000000\n",
      "mean       0.118391\n",
      "std        0.113308\n",
      "min        0.000000\n",
      "25%        0.030000\n",
      "50%        0.090000\n",
      "75%        0.200000\n",
      "max        0.450000\n",
      "Name: BAME, dtype: float64\n"
     ]
    }
   ],
   "source": [
    "print(df2['PercentMale'].describe())\n",
    "print(df2['BAME'].describe())"
   ]
  },
  {
   "cell_type": "markdown",
   "id": "a8921fca",
   "metadata": {},
   "source": [
    "# Example 2b: comparing ethnicity and gender across two functions in an organization using the independent samples t-test"
   ]
  },
  {
   "cell_type": "code",
   "execution_count": 13,
   "id": "89626b76",
   "metadata": {},
   "outputs": [],
   "source": [
    "Binary = df2['Function']\n",
    "Male = df2['PercentMale']\n",
    "Bame = df2['BAME']"
   ]
  },
  {
   "cell_type": "code",
   "execution_count": 14,
   "id": "486a9469",
   "metadata": {},
   "outputs": [
    {
     "data": {
      "text/plain": [
       "1.0    502\n",
       "2.0    425\n",
       "Name: Function, dtype: int64"
      ]
     },
     "execution_count": 14,
     "metadata": {},
     "output_type": "execute_result"
    }
   ],
   "source": [
    "Binary.value_counts()"
   ]
  },
  {
   "cell_type": "code",
   "execution_count": 15,
   "id": "3dd4215a",
   "metadata": {},
   "outputs": [
    {
     "data": {
      "text/plain": [
       "0    False\n",
       "1    False\n",
       "2    False\n",
       "3    False\n",
       "4    False\n",
       "Name: Function, dtype: bool"
      ]
     },
     "execution_count": 15,
     "metadata": {},
     "output_type": "execute_result"
    }
   ],
   "source": [
    "Category1 = Binary == 1.0\n",
    "Category2 = Binary == 2.0\n",
    "Category1.head()"
   ]
  },
  {
   "cell_type": "code",
   "execution_count": 16,
   "id": "beba3055",
   "metadata": {},
   "outputs": [],
   "source": [
    "MaleCatScores1 = Male[Category1].dropna()\n",
    "MaleCatScores2 = Male[Category2].dropna()\n",
    "BameCatScores1 = Bame[Category1].dropna()\n",
    "BameCatScores2 = Bame[Category2].dropna()"
   ]
  },
  {
   "cell_type": "markdown",
   "id": "4c5ba7cf",
   "metadata": {},
   "source": [
    "## Results"
   ]
  },
  {
   "cell_type": "code",
   "execution_count": 17,
   "id": "e6ea0e7e",
   "metadata": {},
   "outputs": [
    {
     "data": {
      "text/plain": [
       "Ttest_indResult(statistic=22.89205009849689, pvalue=3.011880130027134e-92)"
      ]
     },
     "execution_count": 17,
     "metadata": {},
     "output_type": "execute_result"
    }
   ],
   "source": [
    "stats.ttest_ind(MaleCatScores1, MaleCatScores2)"
   ]
  },
  {
   "cell_type": "code",
   "execution_count": 18,
   "id": "e2e8dd25",
   "metadata": {},
   "outputs": [
    {
     "data": {
      "text/plain": [
       "Ttest_indResult(statistic=22.557481634011907, pvalue=3.183868258781252e-88)"
      ]
     },
     "execution_count": 18,
     "metadata": {},
     "output_type": "execute_result"
    }
   ],
   "source": [
    "stats.ttest_ind(MaleCatScores1, MaleCatScores2, equal_var=False)"
   ]
  },
  {
   "cell_type": "code",
   "execution_count": 19,
   "id": "66e5dd6f",
   "metadata": {},
   "outputs": [
    {
     "data": {
      "text/plain": [
       "Ttest_indResult(statistic=-5.769549252115938, pvalue=1.1660097024466872e-08)"
      ]
     },
     "execution_count": 19,
     "metadata": {},
     "output_type": "execute_result"
    }
   ],
   "source": [
    "stats.ttest_ind(BameCatScores1, BameCatScores2)"
   ]
  },
  {
   "cell_type": "code",
   "execution_count": 20,
   "id": "247b0599",
   "metadata": {},
   "outputs": [
    {
     "data": {
      "text/plain": [
       "Ttest_indResult(statistic=-5.655330335833106, pvalue=2.3448135116211877e-08)"
      ]
     },
     "execution_count": 20,
     "metadata": {},
     "output_type": "execute_result"
    }
   ],
   "source": [
    "stats.ttest_ind(BameCatScores1, BameCatScores2, equal_var=False)"
   ]
  },
  {
   "cell_type": "markdown",
   "id": "06faf5df",
   "metadata": {},
   "source": [
    "**In comparing the Sales and the Professional Service functions, the proportion of BAME staff is significantly lower in Sales than in Professional Service. The average proportion of BAME staff in teams within the Sales is 9.7 per cent, and by comparison the average proportion of BAME staff in teams within the Professional Service function is 14.39 per cent. Deeper analysis shows that the likelihood of this difference occurring by chance alone is less than 1 in 1,000; suggesting we have an issue that needs attention within the Sales function.**\n",
    "\n",
    "**In comparing the Sales and the Professional Service functions, the proportion of male staff is significantly higher in Sales than in Professional Service groups within our organization. The average percentage of male staff in teams within Sales is 71.26 per cent, and by comparison the average proportion of male staff in teams within the Professional Service function is 44.4 per cent. Deeper analysis shows the chance of this difference occurring by chance alone is less than 1 in 1,000, suggesting that we have a clear issue of male dominance within our Sales function; this potentially needs attention if we want gender proportions to be similar across our organization.**"
   ]
  },
  {
   "cell_type": "markdown",
   "id": "08de4ad2",
   "metadata": {},
   "source": [
    "# Example 3: using multiple linear regression to model and predict ethnic diversity variation across teams"
   ]
  },
  {
   "cell_type": "code",
   "execution_count": 21,
   "id": "731a3b46",
   "metadata": {},
   "outputs": [],
   "source": [
    "df2 = df2.dropna()"
   ]
  },
  {
   "cell_type": "code",
   "execution_count": 22,
   "id": "b9497319",
   "metadata": {},
   "outputs": [
    {
     "data": {
      "text/plain": [
       "(array([], dtype=int64), array([], dtype=int64))"
      ]
     },
     "execution_count": 22,
     "metadata": {},
     "output_type": "execute_result"
    }
   ],
   "source": [
    "np.where(np.isnan(df2))"
   ]
  },
  {
   "cell_type": "code",
   "execution_count": 23,
   "id": "79d9eb0e",
   "metadata": {},
   "outputs": [],
   "source": [
    "from sklearn.linear_model import LinearRegression\n",
    "# Setting the value for X and Y\n",
    "x = df2[['LondonorNot', 'Function', 'GroupSize', 'NumberFeMaleTeamLeads', 'PercentMale']]\n",
    "y = df2['BAME']\n",
    "\n",
    "# Splitting the dataset\n",
    "from sklearn.model_selection import train_test_split\n",
    "x_train, x_test, y_train, y_test = train_test_split(x, y, test_size = 0.2, random_state = 0)"
   ]
  },
  {
   "cell_type": "code",
   "execution_count": 24,
   "id": "9583636b",
   "metadata": {},
   "outputs": [
    {
     "data": {
      "text/plain": [
       "LinearRegression()"
      ]
     },
     "execution_count": 24,
     "metadata": {},
     "output_type": "execute_result"
    }
   ],
   "source": [
    "mlr = LinearRegression()  \n",
    "mlr.fit(x_train, y_train)"
   ]
  },
  {
   "cell_type": "code",
   "execution_count": 25,
   "id": "821893fc",
   "metadata": {},
   "outputs": [
    {
     "name": "stdout",
     "output_type": "stream",
     "text": [
      "intercept \n",
      " 0.22134449948000479\n",
      "coefficients\n"
     ]
    },
    {
     "data": {
      "text/plain": [
       "[('LondonorNot', -0.08697198415717153),\n",
       " ('Function', 0.03603078482696022),\n",
       " ('GroupSize', -0.00028387441044208916),\n",
       " ('NumberFeMaleTeamLeads', 0.000691657114285082),\n",
       " ('PercentMale', -0.000490364420537611)]"
      ]
     },
     "execution_count": 25,
     "metadata": {},
     "output_type": "execute_result"
    }
   ],
   "source": [
    "print(\"intercept\", \"\\n\", mlr.intercept_)\n",
    "print(\"coefficients\")\n",
    "list(zip(x, mlr.coef_))"
   ]
  },
  {
   "cell_type": "code",
   "execution_count": 26,
   "id": "c34d71d9",
   "metadata": {},
   "outputs": [
    {
     "name": "stdout",
     "output_type": "stream",
     "text": [
      "betas\n"
     ]
    },
    {
     "data": {
      "text/plain": [
       "array([-0.06255328,  0.09062557,  0.00031502,  0.00268716,  0.00095093])"
      ]
     },
     "execution_count": 26,
     "metadata": {},
     "output_type": "execute_result"
    }
   ],
   "source": [
    "regressor = LinearRegression(fit_intercept=False)\n",
    "regressor.fit(x, y)\n",
    "print(\"betas\")\n",
    "regressor.coef_ "
   ]
  },
  {
   "cell_type": "code",
   "execution_count": 27,
   "id": "97b32013",
   "metadata": {},
   "outputs": [
    {
     "name": "stdout",
     "output_type": "stream",
     "text": [
      "Prediction for test set: [0.10826189 0.1214655  0.13512312 0.03351279 0.13083934 0.18656169\n",
      " 0.03367315 0.19579603 0.16405704 0.05353995 0.04628352 0.10283143\n",
      " 0.10355915 0.16279244 0.16673582 0.02999324 0.12224493 0.16178605\n",
      " 0.11496165 0.03498388 0.12531142 0.15951505 0.18300004 0.13716196\n",
      " 0.16872334 0.12983334 0.04802282 0.11534377 0.16228168 0.18729987\n",
      " 0.07218142 0.17843199 0.17087003 0.04599925 0.16658665 0.18071904\n",
      " 0.10626918 0.13471053 0.12575487 0.09982226 0.16291674 0.17714251\n",
      " 0.03906715 0.17350347 0.15497306 0.02587864 0.03878289 0.11440437\n",
      " 0.12162546 0.02840785 0.12644692 0.17368311 0.08178221 0.11610274\n",
      " 0.16551294 0.09951232 0.08361417 0.05653905 0.17058616 0.02982722\n",
      " 0.12388685 0.0735186  0.12425811 0.10510863 0.1229891  0.19105236\n",
      " 0.11821858 0.03338967 0.1307359  0.13001299 0.04482203 0.17306443\n",
      " 0.11486319 0.11829675 0.0529722  0.07222314 0.08020768 0.1284653\n",
      " 0.16652933 0.16547642 0.10921237 0.13135537 0.18565874 0.10327047\n",
      " 0.13398762 0.18444547 0.08730013 0.1696784  0.16689579 0.0770594\n",
      " 0.04515243 0.05852617 0.04912667 0.11483775 0.12234877 0.16049059\n",
      " 0.02986335 0.13042077 0.13540699 0.09922845 0.04154425 0.13218172\n",
      " 0.1664832  0.13248606 0.16676668 0.15696018 0.1818906  0.11984003\n",
      " 0.11602576 0.1855453  0.0526418  0.09333927 0.13013209 0.09122824\n",
      " 0.07956215 0.13718361 0.1342663  0.03066845 0.13240828 0.1310663\n",
      " 0.12162546 0.12871792 0.12149715 0.0770494  0.13104623 0.11455387\n",
      " 0.04105428 0.17912963 0.18724815 0.03072096 0.08004771 0.12944563\n",
      " 0.13480319 0.03785388 0.11568937 0.03901583 0.18302609 0.10995955\n",
      " 0.11656745 0.08482745 0.18196837 0.13016815 0.03931497 0.16931675\n",
      " 0.04040875 0.19012335]\n"
     ]
    }
   ],
   "source": [
    "# Prediction of test set\n",
    "y_pred_mlr= mlr.predict(x_test)\n",
    "# Predicted values\n",
    "print(\"Prediction for test set: {}\".format(y_pred_mlr))"
   ]
  },
  {
   "cell_type": "code",
   "execution_count": 28,
   "id": "dac9b82e",
   "metadata": {},
   "outputs": [],
   "source": [
    "# Actual value and the predicted value\n",
    "mlr_diff = pd.DataFrame({'Actual value': y_test, 'Predicted value': y_pred_mlr})"
   ]
  },
  {
   "cell_type": "code",
   "execution_count": 29,
   "id": "7369cdb4",
   "metadata": {},
   "outputs": [
    {
     "name": "stdout",
     "output_type": "stream",
     "text": [
      "R squared: 17.18\n",
      "Mean Absolute Error: 0.08300334683100785\n",
      "Mean Square Error: 0.010849021961994387\n",
      "Root Mean Square Error: 0.10415863844153488\n"
     ]
    }
   ],
   "source": [
    "# Model Evaluation\n",
    "from sklearn import metrics\n",
    "meanAbErr = metrics.mean_absolute_error(y_test, y_pred_mlr)\n",
    "meanSqErr = metrics.mean_squared_error(y_test, y_pred_mlr)\n",
    "rootMeanSqErr = np.sqrt(metrics.mean_squared_error(y_test, y_pred_mlr))\n",
    "print('R squared: {:.2f}'.format(mlr.score(x,y)*100))\n",
    "print('Mean Absolute Error:', meanAbErr)\n",
    "print('Mean Square Error:', meanSqErr)\n",
    "print('Root Mean Square Error:', rootMeanSqErr)"
   ]
  },
  {
   "cell_type": "code",
   "execution_count": 30,
   "id": "e261f8a4",
   "metadata": {},
   "outputs": [
    {
     "name": "stdout",
     "output_type": "stream",
     "text": [
      "                                 OLS Regression Results                                \n",
      "=======================================================================================\n",
      "Dep. Variable:                   BAME   R-squared (uncentered):                   0.581\n",
      "Model:                            OLS   Adj. R-squared (uncentered):              0.578\n",
      "Method:                 Least Squares   F-statistic:                              201.0\n",
      "Date:                Thu, 14 Apr 2022   Prob (F-statistic):                   2.84e-134\n",
      "Time:                        02:59:27   Log-Likelihood:                          599.81\n",
      "No. Observations:                 730   AIC:                                     -1190.\n",
      "Df Residuals:                     725   BIC:                                     -1167.\n",
      "Df Model:                           5                                                  \n",
      "Covariance Type:            nonrobust                                                  \n",
      "=========================================================================================\n",
      "                            coef    std err          t      P>|t|      [0.025      0.975]\n",
      "-----------------------------------------------------------------------------------------\n",
      "LondonorNot              -0.0626      0.008     -8.277      0.000      -0.077      -0.048\n",
      "Function                  0.0906      0.006     14.690      0.000       0.079       0.103\n",
      "GroupSize                 0.0003      0.000      1.317      0.188      -0.000       0.001\n",
      "NumberFeMaleTeamLeads     0.0027      0.004      0.710      0.478      -0.005       0.010\n",
      "PercentMale               0.0010      0.000      6.476      0.000       0.001       0.001\n",
      "==============================================================================\n",
      "Omnibus:                       60.976   Durbin-Watson:                   0.343\n",
      "Prob(Omnibus):                  0.000   Jarque-Bera (JB):               75.396\n",
      "Skew:                           0.785   Prob(JB):                     4.25e-17\n",
      "Kurtosis:                       2.888   Cond. No.                         151.\n",
      "==============================================================================\n",
      "\n",
      "Notes:\n",
      "[1] R² is computed without centering (uncentered) since the model does not contain a constant.\n",
      "[2] Standard Errors assume that the covariance matrix of the errors is correctly specified.\n"
     ]
    }
   ],
   "source": [
    "import statsmodels.api as sm\n",
    "\n",
    "sm.add_constant(x)\n",
    "mod = sm.OLS(y, x)\n",
    "mlr = mod.fit()\n",
    "\n",
    "print(mlr.summary())"
   ]
  }
 ],
 "metadata": {
  "kernelspec": {
   "display_name": "Python 3 (ipykernel)",
   "language": "python",
   "name": "python3"
  },
  "language_info": {
   "codemirror_mode": {
    "name": "ipython",
    "version": 3
   },
   "file_extension": ".py",
   "mimetype": "text/x-python",
   "name": "python",
   "nbconvert_exporter": "python",
   "pygments_lexer": "ipython3",
   "version": "3.9.12"
  }
 },
 "nbformat": 4,
 "nbformat_minor": 5
}
