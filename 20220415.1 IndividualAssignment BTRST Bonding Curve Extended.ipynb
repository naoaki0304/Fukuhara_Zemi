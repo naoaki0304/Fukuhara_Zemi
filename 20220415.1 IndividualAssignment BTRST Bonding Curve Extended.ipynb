{
 "cells": [
  {
   "cell_type": "markdown",
   "id": "6bcb6674",
   "metadata": {},
   "source": [
    "# IndividualAssignment BTRST Bonding Curve Extended\n",
    "\n",
    "### Table of Contents\n",
    "- **Loading the data and python packages**\n",
    "- **Extended Code**\n",
    "- **Previous Code**"
   ]
  },
  {
   "cell_type": "code",
   "execution_count": 1,
   "id": "fe53a1fa",
   "metadata": {},
   "outputs": [],
   "source": [
    "from cryptocmd import CmcScraper\n",
    "# Initialise scraper without time interval for max historical data\n",
    "scraper = CmcScraper(\"BTRST\")\n",
    "# Pandas dataFrame for the same data\n",
    "df = scraper.get_dataframe()"
   ]
  },
  {
   "cell_type": "code",
   "execution_count": 2,
   "id": "d21a763c",
   "metadata": {},
   "outputs": [
    {
     "data": {
      "text/html": [
       "<div>\n",
       "<style scoped>\n",
       "    .dataframe tbody tr th:only-of-type {\n",
       "        vertical-align: middle;\n",
       "    }\n",
       "\n",
       "    .dataframe tbody tr th {\n",
       "        vertical-align: top;\n",
       "    }\n",
       "\n",
       "    .dataframe thead th {\n",
       "        text-align: right;\n",
       "    }\n",
       "</style>\n",
       "<table border=\"1\" class=\"dataframe\">\n",
       "  <thead>\n",
       "    <tr style=\"text-align: right;\">\n",
       "      <th></th>\n",
       "      <th>Date</th>\n",
       "      <th>Open</th>\n",
       "      <th>High</th>\n",
       "      <th>Low</th>\n",
       "      <th>Close</th>\n",
       "      <th>Volume</th>\n",
       "      <th>Market Cap</th>\n",
       "    </tr>\n",
       "  </thead>\n",
       "  <tbody>\n",
       "    <tr>\n",
       "      <th>0</th>\n",
       "      <td>2022-04-12</td>\n",
       "      <td>3.771753</td>\n",
       "      <td>3.827012</td>\n",
       "      <td>3.744826</td>\n",
       "      <td>3.818865</td>\n",
       "      <td>3101005.76</td>\n",
       "      <td>3.402552e+08</td>\n",
       "    </tr>\n",
       "    <tr>\n",
       "      <th>1</th>\n",
       "      <td>2022-04-11</td>\n",
       "      <td>3.955991</td>\n",
       "      <td>3.966467</td>\n",
       "      <td>3.771506</td>\n",
       "      <td>3.771506</td>\n",
       "      <td>4298393.84</td>\n",
       "      <td>3.360356e+08</td>\n",
       "    </tr>\n",
       "    <tr>\n",
       "      <th>2</th>\n",
       "      <td>2022-04-10</td>\n",
       "      <td>3.931879</td>\n",
       "      <td>3.980198</td>\n",
       "      <td>3.923310</td>\n",
       "      <td>3.955061</td>\n",
       "      <td>3140180.62</td>\n",
       "      <td>3.523901e+08</td>\n",
       "    </tr>\n",
       "    <tr>\n",
       "      <th>3</th>\n",
       "      <td>2022-04-09</td>\n",
       "      <td>4.115032</td>\n",
       "      <td>4.171639</td>\n",
       "      <td>3.931579</td>\n",
       "      <td>3.931579</td>\n",
       "      <td>3855338.57</td>\n",
       "      <td>3.502978e+08</td>\n",
       "    </tr>\n",
       "    <tr>\n",
       "      <th>4</th>\n",
       "      <td>2022-04-08</td>\n",
       "      <td>3.913211</td>\n",
       "      <td>4.214166</td>\n",
       "      <td>3.884896</td>\n",
       "      <td>4.116105</td>\n",
       "      <td>4329152.63</td>\n",
       "      <td>3.667388e+08</td>\n",
       "    </tr>\n",
       "    <tr>\n",
       "      <th>...</th>\n",
       "      <td>...</td>\n",
       "      <td>...</td>\n",
       "      <td>...</td>\n",
       "      <td>...</td>\n",
       "      <td>...</td>\n",
       "      <td>...</td>\n",
       "      <td>...</td>\n",
       "    </tr>\n",
       "    <tr>\n",
       "      <th>205</th>\n",
       "      <td>2021-09-19</td>\n",
       "      <td>17.900943</td>\n",
       "      <td>18.436870</td>\n",
       "      <td>15.791937</td>\n",
       "      <td>15.797530</td>\n",
       "      <td>17453778.18</td>\n",
       "      <td>0.000000e+00</td>\n",
       "    </tr>\n",
       "    <tr>\n",
       "      <th>206</th>\n",
       "      <td>2021-09-18</td>\n",
       "      <td>21.110870</td>\n",
       "      <td>21.342336</td>\n",
       "      <td>17.879866</td>\n",
       "      <td>17.879866</td>\n",
       "      <td>13985399.88</td>\n",
       "      <td>0.000000e+00</td>\n",
       "    </tr>\n",
       "    <tr>\n",
       "      <th>207</th>\n",
       "      <td>2021-09-17</td>\n",
       "      <td>26.847824</td>\n",
       "      <td>39.128979</td>\n",
       "      <td>21.059964</td>\n",
       "      <td>21.110367</td>\n",
       "      <td>19765436.70</td>\n",
       "      <td>0.000000e+00</td>\n",
       "    </tr>\n",
       "    <tr>\n",
       "      <th>208</th>\n",
       "      <td>2021-09-16</td>\n",
       "      <td>32.584953</td>\n",
       "      <td>47.852999</td>\n",
       "      <td>26.504759</td>\n",
       "      <td>26.793431</td>\n",
       "      <td>80866494.90</td>\n",
       "      <td>0.000000e+00</td>\n",
       "    </tr>\n",
       "    <tr>\n",
       "      <th>209</th>\n",
       "      <td>2021-09-15</td>\n",
       "      <td>9.977997</td>\n",
       "      <td>41.652963</td>\n",
       "      <td>9.813615</td>\n",
       "      <td>32.551552</td>\n",
       "      <td>34312712.16</td>\n",
       "      <td>0.000000e+00</td>\n",
       "    </tr>\n",
       "  </tbody>\n",
       "</table>\n",
       "<p>210 rows × 7 columns</p>\n",
       "</div>"
      ],
      "text/plain": [
       "          Date       Open       High        Low      Close       Volume  \\\n",
       "0   2022-04-12   3.771753   3.827012   3.744826   3.818865   3101005.76   \n",
       "1   2022-04-11   3.955991   3.966467   3.771506   3.771506   4298393.84   \n",
       "2   2022-04-10   3.931879   3.980198   3.923310   3.955061   3140180.62   \n",
       "3   2022-04-09   4.115032   4.171639   3.931579   3.931579   3855338.57   \n",
       "4   2022-04-08   3.913211   4.214166   3.884896   4.116105   4329152.63   \n",
       "..         ...        ...        ...        ...        ...          ...   \n",
       "205 2021-09-19  17.900943  18.436870  15.791937  15.797530  17453778.18   \n",
       "206 2021-09-18  21.110870  21.342336  17.879866  17.879866  13985399.88   \n",
       "207 2021-09-17  26.847824  39.128979  21.059964  21.110367  19765436.70   \n",
       "208 2021-09-16  32.584953  47.852999  26.504759  26.793431  80866494.90   \n",
       "209 2021-09-15   9.977997  41.652963   9.813615  32.551552  34312712.16   \n",
       "\n",
       "       Market Cap  \n",
       "0    3.402552e+08  \n",
       "1    3.360356e+08  \n",
       "2    3.523901e+08  \n",
       "3    3.502978e+08  \n",
       "4    3.667388e+08  \n",
       "..            ...  \n",
       "205  0.000000e+00  \n",
       "206  0.000000e+00  \n",
       "207  0.000000e+00  \n",
       "208  0.000000e+00  \n",
       "209  0.000000e+00  \n",
       "\n",
       "[210 rows x 7 columns]"
      ]
     },
     "execution_count": 2,
     "metadata": {},
     "output_type": "execute_result"
    }
   ],
   "source": [
    "df"
   ]
  },
  {
   "cell_type": "code",
   "execution_count": 3,
   "id": "d9d4d12f",
   "metadata": {},
   "outputs": [
    {
     "data": {
      "text/html": [
       "<div>\n",
       "<style scoped>\n",
       "    .dataframe tbody tr th:only-of-type {\n",
       "        vertical-align: middle;\n",
       "    }\n",
       "\n",
       "    .dataframe tbody tr th {\n",
       "        vertical-align: top;\n",
       "    }\n",
       "\n",
       "    .dataframe thead th {\n",
       "        text-align: right;\n",
       "    }\n",
       "</style>\n",
       "<table border=\"1\" class=\"dataframe\">\n",
       "  <thead>\n",
       "    <tr style=\"text-align: right;\">\n",
       "      <th></th>\n",
       "      <th>Date</th>\n",
       "      <th>Open</th>\n",
       "      <th>High</th>\n",
       "      <th>Low</th>\n",
       "      <th>Close</th>\n",
       "      <th>Volume</th>\n",
       "      <th>Market Cap</th>\n",
       "      <th>Token Supply</th>\n",
       "    </tr>\n",
       "  </thead>\n",
       "  <tbody>\n",
       "    <tr>\n",
       "      <th>0</th>\n",
       "      <td>2022-04-12</td>\n",
       "      <td>3.771753</td>\n",
       "      <td>3.827012</td>\n",
       "      <td>3.744826</td>\n",
       "      <td>3.818865</td>\n",
       "      <td>3101005.76</td>\n",
       "      <td>3.402552e+08</td>\n",
       "      <td>8.909852e+07</td>\n",
       "    </tr>\n",
       "    <tr>\n",
       "      <th>1</th>\n",
       "      <td>2022-04-11</td>\n",
       "      <td>3.955991</td>\n",
       "      <td>3.966467</td>\n",
       "      <td>3.771506</td>\n",
       "      <td>3.771506</td>\n",
       "      <td>4298393.84</td>\n",
       "      <td>3.360356e+08</td>\n",
       "      <td>8.909852e+07</td>\n",
       "    </tr>\n",
       "    <tr>\n",
       "      <th>2</th>\n",
       "      <td>2022-04-10</td>\n",
       "      <td>3.931879</td>\n",
       "      <td>3.980198</td>\n",
       "      <td>3.923310</td>\n",
       "      <td>3.955061</td>\n",
       "      <td>3140180.62</td>\n",
       "      <td>3.523901e+08</td>\n",
       "      <td>8.909852e+07</td>\n",
       "    </tr>\n",
       "    <tr>\n",
       "      <th>3</th>\n",
       "      <td>2022-04-09</td>\n",
       "      <td>4.115032</td>\n",
       "      <td>4.171639</td>\n",
       "      <td>3.931579</td>\n",
       "      <td>3.931579</td>\n",
       "      <td>3855338.57</td>\n",
       "      <td>3.502978e+08</td>\n",
       "      <td>8.909852e+07</td>\n",
       "    </tr>\n",
       "    <tr>\n",
       "      <th>4</th>\n",
       "      <td>2022-04-08</td>\n",
       "      <td>3.913211</td>\n",
       "      <td>4.214166</td>\n",
       "      <td>3.884896</td>\n",
       "      <td>4.116105</td>\n",
       "      <td>4329152.63</td>\n",
       "      <td>3.667388e+08</td>\n",
       "      <td>8.909852e+07</td>\n",
       "    </tr>\n",
       "    <tr>\n",
       "      <th>...</th>\n",
       "      <td>...</td>\n",
       "      <td>...</td>\n",
       "      <td>...</td>\n",
       "      <td>...</td>\n",
       "      <td>...</td>\n",
       "      <td>...</td>\n",
       "      <td>...</td>\n",
       "      <td>...</td>\n",
       "    </tr>\n",
       "    <tr>\n",
       "      <th>205</th>\n",
       "      <td>2021-09-19</td>\n",
       "      <td>17.900943</td>\n",
       "      <td>18.436870</td>\n",
       "      <td>15.791937</td>\n",
       "      <td>15.797530</td>\n",
       "      <td>17453778.18</td>\n",
       "      <td>0.000000e+00</td>\n",
       "      <td>0.000000e+00</td>\n",
       "    </tr>\n",
       "    <tr>\n",
       "      <th>206</th>\n",
       "      <td>2021-09-18</td>\n",
       "      <td>21.110870</td>\n",
       "      <td>21.342336</td>\n",
       "      <td>17.879866</td>\n",
       "      <td>17.879866</td>\n",
       "      <td>13985399.88</td>\n",
       "      <td>0.000000e+00</td>\n",
       "      <td>0.000000e+00</td>\n",
       "    </tr>\n",
       "    <tr>\n",
       "      <th>207</th>\n",
       "      <td>2021-09-17</td>\n",
       "      <td>26.847824</td>\n",
       "      <td>39.128979</td>\n",
       "      <td>21.059964</td>\n",
       "      <td>21.110367</td>\n",
       "      <td>19765436.70</td>\n",
       "      <td>0.000000e+00</td>\n",
       "      <td>0.000000e+00</td>\n",
       "    </tr>\n",
       "    <tr>\n",
       "      <th>208</th>\n",
       "      <td>2021-09-16</td>\n",
       "      <td>32.584953</td>\n",
       "      <td>47.852999</td>\n",
       "      <td>26.504759</td>\n",
       "      <td>26.793431</td>\n",
       "      <td>80866494.90</td>\n",
       "      <td>0.000000e+00</td>\n",
       "      <td>0.000000e+00</td>\n",
       "    </tr>\n",
       "    <tr>\n",
       "      <th>209</th>\n",
       "      <td>2021-09-15</td>\n",
       "      <td>9.977997</td>\n",
       "      <td>41.652963</td>\n",
       "      <td>9.813615</td>\n",
       "      <td>32.551552</td>\n",
       "      <td>34312712.16</td>\n",
       "      <td>0.000000e+00</td>\n",
       "      <td>0.000000e+00</td>\n",
       "    </tr>\n",
       "  </tbody>\n",
       "</table>\n",
       "<p>210 rows × 8 columns</p>\n",
       "</div>"
      ],
      "text/plain": [
       "          Date       Open       High        Low      Close       Volume  \\\n",
       "0   2022-04-12   3.771753   3.827012   3.744826   3.818865   3101005.76   \n",
       "1   2022-04-11   3.955991   3.966467   3.771506   3.771506   4298393.84   \n",
       "2   2022-04-10   3.931879   3.980198   3.923310   3.955061   3140180.62   \n",
       "3   2022-04-09   4.115032   4.171639   3.931579   3.931579   3855338.57   \n",
       "4   2022-04-08   3.913211   4.214166   3.884896   4.116105   4329152.63   \n",
       "..         ...        ...        ...        ...        ...          ...   \n",
       "205 2021-09-19  17.900943  18.436870  15.791937  15.797530  17453778.18   \n",
       "206 2021-09-18  21.110870  21.342336  17.879866  17.879866  13985399.88   \n",
       "207 2021-09-17  26.847824  39.128979  21.059964  21.110367  19765436.70   \n",
       "208 2021-09-16  32.584953  47.852999  26.504759  26.793431  80866494.90   \n",
       "209 2021-09-15   9.977997  41.652963   9.813615  32.551552  34312712.16   \n",
       "\n",
       "       Market Cap  Token Supply  \n",
       "0    3.402552e+08  8.909852e+07  \n",
       "1    3.360356e+08  8.909852e+07  \n",
       "2    3.523901e+08  8.909852e+07  \n",
       "3    3.502978e+08  8.909852e+07  \n",
       "4    3.667388e+08  8.909852e+07  \n",
       "..            ...           ...  \n",
       "205  0.000000e+00  0.000000e+00  \n",
       "206  0.000000e+00  0.000000e+00  \n",
       "207  0.000000e+00  0.000000e+00  \n",
       "208  0.000000e+00  0.000000e+00  \n",
       "209  0.000000e+00  0.000000e+00  \n",
       "\n",
       "[210 rows x 8 columns]"
      ]
     },
     "execution_count": 3,
     "metadata": {},
     "output_type": "execute_result"
    }
   ],
   "source": [
    "df['Token Supply'] = df['Market Cap']/df['Close']\n",
    "df"
   ]
  },
  {
   "cell_type": "markdown",
   "id": "72313721",
   "metadata": {},
   "source": [
    "### Extended Code"
   ]
  },
  {
   "cell_type": "code",
   "execution_count": 4,
   "id": "e2895f71",
   "metadata": {},
   "outputs": [
    {
     "data": {
      "text/plain": [
       "<matplotlib.collections.PathCollection at 0x1ae6fbcc610>"
      ]
     },
     "execution_count": 4,
     "metadata": {},
     "output_type": "execute_result"
    },
    {
     "data": {
      "image/png": "[encoded data removed]",
      "text/plain": [
       "<Figure size 432x288 with 1 Axes>"
      ]
     },
     "metadata": {
      "needs_background": "light"
     },
     "output_type": "display_data"
    }
   ],
   "source": [
    "import matplotlib.pyplot as plt\n",
    "x = df['Token Supply'][:102]\n",
    "y = df['Close'][:102]\n",
    "plt.suptitle(\"BTRST Bonding Curve (2022/01/01 - 2022/04/12)\")\n",
    "plt.xlabel('Token Supply')\n",
    "plt.ylabel('Close')\n",
    "plt.scatter(x, y)"
   ]
  },
  {
   "cell_type": "code",
   "execution_count": 5,
   "id": "0e4901bd",
   "metadata": {},
   "outputs": [
    {
     "data": {
      "text/plain": [
       "<matplotlib.collections.PathCollection at 0x1ae70361850>"
      ]
     },
     "execution_count": 5,
     "metadata": {},
     "output_type": "execute_result"
    },
    {
     "data": {
      "image/png": "[encoded data removed]",
      "text/plain": [
       "<Figure size 432x288 with 1 Axes>"
      ]
     },
     "metadata": {
      "needs_background": "light"
     },
     "output_type": "display_data"
    }
   ],
   "source": [
    "import matplotlib.pyplot as plt\n",
    "x = df['Volume'][:102]\n",
    "y = df['Close'][:102]\n",
    "plt.suptitle(\"BTRST Bonding Curve (2022/01/01 - 2022/04/12)\")\n",
    "plt.xlabel('Volume')\n",
    "plt.ylabel('Close')\n",
    "plt.scatter(x, y)"
   ]
  },
  {
   "cell_type": "code",
   "execution_count": 6,
   "id": "e4615872",
   "metadata": {},
   "outputs": [
    {
     "data": {
      "text/plain": [
       "<matplotlib.collections.PathCollection at 0x1ae703d0cd0>"
      ]
     },
     "execution_count": 6,
     "metadata": {},
     "output_type": "execute_result"
    },
    {
     "data": {
      "image/png": "[encoded data removed]",
      "text/plain": [
       "<Figure size 432x288 with 1 Axes>"
      ]
     },
     "metadata": {
      "needs_background": "light"
     },
     "output_type": "display_data"
    }
   ],
   "source": [
    "x = df['Volume'][102:209]\n",
    "y = df['Close'][102:209]\n",
    "plt.suptitle(\"BTRST Bonding Curve (2022/09/15 - 2022/12/31)\")\n",
    "plt.xlabel('Volume')\n",
    "plt.ylabel('Close')\n",
    "plt.scatter(x, y)"
   ]
  },
  {
   "cell_type": "markdown",
   "id": "e4f51f16",
   "metadata": {},
   "source": [
    "### Previous Code"
   ]
  },
  {
   "cell_type": "code",
   "execution_count": 7,
   "id": "3b8f9e95",
   "metadata": {},
   "outputs": [
    {
     "data": {
      "text/plain": [
       "[<matplotlib.lines.Line2D at 0x1ae71407910>]"
      ]
     },
     "execution_count": 7,
     "metadata": {},
     "output_type": "execute_result"
    },
    {
     "data": {
      "image/png": "[encoded data removed]",
      "text/plain": [
       "<Figure size 432x288 with 1 Axes>"
      ]
     },
     "metadata": {
      "needs_background": "light"
     },
     "output_type": "display_data"
    }
   ],
   "source": [
    "x = df['Token Supply']\n",
    "y = df['Close']\n",
    "plt.suptitle(\"BTRST Bonding Curve\")\n",
    "plt.xlabel('Token Supply')\n",
    "plt.ylabel('Close')\n",
    "plt.plot(x, y)"
   ]
  },
  {
   "cell_type": "code",
   "execution_count": 8,
   "id": "a9502e37",
   "metadata": {},
   "outputs": [
    {
     "data": {
      "text/plain": [
       "181"
      ]
     },
     "execution_count": 8,
     "metadata": {},
     "output_type": "execute_result"
    }
   ],
   "source": [
    "df[df['Token Supply'] == 0].index[0]"
   ]
  },
  {
   "cell_type": "code",
   "execution_count": 9,
   "id": "f02937db",
   "metadata": {},
   "outputs": [
    {
     "data": {
      "text/html": [
       "<div>\n",
       "<style scoped>\n",
       "    .dataframe tbody tr th:only-of-type {\n",
       "        vertical-align: middle;\n",
       "    }\n",
       "\n",
       "    .dataframe tbody tr th {\n",
       "        vertical-align: top;\n",
       "    }\n",
       "\n",
       "    .dataframe thead th {\n",
       "        text-align: right;\n",
       "    }\n",
       "</style>\n",
       "<table border=\"1\" class=\"dataframe\">\n",
       "  <thead>\n",
       "    <tr style=\"text-align: right;\">\n",
       "      <th></th>\n",
       "      <th>Date</th>\n",
       "      <th>Open</th>\n",
       "      <th>High</th>\n",
       "      <th>Low</th>\n",
       "      <th>Close</th>\n",
       "      <th>Volume</th>\n",
       "      <th>Market Cap</th>\n",
       "      <th>Token Supply</th>\n",
       "    </tr>\n",
       "  </thead>\n",
       "  <tbody>\n",
       "    <tr>\n",
       "      <th>0</th>\n",
       "      <td>2022-04-12</td>\n",
       "      <td>3.771753</td>\n",
       "      <td>3.827012</td>\n",
       "      <td>3.744826</td>\n",
       "      <td>3.818865</td>\n",
       "      <td>3101005.76</td>\n",
       "      <td>3.402552e+08</td>\n",
       "      <td>8.909852e+07</td>\n",
       "    </tr>\n",
       "    <tr>\n",
       "      <th>1</th>\n",
       "      <td>2022-04-11</td>\n",
       "      <td>3.955991</td>\n",
       "      <td>3.966467</td>\n",
       "      <td>3.771506</td>\n",
       "      <td>3.771506</td>\n",
       "      <td>4298393.84</td>\n",
       "      <td>3.360356e+08</td>\n",
       "      <td>8.909852e+07</td>\n",
       "    </tr>\n",
       "    <tr>\n",
       "      <th>2</th>\n",
       "      <td>2022-04-10</td>\n",
       "      <td>3.931879</td>\n",
       "      <td>3.980198</td>\n",
       "      <td>3.923310</td>\n",
       "      <td>3.955061</td>\n",
       "      <td>3140180.62</td>\n",
       "      <td>3.523901e+08</td>\n",
       "      <td>8.909852e+07</td>\n",
       "    </tr>\n",
       "    <tr>\n",
       "      <th>3</th>\n",
       "      <td>2022-04-09</td>\n",
       "      <td>4.115032</td>\n",
       "      <td>4.171639</td>\n",
       "      <td>3.931579</td>\n",
       "      <td>3.931579</td>\n",
       "      <td>3855338.57</td>\n",
       "      <td>3.502978e+08</td>\n",
       "      <td>8.909852e+07</td>\n",
       "    </tr>\n",
       "    <tr>\n",
       "      <th>4</th>\n",
       "      <td>2022-04-08</td>\n",
       "      <td>3.913211</td>\n",
       "      <td>4.214166</td>\n",
       "      <td>3.884896</td>\n",
       "      <td>4.116105</td>\n",
       "      <td>4329152.63</td>\n",
       "      <td>3.667388e+08</td>\n",
       "      <td>8.909852e+07</td>\n",
       "    </tr>\n",
       "    <tr>\n",
       "      <th>...</th>\n",
       "      <td>...</td>\n",
       "      <td>...</td>\n",
       "      <td>...</td>\n",
       "      <td>...</td>\n",
       "      <td>...</td>\n",
       "      <td>...</td>\n",
       "      <td>...</td>\n",
       "      <td>...</td>\n",
       "    </tr>\n",
       "    <tr>\n",
       "      <th>176</th>\n",
       "      <td>2021-10-18</td>\n",
       "      <td>9.156835</td>\n",
       "      <td>9.748027</td>\n",
       "      <td>9.145083</td>\n",
       "      <td>9.193010</td>\n",
       "      <td>4101649.36</td>\n",
       "      <td>7.041710e+08</td>\n",
       "      <td>7.659852e+07</td>\n",
       "    </tr>\n",
       "    <tr>\n",
       "      <th>177</th>\n",
       "      <td>2021-10-17</td>\n",
       "      <td>9.240207</td>\n",
       "      <td>9.302528</td>\n",
       "      <td>9.098253</td>\n",
       "      <td>9.156846</td>\n",
       "      <td>3520909.07</td>\n",
       "      <td>7.014008e+08</td>\n",
       "      <td>7.659852e+07</td>\n",
       "    </tr>\n",
       "    <tr>\n",
       "      <th>178</th>\n",
       "      <td>2021-10-16</td>\n",
       "      <td>9.442123</td>\n",
       "      <td>9.469518</td>\n",
       "      <td>9.212340</td>\n",
       "      <td>9.240320</td>\n",
       "      <td>6082925.92</td>\n",
       "      <td>7.077948e+08</td>\n",
       "      <td>7.659852e+07</td>\n",
       "    </tr>\n",
       "    <tr>\n",
       "      <th>179</th>\n",
       "      <td>2021-10-15</td>\n",
       "      <td>10.211148</td>\n",
       "      <td>10.216426</td>\n",
       "      <td>9.359892</td>\n",
       "      <td>9.442136</td>\n",
       "      <td>8292314.24</td>\n",
       "      <td>7.232536e+08</td>\n",
       "      <td>7.659852e+07</td>\n",
       "    </tr>\n",
       "    <tr>\n",
       "      <th>180</th>\n",
       "      <td>2021-10-14</td>\n",
       "      <td>9.230860</td>\n",
       "      <td>10.399279</td>\n",
       "      <td>9.183115</td>\n",
       "      <td>10.211153</td>\n",
       "      <td>11996491.47</td>\n",
       "      <td>7.821592e+08</td>\n",
       "      <td>7.659852e+07</td>\n",
       "    </tr>\n",
       "  </tbody>\n",
       "</table>\n",
       "<p>181 rows × 8 columns</p>\n",
       "</div>"
      ],
      "text/plain": [
       "          Date       Open       High       Low      Close       Volume  \\\n",
       "0   2022-04-12   3.771753   3.827012  3.744826   3.818865   3101005.76   \n",
       "1   2022-04-11   3.955991   3.966467  3.771506   3.771506   4298393.84   \n",
       "2   2022-04-10   3.931879   3.980198  3.923310   3.955061   3140180.62   \n",
       "3   2022-04-09   4.115032   4.171639  3.931579   3.931579   3855338.57   \n",
       "4   2022-04-08   3.913211   4.214166  3.884896   4.116105   4329152.63   \n",
       "..         ...        ...        ...       ...        ...          ...   \n",
       "176 2021-10-18   9.156835   9.748027  9.145083   9.193010   4101649.36   \n",
       "177 2021-10-17   9.240207   9.302528  9.098253   9.156846   3520909.07   \n",
       "178 2021-10-16   9.442123   9.469518  9.212340   9.240320   6082925.92   \n",
       "179 2021-10-15  10.211148  10.216426  9.359892   9.442136   8292314.24   \n",
       "180 2021-10-14   9.230860  10.399279  9.183115  10.211153  11996491.47   \n",
       "\n",
       "       Market Cap  Token Supply  \n",
       "0    3.402552e+08  8.909852e+07  \n",
       "1    3.360356e+08  8.909852e+07  \n",
       "2    3.523901e+08  8.909852e+07  \n",
       "3    3.502978e+08  8.909852e+07  \n",
       "4    3.667388e+08  8.909852e+07  \n",
       "..            ...           ...  \n",
       "176  7.041710e+08  7.659852e+07  \n",
       "177  7.014008e+08  7.659852e+07  \n",
       "178  7.077948e+08  7.659852e+07  \n",
       "179  7.232536e+08  7.659852e+07  \n",
       "180  7.821592e+08  7.659852e+07  \n",
       "\n",
       "[181 rows x 8 columns]"
      ]
     },
     "execution_count": 9,
     "metadata": {},
     "output_type": "execute_result"
    }
   ],
   "source": [
    "df = df[0:df[df['Token Supply'] == 0].index[0]]\n",
    "df"
   ]
  },
  {
   "cell_type": "code",
   "execution_count": 10,
   "id": "be70beba",
   "metadata": {},
   "outputs": [
    {
     "data": {
      "text/plain": [
       "[<matplotlib.lines.Line2D at 0x1ae71803340>]"
      ]
     },
     "execution_count": 10,
     "metadata": {},
     "output_type": "execute_result"
    },
    {
     "data": {
      "image/png": "[encoded data removed]",
      "text/plain": [
       "<Figure size 432x288 with 1 Axes>"
      ]
     },
     "metadata": {
      "needs_background": "light"
     },
     "output_type": "display_data"
    }
   ],
   "source": [
    "x = df['Token Supply']\n",
    "y = df['Close']\n",
    "plt.suptitle(\"BTRST Bonding Curve\")\n",
    "plt.xlabel('Token Supply')\n",
    "plt.ylabel('Close')\n",
    "plt.plot(x, y)"
   ]
  },
  {
   "cell_type": "code",
   "execution_count": 11,
   "id": "ff457a88",
   "metadata": {},
   "outputs": [],
   "source": [
    "def outliers(df, ft):\n",
    "    Q1 = df[ft].quantile(0.25)\n",
    "    Q3 = df[ft].quantile(0.75)\n",
    "    IQR = Q3 - Q1\n",
    "    lower_bound = Q1 - 1.5 * IQR\n",
    "    upper_bound = Q3 + 1.5 * IQR\n",
    "    ls = df.index[(df[ft] < lower_bound) | (df[ft] > upper_bound)]\n",
    "    return ls"
   ]
  },
  {
   "cell_type": "code",
   "execution_count": 12,
   "id": "b99f10c6",
   "metadata": {},
   "outputs": [],
   "source": [
    "index_list = []\n",
    "for feature in ['Close', 'Token Supply']:\n",
    "    index_list.extend(outliers(df, feature))"
   ]
  },
  {
   "cell_type": "code",
   "execution_count": 13,
   "id": "f5393da7",
   "metadata": {},
   "outputs": [
    {
     "data": {
      "text/plain": [
       "[173, 174, 175, 176, 177, 178, 179, 180]"
      ]
     },
     "execution_count": 13,
     "metadata": {},
     "output_type": "execute_result"
    }
   ],
   "source": [
    "index_list"
   ]
  },
  {
   "cell_type": "code",
   "execution_count": 14,
   "id": "49249d2d",
   "metadata": {},
   "outputs": [],
   "source": [
    "def remove(df, ls):\n",
    "    ls = sorted(set(ls))\n",
    "    df = df.drop(ls)\n",
    "    return df"
   ]
  },
  {
   "cell_type": "code",
   "execution_count": 15,
   "id": "efbb1a36",
   "metadata": {},
   "outputs": [
    {
     "data": {
      "text/html": [
       "<div>\n",
       "<style scoped>\n",
       "    .dataframe tbody tr th:only-of-type {\n",
       "        vertical-align: middle;\n",
       "    }\n",
       "\n",
       "    .dataframe tbody tr th {\n",
       "        vertical-align: top;\n",
       "    }\n",
       "\n",
       "    .dataframe thead th {\n",
       "        text-align: right;\n",
       "    }\n",
       "</style>\n",
       "<table border=\"1\" class=\"dataframe\">\n",
       "  <thead>\n",
       "    <tr style=\"text-align: right;\">\n",
       "      <th></th>\n",
       "      <th>Date</th>\n",
       "      <th>Open</th>\n",
       "      <th>High</th>\n",
       "      <th>Low</th>\n",
       "      <th>Close</th>\n",
       "      <th>Volume</th>\n",
       "      <th>Market Cap</th>\n",
       "      <th>Token Supply</th>\n",
       "    </tr>\n",
       "  </thead>\n",
       "  <tbody>\n",
       "    <tr>\n",
       "      <th>0</th>\n",
       "      <td>2022-04-12</td>\n",
       "      <td>3.771753</td>\n",
       "      <td>3.827012</td>\n",
       "      <td>3.744826</td>\n",
       "      <td>3.818865</td>\n",
       "      <td>3101005.76</td>\n",
       "      <td>3.402552e+08</td>\n",
       "      <td>8.909852e+07</td>\n",
       "    </tr>\n",
       "    <tr>\n",
       "      <th>1</th>\n",
       "      <td>2022-04-11</td>\n",
       "      <td>3.955991</td>\n",
       "      <td>3.966467</td>\n",
       "      <td>3.771506</td>\n",
       "      <td>3.771506</td>\n",
       "      <td>4298393.84</td>\n",
       "      <td>3.360356e+08</td>\n",
       "      <td>8.909852e+07</td>\n",
       "    </tr>\n",
       "    <tr>\n",
       "      <th>2</th>\n",
       "      <td>2022-04-10</td>\n",
       "      <td>3.931879</td>\n",
       "      <td>3.980198</td>\n",
       "      <td>3.923310</td>\n",
       "      <td>3.955061</td>\n",
       "      <td>3140180.62</td>\n",
       "      <td>3.523901e+08</td>\n",
       "      <td>8.909852e+07</td>\n",
       "    </tr>\n",
       "    <tr>\n",
       "      <th>3</th>\n",
       "      <td>2022-04-09</td>\n",
       "      <td>4.115032</td>\n",
       "      <td>4.171639</td>\n",
       "      <td>3.931579</td>\n",
       "      <td>3.931579</td>\n",
       "      <td>3855338.57</td>\n",
       "      <td>3.502978e+08</td>\n",
       "      <td>8.909852e+07</td>\n",
       "    </tr>\n",
       "    <tr>\n",
       "      <th>4</th>\n",
       "      <td>2022-04-08</td>\n",
       "      <td>3.913211</td>\n",
       "      <td>4.214166</td>\n",
       "      <td>3.884896</td>\n",
       "      <td>4.116105</td>\n",
       "      <td>4329152.63</td>\n",
       "      <td>3.667388e+08</td>\n",
       "      <td>8.909852e+07</td>\n",
       "    </tr>\n",
       "    <tr>\n",
       "      <th>...</th>\n",
       "      <td>...</td>\n",
       "      <td>...</td>\n",
       "      <td>...</td>\n",
       "      <td>...</td>\n",
       "      <td>...</td>\n",
       "      <td>...</td>\n",
       "      <td>...</td>\n",
       "      <td>...</td>\n",
       "    </tr>\n",
       "    <tr>\n",
       "      <th>168</th>\n",
       "      <td>2021-10-26</td>\n",
       "      <td>6.738612</td>\n",
       "      <td>6.757197</td>\n",
       "      <td>6.261313</td>\n",
       "      <td>6.265997</td>\n",
       "      <td>6251429.60</td>\n",
       "      <td>4.799661e+08</td>\n",
       "      <td>7.659852e+07</td>\n",
       "    </tr>\n",
       "    <tr>\n",
       "      <th>169</th>\n",
       "      <td>2021-10-25</td>\n",
       "      <td>6.395205</td>\n",
       "      <td>6.846444</td>\n",
       "      <td>6.395205</td>\n",
       "      <td>6.738784</td>\n",
       "      <td>6873828.28</td>\n",
       "      <td>5.161809e+08</td>\n",
       "      <td>7.659852e+07</td>\n",
       "    </tr>\n",
       "    <tr>\n",
       "      <th>170</th>\n",
       "      <td>2021-10-24</td>\n",
       "      <td>6.871303</td>\n",
       "      <td>7.031592</td>\n",
       "      <td>6.240135</td>\n",
       "      <td>6.394172</td>\n",
       "      <td>8830342.19</td>\n",
       "      <td>4.897841e+08</td>\n",
       "      <td>7.659852e+07</td>\n",
       "    </tr>\n",
       "    <tr>\n",
       "      <th>171</th>\n",
       "      <td>2021-10-23</td>\n",
       "      <td>7.130477</td>\n",
       "      <td>7.228783</td>\n",
       "      <td>6.756244</td>\n",
       "      <td>6.871327</td>\n",
       "      <td>9998923.36</td>\n",
       "      <td>5.263335e+08</td>\n",
       "      <td>7.659852e+07</td>\n",
       "    </tr>\n",
       "    <tr>\n",
       "      <th>172</th>\n",
       "      <td>2021-10-22</td>\n",
       "      <td>7.467602</td>\n",
       "      <td>7.468682</td>\n",
       "      <td>7.018652</td>\n",
       "      <td>7.130524</td>\n",
       "      <td>9996790.27</td>\n",
       "      <td>5.461876e+08</td>\n",
       "      <td>7.659852e+07</td>\n",
       "    </tr>\n",
       "  </tbody>\n",
       "</table>\n",
       "<p>173 rows × 8 columns</p>\n",
       "</div>"
      ],
      "text/plain": [
       "          Date      Open      High       Low     Close      Volume  \\\n",
       "0   2022-04-12  3.771753  3.827012  3.744826  3.818865  3101005.76   \n",
       "1   2022-04-11  3.955991  3.966467  3.771506  3.771506  4298393.84   \n",
       "2   2022-04-10  3.931879  3.980198  3.923310  3.955061  3140180.62   \n",
       "3   2022-04-09  4.115032  4.171639  3.931579  3.931579  3855338.57   \n",
       "4   2022-04-08  3.913211  4.214166  3.884896  4.116105  4329152.63   \n",
       "..         ...       ...       ...       ...       ...         ...   \n",
       "168 2021-10-26  6.738612  6.757197  6.261313  6.265997  6251429.60   \n",
       "169 2021-10-25  6.395205  6.846444  6.395205  6.738784  6873828.28   \n",
       "170 2021-10-24  6.871303  7.031592  6.240135  6.394172  8830342.19   \n",
       "171 2021-10-23  7.130477  7.228783  6.756244  6.871327  9998923.36   \n",
       "172 2021-10-22  7.467602  7.468682  7.018652  7.130524  9996790.27   \n",
       "\n",
       "       Market Cap  Token Supply  \n",
       "0    3.402552e+08  8.909852e+07  \n",
       "1    3.360356e+08  8.909852e+07  \n",
       "2    3.523901e+08  8.909852e+07  \n",
       "3    3.502978e+08  8.909852e+07  \n",
       "4    3.667388e+08  8.909852e+07  \n",
       "..            ...           ...  \n",
       "168  4.799661e+08  7.659852e+07  \n",
       "169  5.161809e+08  7.659852e+07  \n",
       "170  4.897841e+08  7.659852e+07  \n",
       "171  5.263335e+08  7.659852e+07  \n",
       "172  5.461876e+08  7.659852e+07  \n",
       "\n",
       "[173 rows x 8 columns]"
      ]
     },
     "execution_count": 15,
     "metadata": {},
     "output_type": "execute_result"
    }
   ],
   "source": [
    "df = remove(df, index_list)\n",
    "df"
   ]
  },
  {
   "cell_type": "code",
   "execution_count": 16,
   "id": "e1aa8eb7",
   "metadata": {},
   "outputs": [
    {
     "data": {
      "text/plain": [
       "[<matplotlib.lines.Line2D at 0x1ae7187eb20>]"
      ]
     },
     "execution_count": 16,
     "metadata": {},
     "output_type": "execute_result"
    },
    {
     "data": {
      "image/png": "[encoded data removed]",
      "text/plain": [
       "<Figure size 432x288 with 1 Axes>"
      ]
     },
     "metadata": {
      "needs_background": "light"
     },
     "output_type": "display_data"
    }
   ],
   "source": [
    "x = df['Token Supply']\n",
    "y = df['Close']\n",
    "plt.suptitle(\"BTRST Bonding Curve\")\n",
    "plt.xlabel('Token Supply')\n",
    "plt.ylabel('Close')\n",
    "plt.plot(x, y)"
   ]
  },
  {
   "cell_type": "code",
   "execution_count": 17,
   "id": "334b93e7",
   "metadata": {},
   "outputs": [
    {
     "data": {
      "text/plain": [
       "[<matplotlib.lines.Line2D at 0x1ae6edfc730>]"
      ]
     },
     "execution_count": 17,
     "metadata": {},
     "output_type": "execute_result"
    },
    {
     "data": {
      "image/png": "[encoded data removed]",
      "text/plain": [
       "<Figure size 432x288 with 1 Axes>"
      ]
     },
     "metadata": {
      "needs_background": "light"
     },
     "output_type": "display_data"
    }
   ],
   "source": [
    "from cryptocmd import CmcScraper\n",
    "# Initialise scraper without time interval for max historical data\n",
    "scraper = CmcScraper(\"BTRST\")\n",
    "# Pandas dataFrame for the same data\n",
    "df = scraper.get_dataframe()\n",
    "\n",
    "x = df['Date']\n",
    "y = df['Close']\n",
    "plt.suptitle(\"BTRST Chart\")\n",
    "plt.xlabel('Date')\n",
    "plt.ylabel('Close')\n",
    "plt.plot(x, y)"
   ]
  }
 ],
 "metadata": {
  "kernelspec": {
   "display_name": "Python 3 (ipykernel)",
   "language": "python",
   "name": "python3"
  },
  "language_info": {
   "codemirror_mode": {
    "name": "ipython",
    "version": 3
   },
   "file_extension": ".py",
   "mimetype": "text/x-python",
   "name": "python",
   "nbconvert_exporter": "python",
   "pygments_lexer": "ipython3",
   "version": "3.9.12"
  }
 },
 "nbformat": 4,
 "nbformat_minor": 5
}
