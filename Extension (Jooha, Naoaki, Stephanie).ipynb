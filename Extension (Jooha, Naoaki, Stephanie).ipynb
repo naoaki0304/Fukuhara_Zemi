{
 "cells": [
  {
   "cell_type": "markdown",
   "id": "e60afb52",
   "metadata": {},
   "source": [
    "1. Select X\n",
    "2. Select Y\n",
    "3. Select according to which X and Y you chose\n",
    "4. Results"
   ]
  },
  {
   "cell_type": "code",
   "execution_count": null,
   "id": "e9b4ad9e",
   "metadata": {},
   "outputs": [],
   "source": [
    "# Importing necessary Libraries\n",
    "import numpy as np\n",
    "import pandas as pd\n",
    "import tensorflow as tf\n",
    "# Packages for reinforcement learning\n",
    "import keras\n",
    "from keras import layers, models, optimizers\n",
    "from keras import backend as K\n",
    "from collections import namedtuple, deque\n",
    "from keras.models import Sequential\n",
    "from keras.models import load_model\n",
    "from keras.layers import Dense\n",
    "from keras.optimizers import Adam\n",
    "\n",
    "# Packages/modules for data processing and visualization\n",
    "import numpy as np\n",
    "import pandas as pd\n",
    "import matplotlib.pyplot as plt\n",
    "from pandas import read_csv, set_option\n",
    "import datetime\n",
    "import math\n",
    "from numpy.random import choice\n",
    "import random\n",
    "from collections import deque"
   ]
  },
  {
   "cell_type": "markdown",
   "id": "0f2eda83",
   "metadata": {},
   "source": [
    "Please download the original file converted to csv."
   ]
  },
  {
   "cell_type": "code",
   "execution_count": null,
   "id": "ff772827",
   "metadata": {},
   "outputs": [],
   "source": [
    "# Loading Dataset\n",
    "data = pd.read_csv(\"MBAselection.csv\")"
   ]
  },
  {
   "cell_type": "code",
   "execution_count": null,
   "id": "80169286",
   "metadata": {},
   "outputs": [],
   "source": [
    "# shape\n",
    "data.shape"
   ]
  },
  {
   "cell_type": "code",
   "execution_count": null,
   "id": "311151ba",
   "metadata": {},
   "outputs": [],
   "source": [
    "# peek at data\n",
    "set_option('max_columns', None)\n",
    "data.head()"
   ]
  },
  {
   "cell_type": "code",
   "execution_count": null,
   "id": "832251fa",
   "metadata": {},
   "outputs": [],
   "source": [
    "print(data.Gender.unique())\n",
    "print(data.Board_SSC.unique())\n",
    "print(data.Board_HSC.unique())\n",
    "print(data.Stream_HSC.unique())\n",
    "print(data.Course_Degree.unique())\n",
    "print(data.Entrance_Test.unique())\n",
    "print(data.Specialization_MBA.unique())\n",
    "print(data.Placement.unique())\n",
    "\n",
    "#print(data['Gender'].value_counts())\n",
    "#print(data['Board_SSC'].value_counts())\n",
    "#print(data['Board_HSC'].value_counts())\n",
    "#print(data['Stream_HSC'].value_counts())\n",
    "#print(data['Course_Degree'].value_counts())\n",
    "#print(data['Entrance_Test'].value_counts())\n",
    "#print(data['Specialization_MBA'].value_counts())\n",
    "#print(data['Placement'].value_counts())"
   ]
  },
  {
   "cell_type": "code",
   "execution_count": null,
   "id": "0366d5eb",
   "metadata": {},
   "outputs": [],
   "source": [
    "data[\"Board_SSC\"] = data[\"Board_SSC\"].replace({'CBSE':1, 'ICSE':2, 'Others':3})\n",
    "data[\"Board_HSC\"] = data[\"Board_HSC\"].replace({'CBSE':1, 'ISC':2, 'Others':3})\n",
    "data[\"Stream_HSC\"] = data[\"Stream_HSC\"].replace({'Commerce':1, 'Science':2, 'Arts':3})\n",
    "data[\"Course_Degree\"] = data[\"Course_Degree\"].replace({'Science':1, 'Computer Applications':2, 'Engineering':3,\n",
    "                                                       'Management':4, 'Commerce':5, 'Others':6, 'Arts':7})\n",
    "data[\"Entrance_Test\"] = data[\"Entrance_Test\"].replace({'MAT':1, 'K-MAT':2, 'CAT': 3, 'PGCET':4,\n",
    "                                                       'GCET':5, 'G-MAT':6, 'XAT':7, 'G-SAT':8})\n",
    "data[\"Specialization_MBA\"] = data[\"Specialization_MBA\"].replace({'Marketing & HR':1,\n",
    "                                                                 'Marketing & Finance':2,\n",
    "                                                                 'Marketing & IB':3})"
   ]
  },
  {
   "cell_type": "code",
   "execution_count": null,
   "id": "a0a28f95",
   "metadata": {},
   "outputs": [],
   "source": [
    "data = data.drop(\"Gender\", axis=1)\n",
    "data = data.drop(\"Placement\", axis=1)\n",
    "\n",
    "data = data.drop(\"Board_CBSE\", axis=1)\n",
    "data = data.drop(\"Board_ICSE\", axis=1)\n",
    "data = data.drop(\"Degree_Engg\", axis=1)"
   ]
  },
  {
   "cell_type": "code",
   "execution_count": null,
   "id": "49698610",
   "metadata": {},
   "outputs": [],
   "source": [
    "# shape\n",
    "data.shape"
   ]
  },
  {
   "cell_type": "code",
   "execution_count": null,
   "id": "356ed556",
   "metadata": {},
   "outputs": [],
   "source": [
    "# peek at data\n",
    "set_option('max_columns', None)\n",
    "data.head(10)"
   ]
  },
  {
   "cell_type": "markdown",
   "id": "356140be",
   "metadata": {},
   "source": [
    "# 1. Select X\n",
    "If you want to **include** either of Course_Degree, Entrance_Test, S-Test, or Specialization_MBA, please **add #** before the code enclosed in ### and ###."
   ]
  },
  {
   "cell_type": "code",
   "execution_count": null,
   "id": "858cfaf5",
   "metadata": {
    "scrolled": true
   },
   "outputs": [],
   "source": [
    "#Generating Matrix of Features\n",
    "data_X = data\n",
    "data_X = data_X.drop(\"SlNo\", axis=1)\n",
    "data_X = data_X.drop(\"Placement_B\", axis=1)\n",
    "data_X = data_X.drop(\"Salary\", axis=1)\n",
    "\n",
    "###\n",
    "# Note that this code does not add columns to the data, but drops columns\n",
    "data_X = data_X.drop(\"Course_Degree\", axis=1)\n",
    "data_X = data_X.drop(\"Entrance_Test\", axis=1)\n",
    "data_X = data_X.drop(\"S-TEST\", axis=1)\n",
    "data_X = data_X.drop(\"Specialization_MBA\", axis=1)\n",
    "###\n",
    "\n",
    "X = data_X.iloc[:].values\n",
    "X[0:5]"
   ]
  },
  {
   "cell_type": "markdown",
   "id": "167a4238",
   "metadata": {},
   "source": [
    "# 2. Select Y"
   ]
  },
  {
   "cell_type": "code",
   "execution_count": null,
   "id": "8895a7a2",
   "metadata": {},
   "outputs": [],
   "source": [
    "#Generating Dependent Variable Vectors\n",
    "# If you want Y to be Placement_B\n",
    "Y = data.iloc[:,-2].values\n",
    "# If you want Y to be Salary\n",
    "#Y = data.iloc[:,-1].values\n",
    "Y[0:5]"
   ]
  },
  {
   "cell_type": "code",
   "execution_count": null,
   "id": "2774a8c1",
   "metadata": {},
   "outputs": [],
   "source": [
    "#Splitting dataset into training and testing dataset\n",
    "from sklearn.model_selection import train_test_split\n",
    "X_train,X_test,Y_train,Y_test = train_test_split(X,Y,test_size=0.2,random_state=0)"
   ]
  },
  {
   "cell_type": "code",
   "execution_count": null,
   "id": "ffee7e81",
   "metadata": {},
   "outputs": [],
   "source": [
    "#Performing Feature Scaling\n",
    "from sklearn.preprocessing import StandardScaler\n",
    "sc = StandardScaler()\n",
    "X_train = sc.fit_transform(X_train)\n",
    "X_test = sc.transform(X_test)"
   ]
  },
  {
   "cell_type": "code",
   "execution_count": null,
   "id": "d2cd8234",
   "metadata": {},
   "outputs": [],
   "source": [
    "#Initialising ANN\n",
    "ann = tf.keras.models.Sequential()"
   ]
  },
  {
   "cell_type": "code",
   "execution_count": null,
   "id": "cc998aea",
   "metadata": {},
   "outputs": [],
   "source": [
    " #Adding First Hidden Layer\n",
    "ann.add(tf.keras.layers.Dense(units=6,activation=\"relu\"))"
   ]
  },
  {
   "cell_type": "code",
   "execution_count": null,
   "id": "3bc7890e",
   "metadata": {},
   "outputs": [],
   "source": [
    " #Adding Second Hidden Layer\n",
    "ann.add(tf.keras.layers.Dense(units=6,activation=\"relu\"))"
   ]
  },
  {
   "cell_type": "code",
   "execution_count": null,
   "id": "ce93f571",
   "metadata": {},
   "outputs": [],
   "source": [
    " #Adding Output Layer\n",
    "ann.add(tf.keras.layers.Dense(units=1,activation=\"sigmoid\"))"
   ]
  },
  {
   "cell_type": "code",
   "execution_count": null,
   "id": "58cc96d5",
   "metadata": {},
   "outputs": [],
   "source": [
    "#Compiling ANN\n",
    "ann.compile(optimizer=\"adam\",loss=\"binary_crossentropy\",metrics=['accuracy'])\n",
    "#X[0:5]"
   ]
  },
  {
   "cell_type": "code",
   "execution_count": null,
   "id": "ff81e2a9",
   "metadata": {},
   "outputs": [],
   "source": [
    "#Fitting ANN\n",
    "ann.fit(X_train,Y_train,batch_size=1024,epochs = 100)"
   ]
  },
  {
   "cell_type": "code",
   "execution_count": null,
   "id": "a86e794c",
   "metadata": {},
   "outputs": [],
   "source": [
    "#print(data['Percent_SSC'].describe())\n",
    "#print(data['Percent_HSC'].describe())\n",
    "#print(data['Percent_Degree'].describe())\n",
    "#print(data['Experience_Yrs'].describe())\n",
    "#print(data['S-TEST'].describe())\n",
    "#print(data['Percentile_ET'].describe())\n",
    "#print(data['Percent_MBA'].describe())\n",
    "#print(data['S-TEST*SCORE'].describe())\n",
    "#print(data['Marks_Communication'].describe())\n",
    "#print(data['Marks_Projectwork'].describe())\n",
    "#print(data['Marks_BOCA'].describe())\n",
    "#print(data['Salary'].describe())"
   ]
  },
  {
   "cell_type": "markdown",
   "id": "2a1fd814",
   "metadata": {},
   "source": [
    "### X\n",
    "- **Gender_B:** {'M':0, 'F':1}\n",
    "- **Percent_SSC:**\n",
    " <br>mean: 64.652353, min: 37.000000, 50%: 64.500000, max: 87.200000\n",
    "- **Board_SSC:** {'CBSE':1, 'ICSE':2, 'Others':3}\n",
    "- **Percent_HSC:**\n",
    " <br>mean  63.795294, min: 40.000000, 50%: 63.000000, max: 94.700000\n",
    "- **Board_HSC:** {'CBSE':1, 'ISC':2, 'Other':3}\n",
    "- **Stream_HSC:** {'Commerce':1, 'Science':2, 'Arts':3}\n",
    "- **Percent_Degree:**\n",
    " <br>mean: 62.983606, min  35.000000, 50%: 63.000000, max: 89.000000\n",
    "- **Course_Degree:** {'Science':1, 'Computer Applications':2, 'Engineering':3, 'Management':4, 'Commerce':5, 'Others':6, 'Arts':7}\n",
    "- **Experience_Yrs:**\n",
    " <br>mean:  0.478261, min:  0.000000, 50%:  0.000000, max:  3.000000\n",
    "- **Entrance_Test:** {'MAT':1, 'K-MAT':2, 'CAT': 3, 'PGCET':4, 'GCET':5, 'G-MAT':6, 'XAT':7, 'G-SAT':8}\n",
    "- **S-TEST:**\n",
    " <br>mean:  0.828645, min:  0.000000, 50%:  1.000000, max:  1.000000\n",
    "- **Percentile_ET:**\n",
    " <br>mean: 54.934962, min:  0.000000, 50%: 62.000000, max: 98.690000\n",
    "- **Percent_MBA:**\n",
    " <br>mean: 61.667698, min: 50.830000, 50%: 61.010000, max: 77.890000\n",
    "- **S-TEST SCORE:**\n",
    " <br>mean: 54.934962, min:  0.000000, 50%: 62.000000, max: 98.690000\n",
    "- **Specialization_MBA:** {'Marketing & HR':1, 'Marketing & Finance':2, 'Marketing & IB':3}\n",
    "- **Marks_Communication:**\n",
    " <br>mean: 60.539642, min: 50.000000, 50%: 58.000000, max: 88.000000\n",
    "- **Marks_Projectwork:**\n",
    " <br>mean: 68.363171, min: 50.000000, 50%: 69.000000, max: 87.000000\n",
    "- **Marks_BOCA:**\n",
    " <br>mean: 64.378517, min: 50.000000, 50%: 63.000000, max: 96.000000\n",
    "\n",
    "### Y\n",
    "- **Placement_B:** {'Not Placed':0, 'Placed':1}<br>\n",
    "or\n",
    "- **Salary:**\n",
    " <br>mean: 219078.260870, min: 0.000000, 50%: 240000.000000, max: 940000.000000\n"
   ]
  },
  {
   "cell_type": "markdown",
   "id": "94ff41cd",
   "metadata": {},
   "source": [
    "# 3. Select according to which X and Y you chose"
   ]
  },
  {
   "cell_type": "code",
   "execution_count": null,
   "id": "61e8f0d7",
   "metadata": {},
   "outputs": [],
   "source": [
    "#Predicting result for Single Observation\n",
    "#print()\n",
    "print(ann.predict(sc.transform([[0, 62, 3, 88, 3, 1, 52, 0, 55, 58.8, 55, 50, 65, 74]])) > 0.5)\n",
    "#print(ann.predict(sc.transform([[0, 62, 3, 88, 3, 1, 52, 0, 55, 58.8, 55, 50, 65, 74]])) > 200000)\n",
    "#print(ann.predict(sc.transform([[0, 62, 3, 88, 3, 1, 52, 1, 0, 1, 1, 55, 58.8, 55, 1, 50, 65, 74]])) > 0.5)\n",
    "#print(ann.predict(sc.transform([[0, 62, 3, 88, 3, 1, 52, 1, 0, 1, 1, 55, 58.8, 55, 1, 50, 65, 74]])) > 200000)"
   ]
  },
  {
   "cell_type": "markdown",
   "id": "88a5ce24",
   "metadata": {},
   "source": [
    "# 4. Results\n",
    "- **Default**\n",
    " - X: Gender-B, Percent_SSC, Board_SSC, Percent_HSC, Board_HSC, Stream_HSC, Percent_Degree, Course_Degree, Experience_Yrs, Entrance_Test, S-TEST, Percentile_ET, Percent_MBA, S-TEST SCORE, Specialization_MBA, Marks_Communication, Marks_Projectwork, Marks_BOCA\n",
    " - Y: Placement_B\n",
    "\n",
    "\n",
    " - **Case 1: Default**<br>\n",
    "Epoch 1/100\n",
    "312/312 [==============================] - 0s 2ms/sample - loss: 0.6817 - accuracy: 0.4615<br>\n",
    "Epoch 50/100\n",
    "312/312 [==============================] - 0s 19us/sample - loss: 0.5752 - accuracy: 0.7628<br>\n",
    "Epoch 100/100\n",
    "312/312 [==============================] - 0s 6us/sample - loss: 0.5203 - accuracy: 0.8141<br>\n",
    "**Good result.**\n",
    "\n",
    "\n",
    " - **Case 2: Change Y to \"Salary\"**<br>\n",
    "Epoch 1/100\n",
    "312/312 [==============================] - 0s 1ms/sample - loss: 126637.0234 - accuracy: 0.1795<br>\n",
    "Epoch 50/100\n",
    "312/312 [==============================] - 0s 10us/sample - loss: 30238.7363 - accuracy: 0.0769<br>\n",
    "Epoch 100/100\n",
    "312/312 [==============================] - 0s 10us/sample - loss: -56825.7812 - accuracy: 0.0096<br>\n",
    "**Accuracy has dropped significantly.**\n",
    "\n",
    " \n",
    " - **Case 3: Add all \"Course_Degree\", \"Entrance_Test\", \"S-TEST\", \"Specialization_MBA\" to default X (Y is Placement_B)**<br>\n",
    "Epoch 1/100\n",
    "312/312 [==============================] - 0s 2ms/sample - loss: nan - accuracy: 0.6667<br>\n",
    "Epoch 50/100\n",
    "312/312 [==============================] - 0s 13us/sample - loss: nan - accuracy: 0.1859<br>\n",
    "Epoch 100/100\n",
    "312/312 [==============================] - 0s 6us/sample - loss: nan - accuracy: 0.1859<br>\n",
    "**Accuracy has dropped significantly.**\n",
    "\n",
    "\n",
    " - **Case 4: Add \"Course_Degree\" to default X (Y is Placement_B)**<br>\n",
    "Epoch 1/100\n",
    "312/312 [==============================] - 1s 2ms/sample - loss: 0.6066 - accuracy: 0.7147<br>\n",
    "Epoch 50/100\n",
    "312/312 [==============================] - 0s 13us/sample - loss: 0.5176 - accuracy: 0.8141<br>\n",
    "Epoch 100/100\n",
    "312/312 [==============================] - 0s 10us/sample - loss: 0.4628 - accuracy: 0.8141<br>\n",
    "**Good result.**\n",
    "\n",
    "\n",
    " - **Case 5: Add \"Entrance_Test\" to default X (Y is Placement_B)**<br>\n",
    "Epoch 1/100\n",
    "312/312 [==============================] - 1s 2ms/sample - loss: nan - accuracy: 0.7179<br>\n",
    "Epoch 50/100\n",
    "312/312 [==============================] - 0s 10us/sample - loss: nan - accuracy: 0.1859<br>\n",
    "Epoch 100/100\n",
    "312/312 [==============================] - 0s 13us/sample - loss: nan - accuracy: 0.1859<br>\n",
    "**Accuracy has dropped significantly.**\n",
    "\n",
    "\n",
    " - **Case 6: Add \"S-TEST\" to default X (Y is Placement_B)**<br>\n",
    "Epoch 1/100\n",
    "312/312 [==============================] - 1s 2ms/sample - loss: 0.7427 - accuracy: 0.6058<br>\n",
    "Epoch 50/100\n",
    "312/312 [==============================] - 0s 13us/sample - loss: 0.5891 - accuracy: 0.7404<br>\n",
    "Epoch 100/100\n",
    "312/312 [==============================] - 0s 13us/sample - loss: 0.4994 - accuracy: 0.8141<br>\n",
    "**Good result.**\n",
    "\n",
    "\n",
    " - **Case 7: Add \"Specialization_MBA\" to default X (Y is Placement_B)**<br>\n",
    "Epoch 1/100\n",
    "312/312 [==============================] - 1s 2ms/sample - loss: 0.6284 - accuracy: 0.6186<br>\n",
    "Epoch 50/100\n",
    "312/312 [==============================] - 0s 10us/sample - loss: 0.5322 - accuracy: 0.7981<br>\n",
    "Epoch 100/100\n",
    "312/312 [==============================] - 0s 10us/sample - loss: 0.4749 - accuracy: 0.8141<br>\n",
    "**Good result.**\n",
    "\n",
    " - **Case 8: Add \"Course_Degree\", \"S-TEST\", \"Specialization_MBA\" to default X, i.e. exclude \"Entrance_Test\" (Y is Placement_B)**<br>\n",
    "Epoch 1/100\n",
    "312/312 [==============================] - 1s 2ms/sample - loss: 0.7752 - accuracy: 0.2244<br>\n",
    "Epoch 50/100\n",
    "312/312 [==============================] - 0s 10us/sample - loss: 0.6684 - accuracy: 0.6506<br>\n",
    "Epoch 100/100\n",
    "312/312 [==============================] - 0s 13us/sample - loss: 0.5953 - accuracy: 0.8141<br>\n",
    "**Good result.**\n",
    "\n",
    "- **Conclusion**<br>\n",
    "It is considered better to analyze with the following variables:\n",
    " - X: Gender-B, Percent_SSC, Board_SSC, Percent_HSC, Board_HSC, Stream_HSC, Percent_Degree, Course_Degree, Experience_Yrs, S-TEST, Percentile_ET, Percent_MBA, S-TEST SCORE, Specialization_MBA, Marks_Communication, Marks_Projectwork, Marks_BOCA<br>\n",
    " - Y: Placement_B\n",
    "\n",
    "When \"Salary\" was set to Y, the accuracy dropped. This may be due to the fact that \"Salary\" is dependent on the factors in X.<br>\n",
    " When \"Entrance_Test\" was added to X, the accuracy dropped. This may be due to the fact that \"Entrance_Test\" consists of many dummy variables."
   ]
  }
 ],
 "metadata": {
  "kernelspec": {
   "display_name": "Python 3 (ipykernel)",
   "language": "python",
   "name": "python3"
  },
  "language_info": {
   "codemirror_mode": {
    "name": "ipython",
    "version": 3
   },
   "file_extension": ".py",
   "mimetype": "text/x-python",
   "name": "python",
   "nbconvert_exporter": "python",
   "pygments_lexer": "ipython3",
   "version": "3.7.11"
  }
 },
 "nbformat": 4,
 "nbformat_minor": 5
}
