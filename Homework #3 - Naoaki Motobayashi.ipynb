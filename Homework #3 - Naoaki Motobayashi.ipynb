{
 "cells": [
  {
   "cell_type": "markdown",
   "id": "bf3115bc",
   "metadata": {},
   "source": [
    "**Homework #3**<br>\n",
    "**21947306 Naoaki Motobayashi**<br>\n",
    "Create a function to compute mean, median and mode of the posterior distribution of the Bernoulli probability such that\n",
    "\n",
    "def point_estimate(data, alpha0, beta0):<br>\n",
    "\t*compute posterior mean, median, mode here*<br>\n",
    "\treturn np.hstack((post_mean, post_median, post_mode))\n",
    "\n",
    "and compute these values by using the data generated from the Bernoulli distribution with the same setup ($\\theta=0.8$ and $n = 20$) as Homework #2."
   ]
  },
  {
   "cell_type": "markdown",
   "id": "18ab512f",
   "metadata": {},
   "source": [
    "$$\\alpha_* = y+\\alpha_0$$\n",
    "$$\\beta_* = n-y+\\beta_0$$\n",
    "$$Mode = \\frac{\\alpha-1}{\\alpha+\\beta-2}$$"
   ]
  },
  {
   "cell_type": "code",
   "execution_count": 1,
   "id": "dcebe597",
   "metadata": {},
   "outputs": [],
   "source": [
    "import numpy as np\n",
    "import scipy.stats as st"
   ]
  },
  {
   "cell_type": "code",
   "execution_count": 2,
   "id": "ddde063d",
   "metadata": {},
   "outputs": [
    {
     "data": {
      "text/plain": [
       "array([0, 1, 1, 1, 1, 0, 1, 1, 1, 1, 1, 1, 1, 1, 0, 1, 1, 1, 0, 1])"
      ]
     },
     "execution_count": 2,
     "metadata": {},
     "output_type": "execute_result"
    }
   ],
   "source": [
    "data = st.bernoulli.rvs(0.8, size=20)\n",
    "data"
   ]
  },
  {
   "cell_type": "code",
   "execution_count": 3,
   "id": "1b6bac27",
   "metadata": {},
   "outputs": [],
   "source": [
    "def point_estimate(data, alpha0, beta0):\n",
    "    n = data.size\n",
    "    sum_data = data.sum()\n",
    "    post_a = sum_data + alpha0\n",
    "    post_b = n - sum_data + beta0\n",
    "    post_mean = st.beta.mean(post_a, post_b)\n",
    "    post_median = st.beta.median(post_a, post_b)\n",
    "    post_mode = (post_a - 1.0) / (post_a + post_b - 2.0)\n",
    "    return np.hstack((post_mean, post_median, post_mode))"
   ]
  },
  {
   "cell_type": "code",
   "execution_count": 4,
   "id": "cd3b3205",
   "metadata": {},
   "outputs": [
    {
     "data": {
      "text/plain": [
       "array([0.77272727, 0.78109464, 0.8       ])"
      ]
     },
     "execution_count": 4,
     "metadata": {},
     "output_type": "execute_result"
    }
   ],
   "source": [
    "point_estimate(data, 1, 1)"
   ]
  }
 ],
 "metadata": {
  "kernelspec": {
   "display_name": "Python 3 (ipykernel)",
   "language": "python",
   "name": "python3"
  },
  "language_info": {
   "codemirror_mode": {
    "name": "ipython",
    "version": 3
   },
   "file_extension": ".py",
   "mimetype": "text/x-python",
   "name": "python",
   "nbconvert_exporter": "python",
   "pygments_lexer": "ipython3",
   "version": "3.9.12"
  }
 },
 "nbformat": 4,
 "nbformat_minor": 5
}
