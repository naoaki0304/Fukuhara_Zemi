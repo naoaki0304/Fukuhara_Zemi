{
 "cells": [
  {
   "cell_type": "markdown",
   "id": "d0154a23",
   "metadata": {},
   "source": [
    "**Assignment for April 22nd**<br>\n",
    "**Naoaki Motobayashi**\n",
    "\n",
    "# 05 Case study 2_ Employee attitude surveys – engagement and workforce perceptions\n",
    "\n",
    "## Table of Contents\n",
    "- **Example 1: two constructs – exploratory factor analysis**\n",
    " - Loading Python Packages and the Data\n",
    " - Data Cleaning\n",
    " - Data Visualization\n",
    " - Data Transformation\n",
    " - Results - Applying Principal Component Analysis\n",
    " - Additional Analysis - Intuition Behind the Principal Components\n",
    " - Conclusion\n",
    "- **Example 2: reliability analysis on a four-item engagement scale**\n",
    " - Results - Applying Reliability Analysis\n",
    " - Conclusion\n",
    "- **Example 3: reliability and factor testing with group-level engagement data**\n",
    " - Loading the Data\n",
    " - Data Visualization\n",
    " - Data Transformation\n",
    " - Results - Applying Principal Component Analysis\n",
    " - Additional Analysis - Intuition Behind the Principal Components\n",
    " - Conclusion\n",
    "- **Example 4: using the independent samples t-test to determine differences in engagement levels**\n",
    " - Loading the Data\n",
    " - Results\n",
    " - Conclusion\n",
    "- **Example 5: using multiple regression to predict team-level engagement**\n",
    " - Data Cleaning\n",
    " - Results\n",
    " - Conclusion\n",
    "- **Final Note**"
   ]
  },
  {
   "cell_type": "markdown",
   "id": "78009acc",
   "metadata": {},
   "source": [
    "# Example 1: two constructs – exploratory factor analysis"
   ]
  },
  {
   "cell_type": "markdown",
   "id": "7d21c6d5",
   "metadata": {},
   "source": [
    "## Loading Python Packages and the Data"
   ]
  },
  {
   "cell_type": "code",
   "execution_count": 1,
   "id": "a415944a",
   "metadata": {},
   "outputs": [],
   "source": [
    "#pip install xlrd\n",
    "import pandas as pd\n",
    "import seaborn as sns\n",
    "import matplotlib.pyplot as plt\n",
    "import numpy as np\n",
    "from sklearn.decomposition import FactorAnalysis, PCA\n",
    "from sklearn.preprocessing import StandardScaler\n",
    "from scipy import stats\n",
    "\n",
    "# We will use more packages in the subsequent code."
   ]
  },
  {
   "cell_type": "markdown",
   "id": "00d9de3b",
   "metadata": {},
   "source": [
    "The dataset 'Chapter 5 RAW Survey Results.xls' contains 34 different variables that hold individual survey responses of 832 employees. The first five variables hold data linked to employees' demographic profiles and the remaining variables (6–34) are employee responses on a 1 'strongly disagree' to 5 'strongly agree' response scale for a range of specific questions (these are indicated)."
   ]
  },
  {
   "cell_type": "code",
   "execution_count": 2,
   "id": "a29983be",
   "metadata": {},
   "outputs": [
    {
     "data": {
      "text/html": [
       "<div>\n",
       "<style scoped>\n",
       "    .dataframe tbody tr th:only-of-type {\n",
       "        vertical-align: middle;\n",
       "    }\n",
       "\n",
       "    .dataframe tbody tr th {\n",
       "        vertical-align: top;\n",
       "    }\n",
       "\n",
       "    .dataframe thead th {\n",
       "        text-align: right;\n",
       "    }\n",
       "</style>\n",
       "<table border=\"1\" class=\"dataframe\">\n",
       "  <thead>\n",
       "    <tr style=\"text-align: right;\">\n",
       "      <th></th>\n",
       "      <th>sex</th>\n",
       "      <th>jbstatus</th>\n",
       "      <th>age</th>\n",
       "      <th>tenure</th>\n",
       "      <th>ethnicity</th>\n",
       "      <th>ManMot1</th>\n",
       "      <th>ManMot2</th>\n",
       "      <th>ManMot3</th>\n",
       "      <th>ManMot4</th>\n",
       "      <th>ocb1</th>\n",
       "      <th>ocb2</th>\n",
       "      <th>ocb3</th>\n",
       "      <th>ocb4</th>\n",
       "      <th>aut1</th>\n",
       "      <th>aut2</th>\n",
       "      <th>aut3</th>\n",
       "      <th>Justice1</th>\n",
       "      <th>Justice2</th>\n",
       "      <th>Justice3</th>\n",
       "      <th>JobSat1</th>\n",
       "      <th>JobSat2</th>\n",
       "      <th>Quit1</th>\n",
       "      <th>Quit2</th>\n",
       "      <th>Quit3</th>\n",
       "      <th>Man1</th>\n",
       "      <th>Man2</th>\n",
       "      <th>Man3</th>\n",
       "      <th>Eng1</th>\n",
       "      <th>Eng2</th>\n",
       "      <th>Eng3</th>\n",
       "      <th>Eng4</th>\n",
       "      <th>pos1</th>\n",
       "      <th>pos2</th>\n",
       "      <th>pos3</th>\n",
       "    </tr>\n",
       "  </thead>\n",
       "  <tbody>\n",
       "    <tr>\n",
       "      <th>0</th>\n",
       "      <td>2.0</td>\n",
       "      <td>1.0</td>\n",
       "      <td>6.0</td>\n",
       "      <td>14.0</td>\n",
       "      <td>14.0</td>\n",
       "      <td>1.0</td>\n",
       "      <td>1.0</td>\n",
       "      <td>1.0</td>\n",
       "      <td>2.0</td>\n",
       "      <td>1.0</td>\n",
       "      <td>2.0</td>\n",
       "      <td>3.0</td>\n",
       "      <td>4.0</td>\n",
       "      <td>1.0</td>\n",
       "      <td>1.0</td>\n",
       "      <td>1.0</td>\n",
       "      <td>3.0</td>\n",
       "      <td>3.0</td>\n",
       "      <td>3.0</td>\n",
       "      <td>2.0</td>\n",
       "      <td>3.0</td>\n",
       "      <td>4.0</td>\n",
       "      <td>4.0</td>\n",
       "      <td>4.0</td>\n",
       "      <td>2.0</td>\n",
       "      <td>2.0</td>\n",
       "      <td>2.0</td>\n",
       "      <td>2.0</td>\n",
       "      <td>2.0</td>\n",
       "      <td>2.0</td>\n",
       "      <td>3.0</td>\n",
       "      <td>3.0</td>\n",
       "      <td>3.0</td>\n",
       "      <td>3.0</td>\n",
       "    </tr>\n",
       "    <tr>\n",
       "      <th>1</th>\n",
       "      <td>2.0</td>\n",
       "      <td>1.0</td>\n",
       "      <td>6.0</td>\n",
       "      <td>4.0</td>\n",
       "      <td>14.0</td>\n",
       "      <td>3.0</td>\n",
       "      <td>2.0</td>\n",
       "      <td>3.0</td>\n",
       "      <td>4.0</td>\n",
       "      <td>2.0</td>\n",
       "      <td>2.0</td>\n",
       "      <td>2.0</td>\n",
       "      <td>1.0</td>\n",
       "      <td>4.0</td>\n",
       "      <td>4.0</td>\n",
       "      <td>4.0</td>\n",
       "      <td>3.0</td>\n",
       "      <td>3.0</td>\n",
       "      <td>3.0</td>\n",
       "      <td>4.0</td>\n",
       "      <td>4.0</td>\n",
       "      <td>2.0</td>\n",
       "      <td>2.0</td>\n",
       "      <td>2.0</td>\n",
       "      <td>2.0</td>\n",
       "      <td>2.0</td>\n",
       "      <td>2.0</td>\n",
       "      <td>4.0</td>\n",
       "      <td>4.0</td>\n",
       "      <td>NaN</td>\n",
       "      <td>2.0</td>\n",
       "      <td>4.0</td>\n",
       "      <td>4.0</td>\n",
       "      <td>4.0</td>\n",
       "    </tr>\n",
       "    <tr>\n",
       "      <th>2</th>\n",
       "      <td>2.0</td>\n",
       "      <td>1.0</td>\n",
       "      <td>5.0</td>\n",
       "      <td>10.0</td>\n",
       "      <td>14.0</td>\n",
       "      <td>4.0</td>\n",
       "      <td>3.0</td>\n",
       "      <td>4.0</td>\n",
       "      <td>4.0</td>\n",
       "      <td>2.0</td>\n",
       "      <td>1.0</td>\n",
       "      <td>3.0</td>\n",
       "      <td>3.0</td>\n",
       "      <td>1.0</td>\n",
       "      <td>2.0</td>\n",
       "      <td>2.0</td>\n",
       "      <td>5.0</td>\n",
       "      <td>5.0</td>\n",
       "      <td>5.0</td>\n",
       "      <td>2.0</td>\n",
       "      <td>2.0</td>\n",
       "      <td>3.0</td>\n",
       "      <td>4.0</td>\n",
       "      <td>4.0</td>\n",
       "      <td>5.0</td>\n",
       "      <td>5.0</td>\n",
       "      <td>5.0</td>\n",
       "      <td>2.0</td>\n",
       "      <td>1.0</td>\n",
       "      <td>1.0</td>\n",
       "      <td>1.0</td>\n",
       "      <td>4.0</td>\n",
       "      <td>2.0</td>\n",
       "      <td>4.0</td>\n",
       "    </tr>\n",
       "    <tr>\n",
       "      <th>3</th>\n",
       "      <td>2.0</td>\n",
       "      <td>1.0</td>\n",
       "      <td>5.0</td>\n",
       "      <td>10.0</td>\n",
       "      <td>14.0</td>\n",
       "      <td>2.0</td>\n",
       "      <td>2.0</td>\n",
       "      <td>2.0</td>\n",
       "      <td>2.0</td>\n",
       "      <td>3.0</td>\n",
       "      <td>3.0</td>\n",
       "      <td>3.0</td>\n",
       "      <td>5.0</td>\n",
       "      <td>2.0</td>\n",
       "      <td>3.0</td>\n",
       "      <td>2.0</td>\n",
       "      <td>3.0</td>\n",
       "      <td>3.0</td>\n",
       "      <td>4.0</td>\n",
       "      <td>3.0</td>\n",
       "      <td>3.0</td>\n",
       "      <td>2.0</td>\n",
       "      <td>2.0</td>\n",
       "      <td>2.0</td>\n",
       "      <td>3.0</td>\n",
       "      <td>3.0</td>\n",
       "      <td>3.0</td>\n",
       "      <td>2.0</td>\n",
       "      <td>2.0</td>\n",
       "      <td>3.0</td>\n",
       "      <td>2.0</td>\n",
       "      <td>3.0</td>\n",
       "      <td>3.0</td>\n",
       "      <td>3.0</td>\n",
       "    </tr>\n",
       "    <tr>\n",
       "      <th>4</th>\n",
       "      <td>2.0</td>\n",
       "      <td>1.0</td>\n",
       "      <td>7.0</td>\n",
       "      <td>2.0</td>\n",
       "      <td>14.0</td>\n",
       "      <td>2.0</td>\n",
       "      <td>2.0</td>\n",
       "      <td>2.0</td>\n",
       "      <td>2.0</td>\n",
       "      <td>1.0</td>\n",
       "      <td>2.0</td>\n",
       "      <td>2.0</td>\n",
       "      <td>1.0</td>\n",
       "      <td>NaN</td>\n",
       "      <td>NaN</td>\n",
       "      <td>NaN</td>\n",
       "      <td>NaN</td>\n",
       "      <td>NaN</td>\n",
       "      <td>NaN</td>\n",
       "      <td>NaN</td>\n",
       "      <td>NaN</td>\n",
       "      <td>4.0</td>\n",
       "      <td>4.0</td>\n",
       "      <td>4.0</td>\n",
       "      <td>3.0</td>\n",
       "      <td>4.0</td>\n",
       "      <td>3.0</td>\n",
       "      <td>3.0</td>\n",
       "      <td>2.0</td>\n",
       "      <td>3.0</td>\n",
       "      <td>3.0</td>\n",
       "      <td>3.0</td>\n",
       "      <td>3.0</td>\n",
       "      <td>3.0</td>\n",
       "    </tr>\n",
       "  </tbody>\n",
       "</table>\n",
       "</div>"
      ],
      "text/plain": [
       "   sex  jbstatus  age  tenure  ethnicity  ManMot1  ManMot2  ManMot3  ManMot4  \\\n",
       "0  2.0       1.0  6.0    14.0       14.0      1.0      1.0      1.0      2.0   \n",
       "1  2.0       1.0  6.0     4.0       14.0      3.0      2.0      3.0      4.0   \n",
       "2  2.0       1.0  5.0    10.0       14.0      4.0      3.0      4.0      4.0   \n",
       "3  2.0       1.0  5.0    10.0       14.0      2.0      2.0      2.0      2.0   \n",
       "4  2.0       1.0  7.0     2.0       14.0      2.0      2.0      2.0      2.0   \n",
       "\n",
       "   ocb1  ocb2  ocb3  ocb4  aut1  aut2  aut3  Justice1  Justice2  Justice3  \\\n",
       "0   1.0   2.0   3.0   4.0   1.0   1.0   1.0       3.0       3.0       3.0   \n",
       "1   2.0   2.0   2.0   1.0   4.0   4.0   4.0       3.0       3.0       3.0   \n",
       "2   2.0   1.0   3.0   3.0   1.0   2.0   2.0       5.0       5.0       5.0   \n",
       "3   3.0   3.0   3.0   5.0   2.0   3.0   2.0       3.0       3.0       4.0   \n",
       "4   1.0   2.0   2.0   1.0   NaN   NaN   NaN       NaN       NaN       NaN   \n",
       "\n",
       "   JobSat1  JobSat2  Quit1  Quit2  Quit3  Man1  Man2  Man3  Eng1  Eng2  Eng3  \\\n",
       "0      2.0      3.0    4.0    4.0    4.0   2.0   2.0   2.0   2.0   2.0   2.0   \n",
       "1      4.0      4.0    2.0    2.0    2.0   2.0   2.0   2.0   4.0   4.0   NaN   \n",
       "2      2.0      2.0    3.0    4.0    4.0   5.0   5.0   5.0   2.0   1.0   1.0   \n",
       "3      3.0      3.0    2.0    2.0    2.0   3.0   3.0   3.0   2.0   2.0   3.0   \n",
       "4      NaN      NaN    4.0    4.0    4.0   3.0   4.0   3.0   3.0   2.0   3.0   \n",
       "\n",
       "   Eng4  pos1  pos2  pos3  \n",
       "0   3.0   3.0   3.0   3.0  \n",
       "1   2.0   4.0   4.0   4.0  \n",
       "2   1.0   4.0   2.0   4.0  \n",
       "3   2.0   3.0   3.0   3.0  \n",
       "4   3.0   3.0   3.0   3.0  "
      ]
     },
     "execution_count": 2,
     "metadata": {},
     "output_type": "execute_result"
    }
   ],
   "source": [
    "df = pd.read_excel(\"Chapter 5 RAW Survey Results.xls\")\n",
    "pd.set_option('display.max_columns', None)\n",
    "df.head()"
   ]
  },
  {
   "cell_type": "code",
   "execution_count": 3,
   "id": "ecdaff4e",
   "metadata": {},
   "outputs": [
    {
     "name": "stdout",
     "output_type": "stream",
     "text": [
      "(832, 34)\n"
     ]
    }
   ],
   "source": [
    "print(df.shape)"
   ]
  },
  {
   "cell_type": "code",
   "execution_count": 4,
   "id": "613d3bdb",
   "metadata": {},
   "outputs": [],
   "source": [
    "#df.info()"
   ]
  },
  {
   "cell_type": "markdown",
   "id": "5fb83cb8",
   "metadata": {},
   "source": [
    "## Data Cleaning\n",
    "In this example, data cleaning is done row basis and not column basis because we will select the columns to be analyzed later."
   ]
  },
  {
   "cell_type": "code",
   "execution_count": 5,
   "id": "a75de640",
   "metadata": {},
   "outputs": [],
   "source": [
    "# FYI, If you want to do data cleaning on a column basis in the future, you can do something like the following.\n",
    "# This code will not be executed unless # is removed, i.e., because it is commented out.\n",
    "\n",
    "# Getting rid of the columns with more than 30% missing values.\n",
    "#missing_fractions = dataset.isnull().mean().sort_values(ascending=False)\n",
    "#missing_fractions.head(10)\n",
    "#drop_list = sorted(list(missing_fractions[missing_fractions > 0.3].index))\n",
    "#dataset.drop(labels=drop_list, axis=1, inplace=True)\n",
    "#dataset.shape"
   ]
  },
  {
   "cell_type": "code",
   "execution_count": 6,
   "id": "03cd6e14",
   "metadata": {},
   "outputs": [
    {
     "name": "stdout",
     "output_type": "stream",
     "text": [
      "Null Values = True\n"
     ]
    },
    {
     "data": {
      "text/html": [
       "<div>\n",
       "<style scoped>\n",
       "    .dataframe tbody tr th:only-of-type {\n",
       "        vertical-align: middle;\n",
       "    }\n",
       "\n",
       "    .dataframe tbody tr th {\n",
       "        vertical-align: top;\n",
       "    }\n",
       "\n",
       "    .dataframe thead th {\n",
       "        text-align: right;\n",
       "    }\n",
       "</style>\n",
       "<table border=\"1\" class=\"dataframe\">\n",
       "  <thead>\n",
       "    <tr style=\"text-align: right;\">\n",
       "      <th></th>\n",
       "      <th>sex</th>\n",
       "      <th>jbstatus</th>\n",
       "      <th>age</th>\n",
       "      <th>tenure</th>\n",
       "      <th>ethnicity</th>\n",
       "      <th>ManMot1</th>\n",
       "      <th>ManMot2</th>\n",
       "      <th>ManMot3</th>\n",
       "      <th>ManMot4</th>\n",
       "      <th>ocb1</th>\n",
       "      <th>ocb2</th>\n",
       "      <th>ocb3</th>\n",
       "      <th>ocb4</th>\n",
       "      <th>aut1</th>\n",
       "      <th>aut2</th>\n",
       "      <th>aut3</th>\n",
       "      <th>Justice1</th>\n",
       "      <th>Justice2</th>\n",
       "      <th>Justice3</th>\n",
       "      <th>JobSat1</th>\n",
       "      <th>JobSat2</th>\n",
       "      <th>Quit1</th>\n",
       "      <th>Quit2</th>\n",
       "      <th>Quit3</th>\n",
       "      <th>Man1</th>\n",
       "      <th>Man2</th>\n",
       "      <th>Man3</th>\n",
       "      <th>Eng1</th>\n",
       "      <th>Eng2</th>\n",
       "      <th>Eng3</th>\n",
       "      <th>Eng4</th>\n",
       "      <th>pos1</th>\n",
       "      <th>pos2</th>\n",
       "      <th>pos3</th>\n",
       "    </tr>\n",
       "  </thead>\n",
       "  <tbody>\n",
       "    <tr>\n",
       "      <th>0</th>\n",
       "      <td>2.0</td>\n",
       "      <td>1.0</td>\n",
       "      <td>6.0</td>\n",
       "      <td>14.0</td>\n",
       "      <td>14.0</td>\n",
       "      <td>1.0</td>\n",
       "      <td>1.0</td>\n",
       "      <td>1.0</td>\n",
       "      <td>2.0</td>\n",
       "      <td>1.0</td>\n",
       "      <td>2.0</td>\n",
       "      <td>3.0</td>\n",
       "      <td>4.0</td>\n",
       "      <td>1.0</td>\n",
       "      <td>1.0</td>\n",
       "      <td>1.0</td>\n",
       "      <td>3.0</td>\n",
       "      <td>3.0</td>\n",
       "      <td>3.0</td>\n",
       "      <td>2.0</td>\n",
       "      <td>3.0</td>\n",
       "      <td>4.0</td>\n",
       "      <td>4.0</td>\n",
       "      <td>4.0</td>\n",
       "      <td>2.0</td>\n",
       "      <td>2.0</td>\n",
       "      <td>2.0</td>\n",
       "      <td>2.0</td>\n",
       "      <td>2.0</td>\n",
       "      <td>2.0</td>\n",
       "      <td>3.0</td>\n",
       "      <td>3.0</td>\n",
       "      <td>3.0</td>\n",
       "      <td>3.0</td>\n",
       "    </tr>\n",
       "    <tr>\n",
       "      <th>1</th>\n",
       "      <td>2.0</td>\n",
       "      <td>1.0</td>\n",
       "      <td>6.0</td>\n",
       "      <td>4.0</td>\n",
       "      <td>14.0</td>\n",
       "      <td>3.0</td>\n",
       "      <td>2.0</td>\n",
       "      <td>3.0</td>\n",
       "      <td>4.0</td>\n",
       "      <td>2.0</td>\n",
       "      <td>2.0</td>\n",
       "      <td>2.0</td>\n",
       "      <td>1.0</td>\n",
       "      <td>4.0</td>\n",
       "      <td>4.0</td>\n",
       "      <td>4.0</td>\n",
       "      <td>3.0</td>\n",
       "      <td>3.0</td>\n",
       "      <td>3.0</td>\n",
       "      <td>4.0</td>\n",
       "      <td>4.0</td>\n",
       "      <td>2.0</td>\n",
       "      <td>2.0</td>\n",
       "      <td>2.0</td>\n",
       "      <td>2.0</td>\n",
       "      <td>2.0</td>\n",
       "      <td>2.0</td>\n",
       "      <td>4.0</td>\n",
       "      <td>4.0</td>\n",
       "      <td>2.0</td>\n",
       "      <td>2.0</td>\n",
       "      <td>4.0</td>\n",
       "      <td>4.0</td>\n",
       "      <td>4.0</td>\n",
       "    </tr>\n",
       "    <tr>\n",
       "      <th>2</th>\n",
       "      <td>2.0</td>\n",
       "      <td>1.0</td>\n",
       "      <td>5.0</td>\n",
       "      <td>10.0</td>\n",
       "      <td>14.0</td>\n",
       "      <td>4.0</td>\n",
       "      <td>3.0</td>\n",
       "      <td>4.0</td>\n",
       "      <td>4.0</td>\n",
       "      <td>2.0</td>\n",
       "      <td>1.0</td>\n",
       "      <td>3.0</td>\n",
       "      <td>3.0</td>\n",
       "      <td>1.0</td>\n",
       "      <td>2.0</td>\n",
       "      <td>2.0</td>\n",
       "      <td>5.0</td>\n",
       "      <td>5.0</td>\n",
       "      <td>5.0</td>\n",
       "      <td>2.0</td>\n",
       "      <td>2.0</td>\n",
       "      <td>3.0</td>\n",
       "      <td>4.0</td>\n",
       "      <td>4.0</td>\n",
       "      <td>5.0</td>\n",
       "      <td>5.0</td>\n",
       "      <td>5.0</td>\n",
       "      <td>2.0</td>\n",
       "      <td>1.0</td>\n",
       "      <td>1.0</td>\n",
       "      <td>1.0</td>\n",
       "      <td>4.0</td>\n",
       "      <td>2.0</td>\n",
       "      <td>4.0</td>\n",
       "    </tr>\n",
       "    <tr>\n",
       "      <th>3</th>\n",
       "      <td>2.0</td>\n",
       "      <td>1.0</td>\n",
       "      <td>5.0</td>\n",
       "      <td>10.0</td>\n",
       "      <td>14.0</td>\n",
       "      <td>2.0</td>\n",
       "      <td>2.0</td>\n",
       "      <td>2.0</td>\n",
       "      <td>2.0</td>\n",
       "      <td>3.0</td>\n",
       "      <td>3.0</td>\n",
       "      <td>3.0</td>\n",
       "      <td>5.0</td>\n",
       "      <td>2.0</td>\n",
       "      <td>3.0</td>\n",
       "      <td>2.0</td>\n",
       "      <td>3.0</td>\n",
       "      <td>3.0</td>\n",
       "      <td>4.0</td>\n",
       "      <td>3.0</td>\n",
       "      <td>3.0</td>\n",
       "      <td>2.0</td>\n",
       "      <td>2.0</td>\n",
       "      <td>2.0</td>\n",
       "      <td>3.0</td>\n",
       "      <td>3.0</td>\n",
       "      <td>3.0</td>\n",
       "      <td>2.0</td>\n",
       "      <td>2.0</td>\n",
       "      <td>3.0</td>\n",
       "      <td>2.0</td>\n",
       "      <td>3.0</td>\n",
       "      <td>3.0</td>\n",
       "      <td>3.0</td>\n",
       "    </tr>\n",
       "    <tr>\n",
       "      <th>4</th>\n",
       "      <td>2.0</td>\n",
       "      <td>1.0</td>\n",
       "      <td>7.0</td>\n",
       "      <td>2.0</td>\n",
       "      <td>14.0</td>\n",
       "      <td>2.0</td>\n",
       "      <td>2.0</td>\n",
       "      <td>2.0</td>\n",
       "      <td>2.0</td>\n",
       "      <td>1.0</td>\n",
       "      <td>2.0</td>\n",
       "      <td>2.0</td>\n",
       "      <td>1.0</td>\n",
       "      <td>2.0</td>\n",
       "      <td>3.0</td>\n",
       "      <td>2.0</td>\n",
       "      <td>3.0</td>\n",
       "      <td>3.0</td>\n",
       "      <td>4.0</td>\n",
       "      <td>3.0</td>\n",
       "      <td>3.0</td>\n",
       "      <td>4.0</td>\n",
       "      <td>4.0</td>\n",
       "      <td>4.0</td>\n",
       "      <td>3.0</td>\n",
       "      <td>4.0</td>\n",
       "      <td>3.0</td>\n",
       "      <td>3.0</td>\n",
       "      <td>2.0</td>\n",
       "      <td>3.0</td>\n",
       "      <td>3.0</td>\n",
       "      <td>3.0</td>\n",
       "      <td>3.0</td>\n",
       "      <td>3.0</td>\n",
       "    </tr>\n",
       "  </tbody>\n",
       "</table>\n",
       "</div>"
      ],
      "text/plain": [
       "   sex  jbstatus  age  tenure  ethnicity  ManMot1  ManMot2  ManMot3  ManMot4  \\\n",
       "0  2.0       1.0  6.0    14.0       14.0      1.0      1.0      1.0      2.0   \n",
       "1  2.0       1.0  6.0     4.0       14.0      3.0      2.0      3.0      4.0   \n",
       "2  2.0       1.0  5.0    10.0       14.0      4.0      3.0      4.0      4.0   \n",
       "3  2.0       1.0  5.0    10.0       14.0      2.0      2.0      2.0      2.0   \n",
       "4  2.0       1.0  7.0     2.0       14.0      2.0      2.0      2.0      2.0   \n",
       "\n",
       "   ocb1  ocb2  ocb3  ocb4  aut1  aut2  aut3  Justice1  Justice2  Justice3  \\\n",
       "0   1.0   2.0   3.0   4.0   1.0   1.0   1.0       3.0       3.0       3.0   \n",
       "1   2.0   2.0   2.0   1.0   4.0   4.0   4.0       3.0       3.0       3.0   \n",
       "2   2.0   1.0   3.0   3.0   1.0   2.0   2.0       5.0       5.0       5.0   \n",
       "3   3.0   3.0   3.0   5.0   2.0   3.0   2.0       3.0       3.0       4.0   \n",
       "4   1.0   2.0   2.0   1.0   2.0   3.0   2.0       3.0       3.0       4.0   \n",
       "\n",
       "   JobSat1  JobSat2  Quit1  Quit2  Quit3  Man1  Man2  Man3  Eng1  Eng2  Eng3  \\\n",
       "0      2.0      3.0    4.0    4.0    4.0   2.0   2.0   2.0   2.0   2.0   2.0   \n",
       "1      4.0      4.0    2.0    2.0    2.0   2.0   2.0   2.0   4.0   4.0   2.0   \n",
       "2      2.0      2.0    3.0    4.0    4.0   5.0   5.0   5.0   2.0   1.0   1.0   \n",
       "3      3.0      3.0    2.0    2.0    2.0   3.0   3.0   3.0   2.0   2.0   3.0   \n",
       "4      3.0      3.0    4.0    4.0    4.0   3.0   4.0   3.0   3.0   2.0   3.0   \n",
       "\n",
       "   Eng4  pos1  pos2  pos3  \n",
       "0   3.0   3.0   3.0   3.0  \n",
       "1   2.0   4.0   4.0   4.0  \n",
       "2   1.0   4.0   2.0   4.0  \n",
       "3   2.0   3.0   3.0   3.0  \n",
       "4   3.0   3.0   3.0   3.0  "
      ]
     },
     "execution_count": 6,
     "metadata": {},
     "output_type": "execute_result"
    }
   ],
   "source": [
    "# Checking for any null values and removing the null values\n",
    "print('Null Values =',df.isnull().values.any())\n",
    "# Fill the missing values with the last value available in the dataset\n",
    "df = df.fillna(method='ffill')\n",
    "# Drop the rows containing NA\n",
    "df = df.dropna(axis=0)\n",
    "# Fill NA with 0\n",
    "#df = df.fillna('0')\n",
    "df.head()"
   ]
  },
  {
   "cell_type": "code",
   "execution_count": 7,
   "id": "06520df9",
   "metadata": {},
   "outputs": [
    {
     "name": "stdout",
     "output_type": "stream",
     "text": [
      "(832, 34)\n"
     ]
    }
   ],
   "source": [
    "print(df.shape)"
   ]
  },
  {
   "cell_type": "code",
   "execution_count": 8,
   "id": "a34fce1d",
   "metadata": {},
   "outputs": [],
   "source": [
    "#df.info()"
   ]
  },
  {
   "cell_type": "markdown",
   "id": "8aa14f03",
   "metadata": {},
   "source": [
    "## Data Visualization"
   ]
  },
  {
   "cell_type": "code",
   "execution_count": 9,
   "id": "b97473d3",
   "metadata": {},
   "outputs": [
    {
     "data": {
      "text/plain": [
       "<AxesSubplot:title={'center':'Correlation Matrix'}>"
      ]
     },
     "execution_count": 9,
     "metadata": {},
     "output_type": "execute_result"
    },
    {
     "data": {
      "image/png": "[encoded data removed]",
      "text/plain": [
       "<Figure size 1080x1080 with 2 Axes>"
      ]
     },
     "metadata": {
      "needs_background": "light"
     },
     "output_type": "display_data"
    }
   ],
   "source": [
    "df_Eng1_pos3 = df[['Eng1','Eng2','Eng3','Eng4','pos1','pos2','pos3']]\n",
    "# df_Eng1_pos3 = df.iloc[:,-7:] # The right one can also be used.\n",
    "\n",
    "# Correlation\n",
    "correlation = df_Eng1_pos3.corr()\n",
    "plt.figure(figsize=(15,15))\n",
    "plt.title('Correlation Matrix')\n",
    "sns.heatmap(correlation, vmax=1, square=True,annot=True,cmap='cubehelix')"
   ]
  },
  {
   "cell_type": "markdown",
   "id": "1dcdb7eb",
   "metadata": {},
   "source": [
    "## Data Transformation\n",
    "Before applying PCA, all the variables should be on the same scale; otherwise, a feature with large values will dominate the result. Below we use StandardScaler in sklearn to standardize the dataset’s features onto a unit scale (mean = 0 and variance = 1). Standardization is a useful technique to transform attributes to a standard normal distribution with a mean of 0 and a standard deviation of 1 (c.f. Machine Learning & Data Science Blueprints for Finance)."
   ]
  },
  {
   "cell_type": "code",
   "execution_count": 10,
   "id": "396c3959",
   "metadata": {},
   "outputs": [
    {
     "name": "stderr",
     "output_type": "stream",
     "text": [
      "C:\\Users\\jazzn\\AppData\\Local\\Temp\\ipykernel_7764\\2855245286.py:5: SettingWithCopyWarning: \n",
      "A value is trying to be set on a copy of a slice from a DataFrame\n",
      "\n",
      "See the caveats in the documentation: https://pandas.pydata.org/pandas-docs/stable/user_guide/indexing.html#returning-a-view-versus-a-copy\n",
      "  df_Eng1_pos3.dropna(how='any', inplace=True)\n"
     ]
    },
    {
     "data": {
      "text/html": [
       "<div>\n",
       "<style scoped>\n",
       "    .dataframe tbody tr th:only-of-type {\n",
       "        vertical-align: middle;\n",
       "    }\n",
       "\n",
       "    .dataframe tbody tr th {\n",
       "        vertical-align: top;\n",
       "    }\n",
       "\n",
       "    .dataframe thead th {\n",
       "        text-align: right;\n",
       "    }\n",
       "</style>\n",
       "<table border=\"1\" class=\"dataframe\">\n",
       "  <thead>\n",
       "    <tr style=\"text-align: right;\">\n",
       "      <th></th>\n",
       "      <th>Eng1</th>\n",
       "      <th>Eng2</th>\n",
       "      <th>Eng3</th>\n",
       "      <th>Eng4</th>\n",
       "      <th>pos1</th>\n",
       "      <th>pos2</th>\n",
       "      <th>pos3</th>\n",
       "    </tr>\n",
       "  </thead>\n",
       "  <tbody>\n",
       "    <tr>\n",
       "      <th>0</th>\n",
       "      <td>-0.623484</td>\n",
       "      <td>-0.334274</td>\n",
       "      <td>-0.529125</td>\n",
       "      <td>0.506378</td>\n",
       "      <td>-0.237934</td>\n",
       "      <td>-0.167301</td>\n",
       "      <td>-0.319159</td>\n",
       "    </tr>\n",
       "    <tr>\n",
       "      <th>1</th>\n",
       "      <td>1.348906</td>\n",
       "      <td>1.821665</td>\n",
       "      <td>-0.529125</td>\n",
       "      <td>-0.544262</td>\n",
       "      <td>0.893271</td>\n",
       "      <td>1.032648</td>\n",
       "      <td>0.882382</td>\n",
       "    </tr>\n",
       "    <tr>\n",
       "      <th>2</th>\n",
       "      <td>-0.623484</td>\n",
       "      <td>-1.412244</td>\n",
       "      <td>-1.624230</td>\n",
       "      <td>-1.594902</td>\n",
       "      <td>0.893271</td>\n",
       "      <td>-1.367250</td>\n",
       "      <td>0.882382</td>\n",
       "    </tr>\n",
       "    <tr>\n",
       "      <th>3</th>\n",
       "      <td>-0.623484</td>\n",
       "      <td>-0.334274</td>\n",
       "      <td>0.565980</td>\n",
       "      <td>-0.544262</td>\n",
       "      <td>-0.237934</td>\n",
       "      <td>-0.167301</td>\n",
       "      <td>-0.319159</td>\n",
       "    </tr>\n",
       "    <tr>\n",
       "      <th>4</th>\n",
       "      <td>0.362711</td>\n",
       "      <td>-0.334274</td>\n",
       "      <td>0.565980</td>\n",
       "      <td>0.506378</td>\n",
       "      <td>-0.237934</td>\n",
       "      <td>-0.167301</td>\n",
       "      <td>-0.319159</td>\n",
       "    </tr>\n",
       "  </tbody>\n",
       "</table>\n",
       "</div>"
      ],
      "text/plain": [
       "       Eng1      Eng2      Eng3      Eng4      pos1      pos2      pos3\n",
       "0 -0.623484 -0.334274 -0.529125  0.506378 -0.237934 -0.167301 -0.319159\n",
       "1  1.348906  1.821665 -0.529125 -0.544262  0.893271  1.032648  0.882382\n",
       "2 -0.623484 -1.412244 -1.624230 -1.594902  0.893271 -1.367250  0.882382\n",
       "3 -0.623484 -0.334274  0.565980 -0.544262 -0.237934 -0.167301 -0.319159\n",
       "4  0.362711 -0.334274  0.565980  0.506378 -0.237934 -0.167301 -0.319159"
      ]
     },
     "execution_count": 10,
     "metadata": {},
     "output_type": "execute_result"
    }
   ],
   "source": [
    "scaler = StandardScaler().fit(df_Eng1_pos3)\n",
    "rescaled_df = pd.DataFrame(scaler.fit_transform(df_Eng1_pos3),\n",
    "                           columns = df_Eng1_pos3.columns, index = df_Eng1_pos3.index)\n",
    "# Summarize transformed data\n",
    "df_Eng1_pos3.dropna(how='any', inplace=True)\n",
    "rescaled_df.dropna(how='any', inplace=True)\n",
    "rescaled_df.head()"
   ]
  },
  {
   "cell_type": "markdown",
   "id": "6837e10d",
   "metadata": {},
   "source": [
    "## Results - Applying Principal Component Analysis (PCA)\n",
    "### We perform PCA on 'Eng1', 'Eng2', 'Eng3', 'Eng4', 'pos1', 'pos2', 'pos3'.\n",
    "In machine learning, it is common to split the data into training and testing data at this time and use it later for holdout validation. However, since this is an exploratory analysis, this step is eliminated."
   ]
  },
  {
   "cell_type": "code",
   "execution_count": 11,
   "id": "42c9f5aa",
   "metadata": {},
   "outputs": [],
   "source": [
    "X = rescaled_df\n",
    "pca = PCA()\n",
    "PrincipalComponent = pca.fit(X)"
   ]
  },
  {
   "cell_type": "markdown",
   "id": "03f45837",
   "metadata": {},
   "source": [
    "### The results below correspond to \"Figure 5.7 Factor analysis total variance explained\"."
   ]
  },
  {
   "cell_type": "code",
   "execution_count": 12,
   "id": "764993e5",
   "metadata": {},
   "outputs": [
    {
     "name": "stdout",
     "output_type": "stream",
     "text": [
      "eigenvalues\n",
      "[3.46119111 1.74902769 0.62895255 0.44256943 0.26334371 0.24602466\n",
      " 0.21731444]\n"
     ]
    }
   ],
   "source": [
    "print(\"eigenvalues\")\n",
    "print(pca.explained_variance_)"
   ]
  },
  {
   "cell_type": "code",
   "execution_count": 13,
   "id": "5b1ac089",
   "metadata": {},
   "outputs": [
    {
     "name": "stdout",
     "output_type": "stream",
     "text": [
      "contribution ratio\n",
      "[0.49386157 0.24956078 0.08974237 0.06314821 0.03757531 0.03510414\n",
      " 0.03100761]\n"
     ]
    }
   ],
   "source": [
    "print(\"contribution ratio\")\n",
    "print(pca.explained_variance_ratio_)"
   ]
  },
  {
   "cell_type": "code",
   "execution_count": 14,
   "id": "8349aaa9",
   "metadata": {},
   "outputs": [
    {
     "name": "stdout",
     "output_type": "stream",
     "text": [
      "cumulative contribution ratio\n",
      "[0.49386157 0.74342236 0.83316473 0.89631294 0.93388826 0.96899239\n",
      " 1.        ]\n"
     ]
    }
   ],
   "source": [
    "print(\"cumulative contribution ratio\")\n",
    "print(np.cumsum(pca.explained_variance_ratio_))"
   ]
  },
  {
   "cell_type": "code",
   "execution_count": 15,
   "id": "1b945c90",
   "metadata": {},
   "outputs": [
    {
     "data": {
      "text/html": [
       "<style type=\"text/css\">\n",
       "</style>\n",
       "<table id=\"T_6d78b\">\n",
       "  <thead>\n",
       "    <tr>\n",
       "      <th class=\"blank level0\" >&nbsp;</th>\n",
       "      <th id=\"T_6d78b_level0_col0\" class=\"col_heading level0 col0\" >Cumulative Explained Variance</th>\n",
       "    </tr>\n",
       "  </thead>\n",
       "  <tbody>\n",
       "    <tr>\n",
       "      <th id=\"T_6d78b_level0_row0\" class=\"row_heading level0 row0\" >0</th>\n",
       "      <td id=\"T_6d78b_row0_col0\" class=\"data row0 col0\" >49.39%</td>\n",
       "    </tr>\n",
       "    <tr>\n",
       "      <th id=\"T_6d78b_level0_row1\" class=\"row_heading level0 row1\" >1</th>\n",
       "      <td id=\"T_6d78b_row1_col0\" class=\"data row1 col0\" >74.34%</td>\n",
       "    </tr>\n",
       "    <tr>\n",
       "      <th id=\"T_6d78b_level0_row2\" class=\"row_heading level0 row2\" >2</th>\n",
       "      <td id=\"T_6d78b_row2_col0\" class=\"data row2 col0\" >83.32%</td>\n",
       "    </tr>\n",
       "    <tr>\n",
       "      <th id=\"T_6d78b_level0_row3\" class=\"row_heading level0 row3\" >3</th>\n",
       "      <td id=\"T_6d78b_row3_col0\" class=\"data row3 col0\" >89.63%</td>\n",
       "    </tr>\n",
       "    <tr>\n",
       "      <th id=\"T_6d78b_level0_row4\" class=\"row_heading level0 row4\" >4</th>\n",
       "      <td id=\"T_6d78b_row4_col0\" class=\"data row4 col0\" >93.39%</td>\n",
       "    </tr>\n",
       "    <tr>\n",
       "      <th id=\"T_6d78b_level0_row5\" class=\"row_heading level0 row5\" >5</th>\n",
       "      <td id=\"T_6d78b_row5_col0\" class=\"data row5 col0\" >96.90%</td>\n",
       "    </tr>\n",
       "    <tr>\n",
       "      <th id=\"T_6d78b_level0_row6\" class=\"row_heading level0 row6\" >6</th>\n",
       "      <td id=\"T_6d78b_row6_col0\" class=\"data row6 col0\" >100.00%</td>\n",
       "    </tr>\n",
       "  </tbody>\n",
       "</table>\n"
      ],
      "text/plain": [
       "<pandas.io.formats.style.Styler at 0x159b819a640>"
      ]
     },
     "execution_count": 15,
     "metadata": {},
     "output_type": "execute_result"
    },
    {
     "data": {
      "image/png": "[encoded data removed]",
      "text/plain": [
       "<Figure size 1008x288 with 2 Axes>"
      ]
     },
     "metadata": {
      "needs_background": "light"
     },
     "output_type": "display_data"
    }
   ],
   "source": [
    "NumEigenvalues=7\n",
    "fig, axes = plt.subplots(ncols=2, figsize=(14,4))\n",
    "Series1 = pd.Series(pca.explained_variance_ratio_[:NumEigenvalues]).sort_values()*100\n",
    "Series2 = pd.Series(pca.explained_variance_ratio_[:NumEigenvalues]).cumsum()*100\n",
    "Series1.plot.barh(ylim=(0,9), label=\"woohoo\",title='Explained Variance Ratio by Top 7 Factors',ax=axes[0]);\n",
    "Series2.plot(ylim=(0,100),xlim=(0,9),ax=axes[1], title='Cumulative Explained Variance by Factor');\n",
    "# Cumulative explained variance\n",
    "pd.Series(np.cumsum(pca.explained_variance_ratio_)).to_frame('Cumulative Explained Variance').head(NumEigenvalues).style.format('{:,.2%}'.format)"
   ]
  },
  {
   "cell_type": "markdown",
   "id": "1feda923",
   "metadata": {},
   "source": [
    "Looking at component 1 (or factor 1), it has a total eigenvalue of 3.458 and accounts for 49.406 per cent of variance in the items. Component 2 (or factor 2) has a total eigenvalue of 1.767 and accounts for 25.244 per cent of the variance in the items. Looking at the two together, the cumulative percentage value tells us that they both account for 74.651 of the variancea in all of the items."
   ]
  },
  {
   "cell_type": "markdown",
   "id": "6b5060e7",
   "metadata": {},
   "source": [
    "### The results below correspond to \"Figure 5.8 Rotated component matrix\"."
   ]
  },
  {
   "cell_type": "code",
   "execution_count": 16,
   "id": "a4d91fce",
   "metadata": {},
   "outputs": [
    {
     "name": "stdout",
     "output_type": "stream",
     "text": [
      "Rotated component matrix\n",
      "[[0.837 0.117]\n",
      " [0.881 0.068]\n",
      " [0.862 0.169]\n",
      " [0.893 0.176]\n",
      " [0.189 0.695]\n",
      " [0.051 0.878]\n",
      " [0.092 0.898]]\n"
     ]
    },
    {
     "name": "stderr",
     "output_type": "stream",
     "text": [
      "C:\\Users\\jazzn\\anaconda3\\envs\\zemi\\lib\\site-packages\\sklearn\\utils\\extmath.py:368: FutureWarning: If 'random_state' is not supplied, the current default is to use 0 as a fixed seed. This will change to  None in version 1.2 leading to non-deterministic results that better reflect nature of the randomized_svd solver. If you want to silence this warning, set 'random_state' to an integer seed or to None explicitly depending if you want your code to be deterministic or not.\n",
      "  warnings.warn(\n"
     ]
    }
   ],
   "source": [
    "#pip install factor_analyzer\n",
    "from factor_analyzer import FactorAnalyzer\n",
    "fa = FactorAnalyzer(n_factors=2, method='principal', rotation=\"varimax\")\n",
    "fa.fit(X)\n",
    "print(\"Rotated component matrix\")\n",
    "print(fa.loadings_.round(3))"
   ]
  },
  {
   "cell_type": "markdown",
   "id": "6b6fa0bb",
   "metadata": {},
   "source": [
    "It is possible to see that the first four questions have high (above 0.6) factor loadings on component 1, and the bottom three questions have high factor loadings (above 0.6) on component 2."
   ]
  },
  {
   "cell_type": "markdown",
   "id": "658480f5",
   "metadata": {},
   "source": [
    "## Additional Analysis - Intuition Behind the Principal Components\n",
    "We first have a function to determine the weights of each principal component. We then perform the visualization of the principal components."
   ]
  },
  {
   "cell_type": "code",
   "execution_count": 17,
   "id": "e6dc56e7",
   "metadata": {},
   "outputs": [
    {
     "name": "stdout",
     "output_type": "stream",
     "text": [
      "PCA components\n",
      "[[ 0.42546846  0.43365732  0.45039282  0.46690311  0.26814558  0.2502317\n",
      "   0.27485954]\n",
      " [-0.2257591  -0.27428151 -0.20047639 -0.20632295  0.39321002  0.56492359\n",
      "   0.56328479]\n",
      " [ 0.07740194  0.01579985  0.02425785  0.02322234 -0.87229717  0.4078003\n",
      "   0.25578927]\n",
      " [ 0.71116122 -0.44086265 -0.47141769  0.21678232  0.01559041 -0.13675012\n",
      "   0.10824498]\n",
      " [ 0.21913165 -0.01011263 -0.06280191 -0.12167021  0.10888045  0.64704509\n",
      "  -0.70894924]\n",
      " [ 0.01324958 -0.71629211  0.69361619  0.03528654 -0.01472299 -0.00937714\n",
      "  -0.06400631]\n",
      " [ 0.45615113  0.17007299  0.22155121 -0.82210078  0.01633092 -0.12036806\n",
      "   0.15268111]]\n"
     ]
    }
   ],
   "source": [
    "print(\"PCA components\")\n",
    "print(pca.components_)"
   ]
  },
  {
   "cell_type": "code",
   "execution_count": 18,
   "id": "88756315",
   "metadata": {},
   "outputs": [],
   "source": [
    "def PCWeights():\n",
    "    weights = pd.DataFrame()\n",
    "\n",
    "    for i in range(len(pca.components_)):\n",
    "        weights[\"weights_{}\".format(i)] = pca.components_[i] / sum(pca.components_[i])\n",
    "\n",
    "    weights = weights.values.T\n",
    "    return weights\n",
    "\n",
    "weights=PCWeights()"
   ]
  },
  {
   "cell_type": "code",
   "execution_count": 19,
   "id": "7eaede3a",
   "metadata": {},
   "outputs": [
    {
     "data": {
      "image/png": "[encoded data removed]",
      "text/plain": [
       "<Figure size 1008x1008 with 7 Axes>"
      ]
     },
     "metadata": {
      "needs_background": "light"
     },
     "output_type": "display_data"
    }
   ],
   "source": [
    "weights = PCWeights()\n",
    "NumComponents=7\n",
    "\n",
    "topPortfolios = pd.DataFrame(weights[:NumComponents], columns=X.columns)\n",
    "topPortfolios.index = [f'Principal Component {i}' for i in range(1, NumComponents+1)]\n",
    "\n",
    "axes = topPortfolios.T.plot.bar(subplots=True, legend=False,figsize=(14,14))\n",
    "plt.subplots_adjust(hspace=0.35)\n",
    "axes[0].set_ylim(0, .2);"
   ]
  },
  {
   "cell_type": "markdown",
   "id": "8c587e57",
   "metadata": {},
   "source": [
    "## Conclusion\n",
    "**\"Our questions are measuring two latent variables: engagement and perceived organizational support.\"**"
   ]
  },
  {
   "cell_type": "markdown",
   "id": "1fc6001a",
   "metadata": {},
   "source": [
    "# Example 2: reliability analysis on a four-item engagement scale"
   ]
  },
  {
   "cell_type": "markdown",
   "id": "4aceb7ef",
   "metadata": {},
   "source": [
    "## Results - Applying Reliability Analysis\n",
    "### We perform PCA on 'ocb1', 'ocb2', 'ocb3', 'ocb4'."
   ]
  },
  {
   "cell_type": "code",
   "execution_count": 20,
   "id": "227147c9",
   "metadata": {},
   "outputs": [
    {
     "data": {
      "text/html": [
       "<div>\n",
       "<style scoped>\n",
       "    .dataframe tbody tr th:only-of-type {\n",
       "        vertical-align: middle;\n",
       "    }\n",
       "\n",
       "    .dataframe tbody tr th {\n",
       "        vertical-align: top;\n",
       "    }\n",
       "\n",
       "    .dataframe thead th {\n",
       "        text-align: right;\n",
       "    }\n",
       "</style>\n",
       "<table border=\"1\" class=\"dataframe\">\n",
       "  <thead>\n",
       "    <tr style=\"text-align: right;\">\n",
       "      <th></th>\n",
       "      <th>ocb1</th>\n",
       "      <th>ocb2</th>\n",
       "      <th>ocb3</th>\n",
       "      <th>ocb4</th>\n",
       "    </tr>\n",
       "  </thead>\n",
       "  <tbody>\n",
       "    <tr>\n",
       "      <th>0</th>\n",
       "      <td>1.0</td>\n",
       "      <td>2.0</td>\n",
       "      <td>3.0</td>\n",
       "      <td>4.0</td>\n",
       "    </tr>\n",
       "    <tr>\n",
       "      <th>1</th>\n",
       "      <td>2.0</td>\n",
       "      <td>2.0</td>\n",
       "      <td>2.0</td>\n",
       "      <td>1.0</td>\n",
       "    </tr>\n",
       "    <tr>\n",
       "      <th>2</th>\n",
       "      <td>2.0</td>\n",
       "      <td>1.0</td>\n",
       "      <td>3.0</td>\n",
       "      <td>3.0</td>\n",
       "    </tr>\n",
       "    <tr>\n",
       "      <th>3</th>\n",
       "      <td>3.0</td>\n",
       "      <td>3.0</td>\n",
       "      <td>3.0</td>\n",
       "      <td>5.0</td>\n",
       "    </tr>\n",
       "    <tr>\n",
       "      <th>4</th>\n",
       "      <td>1.0</td>\n",
       "      <td>2.0</td>\n",
       "      <td>2.0</td>\n",
       "      <td>1.0</td>\n",
       "    </tr>\n",
       "  </tbody>\n",
       "</table>\n",
       "</div>"
      ],
      "text/plain": [
       "   ocb1  ocb2  ocb3  ocb4\n",
       "0   1.0   2.0   3.0   4.0\n",
       "1   2.0   2.0   2.0   1.0\n",
       "2   2.0   1.0   3.0   3.0\n",
       "3   3.0   3.0   3.0   5.0\n",
       "4   1.0   2.0   2.0   1.0"
      ]
     },
     "execution_count": 20,
     "metadata": {},
     "output_type": "execute_result"
    }
   ],
   "source": [
    "df_ocb1_ocb4 = df[['ocb1','ocb2','ocb3','ocb4']]\n",
    "df_ocb1_ocb4.head()"
   ]
  },
  {
   "cell_type": "markdown",
   "id": "cea7d900",
   "metadata": {},
   "source": [
    "### The results below correspond to \"Figure 5.13 Reliability analysis output\"."
   ]
  },
  {
   "cell_type": "code",
   "execution_count": 21,
   "id": "c8296cec",
   "metadata": {},
   "outputs": [
    {
     "name": "stdout",
     "output_type": "stream",
     "text": [
      "Cronbach's Alpha\n",
      "(0.6693878534725416, array([0.631, 0.705]))\n"
     ]
    }
   ],
   "source": [
    "#pip install pingouin\n",
    "import pingouin as pg\n",
    "print(\"Cronbach's Alpha\")\n",
    "print(pg.cronbach_alpha(data=df_ocb1_ocb4))"
   ]
  },
  {
   "cell_type": "markdown",
   "id": "031d4c27",
   "metadata": {},
   "source": [
    "Cronbach's Alpha turns out to be 0.669. The 95% confidence interval for Cronbach's Alpha is also given as [0.631, 0.705]. Since Cronbach's Alpha is below 0.7 and above 0.6, we conclude that the internal consistency of this survey is questionable."
   ]
  },
  {
   "cell_type": "code",
   "execution_count": 22,
   "id": "9c299662",
   "metadata": {},
   "outputs": [
    {
     "name": "stderr",
     "output_type": "stream",
     "text": [
      "C:\\Users\\jazzn\\anaconda3\\envs\\zemi\\lib\\site-packages\\psython\\__init__.py:22: FutureWarning: The frame.append method is deprecated and will be removed from pandas in a future version. Use pandas.concat instead.\n",
      "  result = result.append({'Item': column, \"Scale Mean if Item Deleted\": scale_mean, \"Scale Variance if Item Deleted\": variance,\n",
      "C:\\Users\\jazzn\\anaconda3\\envs\\zemi\\lib\\site-packages\\psython\\__init__.py:22: FutureWarning: The frame.append method is deprecated and will be removed from pandas in a future version. Use pandas.concat instead.\n",
      "  result = result.append({'Item': column, \"Scale Mean if Item Deleted\": scale_mean, \"Scale Variance if Item Deleted\": variance,\n",
      "C:\\Users\\jazzn\\anaconda3\\envs\\zemi\\lib\\site-packages\\psython\\__init__.py:22: FutureWarning: The frame.append method is deprecated and will be removed from pandas in a future version. Use pandas.concat instead.\n",
      "  result = result.append({'Item': column, \"Scale Mean if Item Deleted\": scale_mean, \"Scale Variance if Item Deleted\": variance,\n",
      "C:\\Users\\jazzn\\anaconda3\\envs\\zemi\\lib\\site-packages\\psython\\__init__.py:22: FutureWarning: The frame.append method is deprecated and will be removed from pandas in a future version. Use pandas.concat instead.\n",
      "  result = result.append({'Item': column, \"Scale Mean if Item Deleted\": scale_mean, \"Scale Variance if Item Deleted\": variance,\n"
     ]
    },
    {
     "data": {
      "text/plain": [
       "[(0.6693878534725416, array([0.631, 0.705])),\n",
       "    Item Scale Mean if Item Deleted Scale Variance if Item Deleted  \\\n",
       " 0  ocb1                   7.539663                        6.37869   \n",
       " 1  ocb2                   7.128606                       5.924476   \n",
       " 2  ocb3                    6.94351                       5.413171   \n",
       " 3  ocb4                   6.307692                       5.269832   \n",
       " \n",
       "   Corrected Item-Total Correlation Cronbach's Alpha if Item Deleted  \n",
       " 0                         0.519288                         0.580577  \n",
       " 1                         0.555951                         0.548144  \n",
       " 2                         0.567576                         0.525163  \n",
       " 3                         0.292388                          0.77151  ]"
      ]
     },
     "execution_count": 22,
     "metadata": {},
     "output_type": "execute_result"
    }
   ],
   "source": [
    "#pip install psython\n",
    "#!pip install PrettyTable\n",
    "import psython as psy\n",
    "psy.cronbach_alpha_scale_if_deleted(df_ocb1_ocb4)"
   ]
  },
  {
   "cell_type": "markdown",
   "id": "48e7f5b8",
   "metadata": {},
   "source": [
    "Looking through these values, it shows that the Cronbach's alpha would be much higher value of 0.77151 if the last question, 'I go the extra mile', was deleted from the responses. Although from a face validity point of view ‘I go the extra mile’ might be a reasonable question to ask if one wants to measure ‘going the extra mile’, and this might be valid to a degree, because it could have a number of interpretations it could lead to low reliability and high measurement error."
   ]
  },
  {
   "cell_type": "markdown",
   "id": "22bd4871",
   "metadata": {},
   "source": [
    "## Conclusion\n",
    "**\"The three items of 'I work harder than my job requires', 'I put a huge amount of effort into my job', and 'I help out my teammates' form a coherent scale and can be interpreted as being a reliable measure of organizational citizenship behaviour.\"**"
   ]
  },
  {
   "cell_type": "markdown",
   "id": "59ec2e1b",
   "metadata": {},
   "source": [
    "# Example 3: reliability and factor testing with group-level engagement data"
   ]
  },
  {
   "cell_type": "markdown",
   "id": "72357d9e",
   "metadata": {},
   "source": [
    "## Loading the Data\n",
    "The data set 'Chapter 5 SURVEY PROVIDER ENGAGEMENT DATA TEAM LEVEL.xls' measures the percentage of team members who answered positively on nine engagement measures in 212 teams."
   ]
  },
  {
   "cell_type": "code",
   "execution_count": 23,
   "id": "79f155db",
   "metadata": {},
   "outputs": [
    {
     "data": {
      "text/html": [
       "<div>\n",
       "<style scoped>\n",
       "    .dataframe tbody tr th:only-of-type {\n",
       "        vertical-align: middle;\n",
       "    }\n",
       "\n",
       "    .dataframe tbody tr th {\n",
       "        vertical-align: top;\n",
       "    }\n",
       "\n",
       "    .dataframe thead th {\n",
       "        text-align: right;\n",
       "    }\n",
       "</style>\n",
       "<table border=\"1\" class=\"dataframe\">\n",
       "  <thead>\n",
       "    <tr style=\"text-align: right;\">\n",
       "      <th></th>\n",
       "      <th>Eng1</th>\n",
       "      <th>Eng2</th>\n",
       "      <th>Eng3</th>\n",
       "      <th>Eng4</th>\n",
       "      <th>Eng5</th>\n",
       "      <th>Eng6</th>\n",
       "      <th>Eng7</th>\n",
       "      <th>Eng8</th>\n",
       "      <th>Eng9</th>\n",
       "    </tr>\n",
       "  </thead>\n",
       "  <tbody>\n",
       "    <tr>\n",
       "      <th>0</th>\n",
       "      <td>100</td>\n",
       "      <td>100</td>\n",
       "      <td>97</td>\n",
       "      <td>50</td>\n",
       "      <td>80</td>\n",
       "      <td>77</td>\n",
       "      <td>80</td>\n",
       "      <td>100</td>\n",
       "      <td>90</td>\n",
       "    </tr>\n",
       "    <tr>\n",
       "      <th>1</th>\n",
       "      <td>90</td>\n",
       "      <td>90</td>\n",
       "      <td>88</td>\n",
       "      <td>20</td>\n",
       "      <td>30</td>\n",
       "      <td>27</td>\n",
       "      <td>70</td>\n",
       "      <td>60</td>\n",
       "      <td>65</td>\n",
       "    </tr>\n",
       "    <tr>\n",
       "      <th>2</th>\n",
       "      <td>100</td>\n",
       "      <td>100</td>\n",
       "      <td>83</td>\n",
       "      <td>60</td>\n",
       "      <td>60</td>\n",
       "      <td>60</td>\n",
       "      <td>100</td>\n",
       "      <td>100</td>\n",
       "      <td>100</td>\n",
       "    </tr>\n",
       "    <tr>\n",
       "      <th>3</th>\n",
       "      <td>80</td>\n",
       "      <td>100</td>\n",
       "      <td>86</td>\n",
       "      <td>30</td>\n",
       "      <td>30</td>\n",
       "      <td>43</td>\n",
       "      <td>100</td>\n",
       "      <td>90</td>\n",
       "      <td>95</td>\n",
       "    </tr>\n",
       "    <tr>\n",
       "      <th>4</th>\n",
       "      <td>100</td>\n",
       "      <td>100</td>\n",
       "      <td>99</td>\n",
       "      <td>100</td>\n",
       "      <td>100</td>\n",
       "      <td>100</td>\n",
       "      <td>100</td>\n",
       "      <td>100</td>\n",
       "      <td>100</td>\n",
       "    </tr>\n",
       "  </tbody>\n",
       "</table>\n",
       "</div>"
      ],
      "text/plain": [
       "   Eng1  Eng2  Eng3  Eng4  Eng5  Eng6  Eng7  Eng8  Eng9\n",
       "0   100   100    97    50    80    77    80   100    90\n",
       "1    90    90    88    20    30    27    70    60    65\n",
       "2   100   100    83    60    60    60   100   100   100\n",
       "3    80   100    86    30    30    43   100    90    95\n",
       "4   100   100    99   100   100   100   100   100   100"
      ]
     },
     "execution_count": 23,
     "metadata": {},
     "output_type": "execute_result"
    }
   ],
   "source": [
    "df = pd.read_excel(\"Chapter 5 SPEDTL.xls\")\n",
    "pd.set_option('display.max_columns', None)\n",
    "df.head()"
   ]
  },
  {
   "cell_type": "code",
   "execution_count": 24,
   "id": "7443a6e9",
   "metadata": {},
   "outputs": [
    {
     "name": "stdout",
     "output_type": "stream",
     "text": [
      "(212, 9)\n"
     ]
    }
   ],
   "source": [
    "print(df.shape)"
   ]
  },
  {
   "cell_type": "code",
   "execution_count": 25,
   "id": "b97624cf",
   "metadata": {},
   "outputs": [],
   "source": [
    "#df.info()"
   ]
  },
  {
   "cell_type": "code",
   "execution_count": 26,
   "id": "2a9ce14a",
   "metadata": {},
   "outputs": [
    {
     "name": "stdout",
     "output_type": "stream",
     "text": [
      "Null Values = False\n"
     ]
    }
   ],
   "source": [
    "# Checking for any null values and removing the null values\n",
    "print('Null Values =',df.isnull().values.any())"
   ]
  },
  {
   "cell_type": "markdown",
   "id": "961ef667",
   "metadata": {},
   "source": [
    "## Data Visualization"
   ]
  },
  {
   "cell_type": "code",
   "execution_count": 27,
   "id": "23db2a2a",
   "metadata": {},
   "outputs": [
    {
     "data": {
      "text/plain": [
       "<AxesSubplot:title={'center':'Correlation Matrix'}>"
      ]
     },
     "execution_count": 27,
     "metadata": {},
     "output_type": "execute_result"
    },
    {
     "data": {
      "image/png": "[encoded data removed]",
      "text/plain": [
       "<Figure size 1080x1080 with 2 Axes>"
      ]
     },
     "metadata": {
      "needs_background": "light"
     },
     "output_type": "display_data"
    }
   ],
   "source": [
    "# Correlation\n",
    "correlation = df.corr()\n",
    "plt.figure(figsize=(15,15))\n",
    "plt.title('Correlation Matrix')\n",
    "sns.heatmap(correlation, vmax=1, square=True,annot=True,cmap='cubehelix')"
   ]
  },
  {
   "cell_type": "markdown",
   "id": "285fece0",
   "metadata": {},
   "source": [
    "## Data Transformation"
   ]
  },
  {
   "cell_type": "code",
   "execution_count": 28,
   "id": "8451c705",
   "metadata": {},
   "outputs": [
    {
     "data": {
      "text/html": [
       "<div>\n",
       "<style scoped>\n",
       "    .dataframe tbody tr th:only-of-type {\n",
       "        vertical-align: middle;\n",
       "    }\n",
       "\n",
       "    .dataframe tbody tr th {\n",
       "        vertical-align: top;\n",
       "    }\n",
       "\n",
       "    .dataframe thead th {\n",
       "        text-align: right;\n",
       "    }\n",
       "</style>\n",
       "<table border=\"1\" class=\"dataframe\">\n",
       "  <thead>\n",
       "    <tr style=\"text-align: right;\">\n",
       "      <th></th>\n",
       "      <th>Eng1</th>\n",
       "      <th>Eng2</th>\n",
       "      <th>Eng3</th>\n",
       "      <th>Eng4</th>\n",
       "      <th>Eng5</th>\n",
       "      <th>Eng6</th>\n",
       "      <th>Eng7</th>\n",
       "      <th>Eng8</th>\n",
       "      <th>Eng9</th>\n",
       "    </tr>\n",
       "  </thead>\n",
       "  <tbody>\n",
       "    <tr>\n",
       "      <th>0</th>\n",
       "      <td>0.965089</td>\n",
       "      <td>0.910410</td>\n",
       "      <td>1.358956</td>\n",
       "      <td>-0.574626</td>\n",
       "      <td>0.168903</td>\n",
       "      <td>0.432918</td>\n",
       "      <td>-0.269052</td>\n",
       "      <td>0.892496</td>\n",
       "      <td>0.278681</td>\n",
       "    </tr>\n",
       "    <tr>\n",
       "      <th>1</th>\n",
       "      <td>0.139761</td>\n",
       "      <td>0.175705</td>\n",
       "      <td>0.531086</td>\n",
       "      <td>-2.196021</td>\n",
       "      <td>-2.700279</td>\n",
       "      <td>-2.991654</td>\n",
       "      <td>-0.960435</td>\n",
       "      <td>-2.797589</td>\n",
       "      <td>-2.088321</td>\n",
       "    </tr>\n",
       "    <tr>\n",
       "      <th>2</th>\n",
       "      <td>0.965089</td>\n",
       "      <td>0.910410</td>\n",
       "      <td>0.071159</td>\n",
       "      <td>-0.034161</td>\n",
       "      <td>-0.978770</td>\n",
       "      <td>-0.731437</td>\n",
       "      <td>1.113714</td>\n",
       "      <td>0.892496</td>\n",
       "      <td>1.225482</td>\n",
       "    </tr>\n",
       "    <tr>\n",
       "      <th>3</th>\n",
       "      <td>-0.685567</td>\n",
       "      <td>0.910410</td>\n",
       "      <td>0.347115</td>\n",
       "      <td>-1.655556</td>\n",
       "      <td>-2.700279</td>\n",
       "      <td>-1.895791</td>\n",
       "      <td>1.113714</td>\n",
       "      <td>-0.030025</td>\n",
       "      <td>0.752081</td>\n",
       "    </tr>\n",
       "    <tr>\n",
       "      <th>4</th>\n",
       "      <td>0.965089</td>\n",
       "      <td>0.910410</td>\n",
       "      <td>1.542927</td>\n",
       "      <td>2.127698</td>\n",
       "      <td>1.316575</td>\n",
       "      <td>2.008220</td>\n",
       "      <td>1.113714</td>\n",
       "      <td>0.892496</td>\n",
       "      <td>1.225482</td>\n",
       "    </tr>\n",
       "  </tbody>\n",
       "</table>\n",
       "</div>"
      ],
      "text/plain": [
       "       Eng1      Eng2      Eng3      Eng4      Eng5      Eng6      Eng7  \\\n",
       "0  0.965089  0.910410  1.358956 -0.574626  0.168903  0.432918 -0.269052   \n",
       "1  0.139761  0.175705  0.531086 -2.196021 -2.700279 -2.991654 -0.960435   \n",
       "2  0.965089  0.910410  0.071159 -0.034161 -0.978770 -0.731437  1.113714   \n",
       "3 -0.685567  0.910410  0.347115 -1.655556 -2.700279 -1.895791  1.113714   \n",
       "4  0.965089  0.910410  1.542927  2.127698  1.316575  2.008220  1.113714   \n",
       "\n",
       "       Eng8      Eng9  \n",
       "0  0.892496  0.278681  \n",
       "1 -2.797589 -2.088321  \n",
       "2  0.892496  1.225482  \n",
       "3 -0.030025  0.752081  \n",
       "4  0.892496  1.225482  "
      ]
     },
     "execution_count": 28,
     "metadata": {},
     "output_type": "execute_result"
    }
   ],
   "source": [
    "scaler = StandardScaler().fit(df)\n",
    "rescaled_df = pd.DataFrame(scaler.fit_transform(df),\n",
    "                           columns = df.columns, index = df.index)\n",
    "# Summarize transformed data\n",
    "df.dropna(how='any', inplace=True)\n",
    "rescaled_df.dropna(how='any', inplace=True)\n",
    "rescaled_df.head()"
   ]
  },
  {
   "cell_type": "markdown",
   "id": "2422cc7f",
   "metadata": {},
   "source": [
    "## Results - Applying Principal Component Analysis (PCA)"
   ]
  },
  {
   "cell_type": "code",
   "execution_count": 29,
   "id": "78993c1f",
   "metadata": {},
   "outputs": [],
   "source": [
    "X = rescaled_df\n",
    "pca = PCA()\n",
    "PrincipalComponent = pca.fit(X)"
   ]
  },
  {
   "cell_type": "markdown",
   "id": "3ad36628",
   "metadata": {},
   "source": [
    "### The results below correspond to \"Figure 5.15 Total variance explained in team-level engagement data\"."
   ]
  },
  {
   "cell_type": "code",
   "execution_count": 30,
   "id": "8cb3133d",
   "metadata": {},
   "outputs": [
    {
     "name": "stdout",
     "output_type": "stream",
     "text": [
      "eigenvalues\n",
      "[4.52800753e+00 1.62442106e+00 1.37668438e+00 6.22866847e-01\n",
      " 4.26760921e-01 2.10008309e-01 1.68892405e-01 8.45980762e-02\n",
      " 4.14496655e-04]\n"
     ]
    }
   ],
   "source": [
    "print(\"eigenvalues\")\n",
    "print(pca.explained_variance_)"
   ]
  },
  {
   "cell_type": "code",
   "execution_count": 31,
   "id": "81a5bf54",
   "metadata": {},
   "outputs": [
    {
     "name": "stdout",
     "output_type": "stream",
     "text": [
      "contribution ratio\n",
      "[5.00738778e-01 1.79639855e-01 1.52243399e-01 6.88809773e-02\n",
      " 4.71942109e-02 2.32241893e-02 1.86773048e-02 9.35544763e-03\n",
      " 4.58379424e-05]\n"
     ]
    }
   ],
   "source": [
    "print(\"contribution ratio\")\n",
    "print(pca.explained_variance_ratio_)"
   ]
  },
  {
   "cell_type": "code",
   "execution_count": 32,
   "id": "2459fdd4",
   "metadata": {},
   "outputs": [
    {
     "name": "stdout",
     "output_type": "stream",
     "text": [
      "cumulative contribution ratio\n",
      "[0.50073878 0.68037863 0.83262203 0.90150301 0.94869722 0.97192141\n",
      " 0.99059871 0.99995416 1.        ]\n"
     ]
    }
   ],
   "source": [
    "print(\"cumulative contribution ratio\")\n",
    "print(np.cumsum(pca.explained_variance_ratio_))"
   ]
  },
  {
   "cell_type": "code",
   "execution_count": 33,
   "id": "ebeb2852",
   "metadata": {},
   "outputs": [
    {
     "data": {
      "text/html": [
       "<style type=\"text/css\">\n",
       "</style>\n",
       "<table id=\"T_0a65b\">\n",
       "  <thead>\n",
       "    <tr>\n",
       "      <th class=\"blank level0\" >&nbsp;</th>\n",
       "      <th id=\"T_0a65b_level0_col0\" class=\"col_heading level0 col0\" >Cumulative Explained Variance</th>\n",
       "    </tr>\n",
       "  </thead>\n",
       "  <tbody>\n",
       "    <tr>\n",
       "      <th id=\"T_0a65b_level0_row0\" class=\"row_heading level0 row0\" >0</th>\n",
       "      <td id=\"T_0a65b_row0_col0\" class=\"data row0 col0\" >50.07%</td>\n",
       "    </tr>\n",
       "    <tr>\n",
       "      <th id=\"T_0a65b_level0_row1\" class=\"row_heading level0 row1\" >1</th>\n",
       "      <td id=\"T_0a65b_row1_col0\" class=\"data row1 col0\" >68.04%</td>\n",
       "    </tr>\n",
       "    <tr>\n",
       "      <th id=\"T_0a65b_level0_row2\" class=\"row_heading level0 row2\" >2</th>\n",
       "      <td id=\"T_0a65b_row2_col0\" class=\"data row2 col0\" >83.26%</td>\n",
       "    </tr>\n",
       "    <tr>\n",
       "      <th id=\"T_0a65b_level0_row3\" class=\"row_heading level0 row3\" >3</th>\n",
       "      <td id=\"T_0a65b_row3_col0\" class=\"data row3 col0\" >90.15%</td>\n",
       "    </tr>\n",
       "    <tr>\n",
       "      <th id=\"T_0a65b_level0_row4\" class=\"row_heading level0 row4\" >4</th>\n",
       "      <td id=\"T_0a65b_row4_col0\" class=\"data row4 col0\" >94.87%</td>\n",
       "    </tr>\n",
       "    <tr>\n",
       "      <th id=\"T_0a65b_level0_row5\" class=\"row_heading level0 row5\" >5</th>\n",
       "      <td id=\"T_0a65b_row5_col0\" class=\"data row5 col0\" >97.19%</td>\n",
       "    </tr>\n",
       "    <tr>\n",
       "      <th id=\"T_0a65b_level0_row6\" class=\"row_heading level0 row6\" >6</th>\n",
       "      <td id=\"T_0a65b_row6_col0\" class=\"data row6 col0\" >99.06%</td>\n",
       "    </tr>\n",
       "    <tr>\n",
       "      <th id=\"T_0a65b_level0_row7\" class=\"row_heading level0 row7\" >7</th>\n",
       "      <td id=\"T_0a65b_row7_col0\" class=\"data row7 col0\" >100.00%</td>\n",
       "    </tr>\n",
       "    <tr>\n",
       "      <th id=\"T_0a65b_level0_row8\" class=\"row_heading level0 row8\" >8</th>\n",
       "      <td id=\"T_0a65b_row8_col0\" class=\"data row8 col0\" >100.00%</td>\n",
       "    </tr>\n",
       "  </tbody>\n",
       "</table>\n"
      ],
      "text/plain": [
       "<pandas.io.formats.style.Styler at 0x159baae6a00>"
      ]
     },
     "execution_count": 33,
     "metadata": {},
     "output_type": "execute_result"
    },
    {
     "data": {
      "image/png": "[encoded data removed]",
      "text/plain": [
       "<Figure size 1008x288 with 2 Axes>"
      ]
     },
     "metadata": {
      "needs_background": "light"
     },
     "output_type": "display_data"
    }
   ],
   "source": [
    "NumEigenvalues=9\n",
    "fig, axes = plt.subplots(ncols=2, figsize=(14,4))\n",
    "Series1 = pd.Series(pca.explained_variance_ratio_[:NumEigenvalues]).sort_values()*100\n",
    "Series2 = pd.Series(pca.explained_variance_ratio_[:NumEigenvalues]).cumsum()*100\n",
    "Series1.plot.barh(ylim=(0,9), label=\"woohoo\",title='Explained Variance Ratio by Top 7 Factors',ax=axes[0]);\n",
    "Series2.plot(ylim=(0,100),xlim=(0,9),ax=axes[1], title='Cumulative Explained Variance by Factor');\n",
    "# Cumulative explained variance\n",
    "pd.Series(np.cumsum(pca.explained_variance_ratio_)).to_frame('Cumulative Explained Variance').head(NumEigenvalues).style.format('{:,.2%}'.format)"
   ]
  },
  {
   "cell_type": "markdown",
   "id": "95cc21b8",
   "metadata": {},
   "source": [
    "We have three eigenvalues produced above 1, which suggests that there are three possible factors in our scale. Corresponding with these three eigenvalues that are greater than 1, our rotated component matrix below has three columns."
   ]
  },
  {
   "cell_type": "markdown",
   "id": "50b0d1ac",
   "metadata": {},
   "source": [
    "### The results below correspond to \"Figure 5.16 Rotated component matrix in team-level engagement data\"."
   ]
  },
  {
   "cell_type": "code",
   "execution_count": 34,
   "id": "59943909",
   "metadata": {},
   "outputs": [
    {
     "name": "stdout",
     "output_type": "stream",
     "text": [
      "Rotated component matrix\n",
      "[[ 0.883  0.134  0.23 ]\n",
      " [ 0.907  0.148  0.146]\n",
      " [ 0.878  0.207  0.264]\n",
      " [ 0.263  0.839  0.049]\n",
      " [-0.03   0.859  0.21 ]\n",
      " [ 0.279  0.911  0.188]\n",
      " [ 0.275  0.083  0.805]\n",
      " [ 0.101  0.195  0.786]\n",
      " [ 0.24   0.155  0.955]]\n"
     ]
    },
    {
     "name": "stderr",
     "output_type": "stream",
     "text": [
      "C:\\Users\\jazzn\\anaconda3\\envs\\zemi\\lib\\site-packages\\sklearn\\utils\\extmath.py:368: FutureWarning: If 'random_state' is not supplied, the current default is to use 0 as a fixed seed. This will change to  None in version 1.2 leading to non-deterministic results that better reflect nature of the randomized_svd solver. If you want to silence this warning, set 'random_state' to an integer seed or to None explicitly depending if you want your code to be deterministic or not.\n",
      "  warnings.warn(\n"
     ]
    }
   ],
   "source": [
    "from factor_analyzer import FactorAnalyzer\n",
    "fa = FactorAnalyzer(n_factors=3, method='principal', rotation=\"varimax\")\n",
    "fa.fit(X)\n",
    "print(\"Rotated component matrix\")\n",
    "print(fa.loadings_.round(3))"
   ]
  },
  {
   "cell_type": "markdown",
   "id": "04a99456",
   "metadata": {},
   "source": [
    "We can see that each of the columns tends to have three items that load together onto each of the components with loadings that are greater than 0.70. This provides us with information about what items tend to load together into particular factors."
   ]
  },
  {
   "cell_type": "markdown",
   "id": "f8854e91",
   "metadata": {},
   "source": [
    "### The results below correspond to \"Figure 5.17 A very stylish 3D graph\"."
   ]
  },
  {
   "cell_type": "code",
   "execution_count": 35,
   "id": "efee2ff6",
   "metadata": {
    "scrolled": true
   },
   "outputs": [
    {
     "data": {
      "image/png": "[encoded data removed]",
      "text/plain": [
       "<Figure size 360x360 with 1 Axes>"
      ]
     },
     "metadata": {
      "needs_background": "light"
     },
     "output_type": "display_data"
    }
   ],
   "source": [
    "import numpy as np\n",
    "import matplotlib.pyplot as plt\n",
    "from mpl_toolkits.mplot3d import Axes3D\n",
    "\n",
    "# Add figure\n",
    "fig = plt.figure(figsize = (5, 5))\n",
    "\n",
    "# Add 3DAxes\n",
    "ax = fig.add_subplot(111, projection='3d')\n",
    "\n",
    "# Set the title of Axes\n",
    "ax.set_title(\"Component Plot in Rotated Space\", size = 14)\n",
    "\n",
    "# Set axis labels\n",
    "ax.set_xlabel(\"PCA1\", size = 14, color = \"r\") #PC is more appropriate than PCA.\n",
    "ax.set_ylabel(\"PCA3\", size = 14, color = \"r\") #PC is more appropriate than PCA.\n",
    "ax.set_zlabel(\"PCA2\", size = 14, color = \"r\") #PC is more appropriate than PCA.\n",
    "\n",
    "# Set axis scale\n",
    "ax.set_xticks([-1.0, -0.5, 0.0, 0.5, 1.0])\n",
    "ax.set_yticks([-1.0, -0.5, 0.0, 0.5, 1.0])\n",
    "ax.set_zticks([-1.0, -0.5, 0.0, 0.5, 1.0])\n",
    "\n",
    "# Assign numerical values\n",
    "x = [0.883, 0.907, 0.878, 0.263, -0.03, 0.279, 0.275, 0.101, 0.24]\n",
    "y = [0.134, 0.148, 0.207, 0.839, 0.859, 0.911, 0.083, 0.195, 0.155]\n",
    "z = [0.23, 0.146, 0.264, 0.049, 0.21, 0.188, 0.805, 0.786, 0.955]\n",
    "\n",
    "#x = fa.loadings_.round(3)[:, 0]\n",
    "#y = fa.loadings_.round(3)[:, 1]\n",
    "#z = fa.loadings_.round(3)[:, 2]\n",
    "\n",
    "# Draw a curve\n",
    "ax.scatter(x, y, z, s = 40, c = \"blue\")\n",
    "\n",
    "plt.show()"
   ]
  },
  {
   "cell_type": "markdown",
   "id": "b96f7e1c",
   "metadata": {},
   "source": [
    "## Additional Analysis - Intuition Behind the Principal Components\n",
    "We first have a function to determine the weights of each principal component. We then perform the visualization of the principal components."
   ]
  },
  {
   "cell_type": "code",
   "execution_count": 36,
   "id": "b6c64168",
   "metadata": {},
   "outputs": [
    {
     "name": "stdout",
     "output_type": "stream",
     "text": [
      "PCA components\n",
      "[[-3.57812052e-01 -3.46101007e-01 -3.83548494e-01 -3.00403311e-01\n",
      "  -2.61118272e-01 -3.60205653e-01 -3.17365089e-01 -2.88155760e-01\n",
      "  -3.64894268e-01]\n",
      " [ 2.54542297e-01  2.31194095e-01  2.13326445e-01 -4.62886461e-01\n",
      "  -5.27035890e-01 -4.69040241e-01  2.46369587e-01  1.10681631e-01\n",
      "   2.26432084e-01]\n",
      " [-3.50920619e-01 -4.18748572e-01 -3.27947449e-01 -1.29337677e-01\n",
      "   1.38849600e-01 -4.95719600e-02  3.61548955e-01  4.44954332e-01\n",
      "   4.76222631e-01]\n",
      " [ 1.58905882e-01 -2.27696774e-03  2.35023895e-02 -1.17567576e-01\n",
      "   3.66191314e-03 -4.85437351e-03 -6.57107725e-01  7.22743324e-01\n",
      "  -7.86370710e-02]\n",
      " [-1.62953718e-01 -6.95004339e-02 -2.96319266e-02  6.80568731e-01\n",
      "  -6.91834950e-01  2.67893528e-02 -1.74126979e-02  1.42511216e-01\n",
      "   6.78086288e-02]\n",
      " [ 6.32981019e-01 -7.50270426e-01  1.08935538e-01  2.43696460e-02\n",
      "  -7.57104419e-02  7.37209022e-02  4.61824660e-02 -1.00731082e-01\n",
      "  -2.28489151e-02]\n",
      " [ 4.80313985e-01  2.83218916e-01 -8.10326224e-01  1.38676567e-01\n",
      "   2.64496200e-02 -9.38974907e-02  5.09526043e-02 -6.68583259e-03\n",
      "   3.26887273e-02]\n",
      " [ 2.93138760e-02 -5.87932250e-02  1.72932325e-01  4.26539112e-01\n",
      "   3.86881055e-01 -7.95488996e-01 -2.27435226e-02  2.90764456e-02\n",
      "  -6.70831716e-04]\n",
      " [ 1.63790238e-03 -1.48728877e-03  1.14387769e-03 -3.02069103e-03\n",
      "   3.68708452e-03  5.24193921e-04 -5.20118987e-01 -3.91186945e-01\n",
      "   7.59223166e-01]]\n"
     ]
    }
   ],
   "source": [
    "print(\"PCA components\")\n",
    "print(pca.components_)"
   ]
  },
  {
   "cell_type": "code",
   "execution_count": 37,
   "id": "10e3993d",
   "metadata": {},
   "outputs": [
    {
     "data": {
      "image/png": "[encoded data removed]",
      "text/plain": [
       "<Figure size 1008x1008 with 9 Axes>"
      ]
     },
     "metadata": {
      "needs_background": "light"
     },
     "output_type": "display_data"
    }
   ],
   "source": [
    "weights = PCWeights()\n",
    "NumComponents=9\n",
    "\n",
    "topPortfolios = pd.DataFrame(weights[:NumComponents], columns=X.columns)\n",
    "topPortfolios.index = [f'Principal Component {i}' for i in range(1, NumComponents+1)]\n",
    "\n",
    "axes = topPortfolios.T.plot.bar(subplots=True, legend=False,figsize=(14,14))\n",
    "plt.subplots_adjust(hspace=0.35)\n",
    "axes[0].set_ylim(0, .2);"
   ]
  },
  {
   "cell_type": "markdown",
   "id": "d9e5b1f3",
   "metadata": {},
   "source": [
    "## Conclusion\n",
    "**\"Our data suggests that if the survey provider created a composite measure comprised of all nine survey questions and used it as an indicator of team-level engagement, they would be misrepresenting the survey data and ignoring the fact that the nine questions (as shown in Figure 5.16) seem to be clustering into three separate constructs. Looking at the face validity of the questions, the first three appear to be about engagement, questions 4–6 are similar and appear to be about work–life balance, whilst the last three are more about perception of the organization’s ethics.\"**"
   ]
  },
  {
   "cell_type": "markdown",
   "id": "0bc532b4",
   "metadata": {},
   "source": [
    "# Example 4: using the independent samples t-test to determine differences in engagement levels"
   ]
  },
  {
   "cell_type": "markdown",
   "id": "efbdeb70",
   "metadata": {},
   "source": [
    "## Loading the data\n",
    "The dataset 'Chapter 5 Engagement CASE Group level data.xls' includes a combination of team-level HR metrics, employee demographic data and engagement survey data."
   ]
  },
  {
   "cell_type": "code",
   "execution_count": 38,
   "id": "32f9158d",
   "metadata": {
    "scrolled": true
   },
   "outputs": [
    {
     "data": {
      "text/html": [
       "<div>\n",
       "<style scoped>\n",
       "    .dataframe tbody tr th:only-of-type {\n",
       "        vertical-align: middle;\n",
       "    }\n",
       "\n",
       "    .dataframe tbody tr th {\n",
       "        vertical-align: top;\n",
       "    }\n",
       "\n",
       "    .dataframe thead th {\n",
       "        text-align: right;\n",
       "    }\n",
       "</style>\n",
       "<table border=\"1\" class=\"dataframe\">\n",
       "  <thead>\n",
       "    <tr style=\"text-align: right;\">\n",
       "      <th></th>\n",
       "      <th>DepartmentGroupNumber</th>\n",
       "      <th>GroupSize</th>\n",
       "      <th>PercentMale</th>\n",
       "      <th>BAME</th>\n",
       "      <th>NumberTeamLeads</th>\n",
       "      <th>NumberFeMaleTeamLeads</th>\n",
       "      <th>Location</th>\n",
       "      <th>LondonorNot</th>\n",
       "      <th>Function</th>\n",
       "      <th>EMPsurvEngage_1</th>\n",
       "      <th>EMPsurvEngage_2</th>\n",
       "      <th>EMPsurvEngage_3</th>\n",
       "      <th>EMPsurvEngage_4</th>\n",
       "      <th>EMPsurvEngage_5</th>\n",
       "      <th>EMPsurvEngage_6</th>\n",
       "      <th>EMPsurvEngage_7</th>\n",
       "      <th>EMPsurvEngage_8</th>\n",
       "      <th>EMPsurvEngage_9</th>\n",
       "      <th>EMPsurvEngagement</th>\n",
       "      <th>EMPorgIntegrity1</th>\n",
       "      <th>EMPorgIntegrity2</th>\n",
       "      <th>EMPorgIntegrity3</th>\n",
       "      <th>EMPorgIntegrity4</th>\n",
       "      <th>EMPorgIntegrity5</th>\n",
       "      <th>EmpSurvOrgIntegrity</th>\n",
       "      <th>EMPsurvSUP1</th>\n",
       "      <th>EMPsurvSUP2</th>\n",
       "      <th>EMPsurvSUP3</th>\n",
       "      <th>EMPsurvSUP4</th>\n",
       "      <th>EmpSurvSupervisor</th>\n",
       "    </tr>\n",
       "  </thead>\n",
       "  <tbody>\n",
       "    <tr>\n",
       "      <th>0</th>\n",
       "      <td>1</td>\n",
       "      <td>13</td>\n",
       "      <td>100</td>\n",
       "      <td>0.03</td>\n",
       "      <td>2</td>\n",
       "      <td>0.0</td>\n",
       "      <td>3</td>\n",
       "      <td>2</td>\n",
       "      <td>1</td>\n",
       "      <td>100</td>\n",
       "      <td>100</td>\n",
       "      <td>100</td>\n",
       "      <td>85</td>\n",
       "      <td>100</td>\n",
       "      <td>92</td>\n",
       "      <td>92</td>\n",
       "      <td>77</td>\n",
       "      <td>77</td>\n",
       "      <td>91</td>\n",
       "      <td>92</td>\n",
       "      <td>92</td>\n",
       "      <td>92</td>\n",
       "      <td>92</td>\n",
       "      <td>1</td>\n",
       "      <td>73.8</td>\n",
       "      <td>92</td>\n",
       "      <td>92</td>\n",
       "      <td>85</td>\n",
       "      <td>92</td>\n",
       "      <td>90.25</td>\n",
       "    </tr>\n",
       "    <tr>\n",
       "      <th>1</th>\n",
       "      <td>2</td>\n",
       "      <td>41</td>\n",
       "      <td>67</td>\n",
       "      <td>0.04</td>\n",
       "      <td>6</td>\n",
       "      <td>0.0</td>\n",
       "      <td>2</td>\n",
       "      <td>1</td>\n",
       "      <td>1</td>\n",
       "      <td>93</td>\n",
       "      <td>98</td>\n",
       "      <td>93</td>\n",
       "      <td>90</td>\n",
       "      <td>100</td>\n",
       "      <td>88</td>\n",
       "      <td>90</td>\n",
       "      <td>59</td>\n",
       "      <td>85</td>\n",
       "      <td>88</td>\n",
       "      <td>59</td>\n",
       "      <td>80</td>\n",
       "      <td>88</td>\n",
       "      <td>83</td>\n",
       "      <td>2</td>\n",
       "      <td>62.4</td>\n",
       "      <td>83</td>\n",
       "      <td>85</td>\n",
       "      <td>85</td>\n",
       "      <td>85</td>\n",
       "      <td>84.50</td>\n",
       "    </tr>\n",
       "    <tr>\n",
       "      <th>2</th>\n",
       "      <td>3</td>\n",
       "      <td>28</td>\n",
       "      <td>65</td>\n",
       "      <td>0.25</td>\n",
       "      <td>4</td>\n",
       "      <td>2.0</td>\n",
       "      <td>3</td>\n",
       "      <td>2</td>\n",
       "      <td>1</td>\n",
       "      <td>89</td>\n",
       "      <td>96</td>\n",
       "      <td>96</td>\n",
       "      <td>82</td>\n",
       "      <td>100</td>\n",
       "      <td>74</td>\n",
       "      <td>89</td>\n",
       "      <td>57</td>\n",
       "      <td>93</td>\n",
       "      <td>86</td>\n",
       "      <td>57</td>\n",
       "      <td>96</td>\n",
       "      <td>100</td>\n",
       "      <td>79</td>\n",
       "      <td>3</td>\n",
       "      <td>67.0</td>\n",
       "      <td>93</td>\n",
       "      <td>79</td>\n",
       "      <td>82</td>\n",
       "      <td>93</td>\n",
       "      <td>86.75</td>\n",
       "    </tr>\n",
       "    <tr>\n",
       "      <th>3</th>\n",
       "      <td>4</td>\n",
       "      <td>43</td>\n",
       "      <td>65</td>\n",
       "      <td>0.02</td>\n",
       "      <td>6</td>\n",
       "      <td>0.0</td>\n",
       "      <td>3</td>\n",
       "      <td>2</td>\n",
       "      <td>1</td>\n",
       "      <td>93</td>\n",
       "      <td>93</td>\n",
       "      <td>88</td>\n",
       "      <td>60</td>\n",
       "      <td>98</td>\n",
       "      <td>67</td>\n",
       "      <td>88</td>\n",
       "      <td>47</td>\n",
       "      <td>81</td>\n",
       "      <td>80</td>\n",
       "      <td>42</td>\n",
       "      <td>93</td>\n",
       "      <td>98</td>\n",
       "      <td>84</td>\n",
       "      <td>4</td>\n",
       "      <td>64.2</td>\n",
       "      <td>70</td>\n",
       "      <td>67</td>\n",
       "      <td>70</td>\n",
       "      <td>70</td>\n",
       "      <td>69.25</td>\n",
       "    </tr>\n",
       "    <tr>\n",
       "      <th>4</th>\n",
       "      <td>5</td>\n",
       "      <td>10</td>\n",
       "      <td>25</td>\n",
       "      <td>0.10</td>\n",
       "      <td>1</td>\n",
       "      <td>0.0</td>\n",
       "      <td>2</td>\n",
       "      <td>1</td>\n",
       "      <td>2</td>\n",
       "      <td>100</td>\n",
       "      <td>100</td>\n",
       "      <td>100</td>\n",
       "      <td>100</td>\n",
       "      <td>100</td>\n",
       "      <td>100</td>\n",
       "      <td>100</td>\n",
       "      <td>70</td>\n",
       "      <td>100</td>\n",
       "      <td>97</td>\n",
       "      <td>80</td>\n",
       "      <td>100</td>\n",
       "      <td>100</td>\n",
       "      <td>90</td>\n",
       "      <td>5</td>\n",
       "      <td>75.0</td>\n",
       "      <td>100</td>\n",
       "      <td>100</td>\n",
       "      <td>80</td>\n",
       "      <td>70</td>\n",
       "      <td>87.50</td>\n",
       "    </tr>\n",
       "  </tbody>\n",
       "</table>\n",
       "</div>"
      ],
      "text/plain": [
       "   DepartmentGroupNumber  GroupSize  PercentMale  BAME  NumberTeamLeads  \\\n",
       "0                      1         13          100  0.03                2   \n",
       "1                      2         41           67  0.04                6   \n",
       "2                      3         28           65  0.25                4   \n",
       "3                      4         43           65  0.02                6   \n",
       "4                      5         10           25  0.10                1   \n",
       "\n",
       "   NumberFeMaleTeamLeads  Location  LondonorNot  Function  EMPsurvEngage_1  \\\n",
       "0                    0.0         3            2         1              100   \n",
       "1                    0.0         2            1         1               93   \n",
       "2                    2.0         3            2         1               89   \n",
       "3                    0.0         3            2         1               93   \n",
       "4                    0.0         2            1         2              100   \n",
       "\n",
       "   EMPsurvEngage_2  EMPsurvEngage_3  EMPsurvEngage_4  EMPsurvEngage_5  \\\n",
       "0              100              100               85              100   \n",
       "1               98               93               90              100   \n",
       "2               96               96               82              100   \n",
       "3               93               88               60               98   \n",
       "4              100              100              100              100   \n",
       "\n",
       "   EMPsurvEngage_6  EMPsurvEngage_7  EMPsurvEngage_8  EMPsurvEngage_9  \\\n",
       "0               92               92               77               77   \n",
       "1               88               90               59               85   \n",
       "2               74               89               57               93   \n",
       "3               67               88               47               81   \n",
       "4              100              100               70              100   \n",
       "\n",
       "   EMPsurvEngagement  EMPorgIntegrity1  EMPorgIntegrity2  EMPorgIntegrity3  \\\n",
       "0                 91                92                92                92   \n",
       "1                 88                59                80                88   \n",
       "2                 86                57                96               100   \n",
       "3                 80                42                93                98   \n",
       "4                 97                80               100               100   \n",
       "\n",
       "   EMPorgIntegrity4  EMPorgIntegrity5  EmpSurvOrgIntegrity  EMPsurvSUP1  \\\n",
       "0                92                 1                 73.8           92   \n",
       "1                83                 2                 62.4           83   \n",
       "2                79                 3                 67.0           93   \n",
       "3                84                 4                 64.2           70   \n",
       "4                90                 5                 75.0          100   \n",
       "\n",
       "   EMPsurvSUP2  EMPsurvSUP3  EMPsurvSUP4  EmpSurvSupervisor  \n",
       "0           92           85           92              90.25  \n",
       "1           85           85           85              84.50  \n",
       "2           79           82           93              86.75  \n",
       "3           67           70           70              69.25  \n",
       "4          100           80           70              87.50  "
      ]
     },
     "execution_count": 38,
     "metadata": {},
     "output_type": "execute_result"
    }
   ],
   "source": [
    "df = pd.read_excel(\"Chapter 5 Engagement CASE Group level  data.xls\")\n",
    "pd.set_option('display.max_columns', None)\n",
    "df.head()"
   ]
  },
  {
   "cell_type": "code",
   "execution_count": 39,
   "id": "7fcce38e",
   "metadata": {},
   "outputs": [
    {
     "name": "stdout",
     "output_type": "stream",
     "text": [
      "(927, 30)\n"
     ]
    }
   ],
   "source": [
    "print(df.shape)"
   ]
  },
  {
   "cell_type": "code",
   "execution_count": 40,
   "id": "fefe758b",
   "metadata": {},
   "outputs": [],
   "source": [
    "#df.info()"
   ]
  },
  {
   "cell_type": "markdown",
   "id": "579b1696",
   "metadata": {},
   "source": [
    "## Results\n",
    "### Below are the steps to \"Figure 5.20 First t-test result: engagement comparing inner London versus non-London teams\" and their results.\n",
    "- 1 = London\n",
    "- 2 = Other Location"
   ]
  },
  {
   "cell_type": "code",
   "execution_count": 41,
   "id": "05997f61",
   "metadata": {},
   "outputs": [
    {
     "name": "stdout",
     "output_type": "stream",
     "text": [
      "count    927.000000\n",
      "mean       1.425027\n",
      "std        0.494614\n",
      "min        1.000000\n",
      "25%        1.000000\n",
      "50%        1.000000\n",
      "75%        2.000000\n",
      "max        2.000000\n",
      "Name: LondonorNot, dtype: float64\n"
     ]
    }
   ],
   "source": [
    "# This may not make much sense.\n",
    "print(df['LondonorNot'].describe())"
   ]
  },
  {
   "cell_type": "code",
   "execution_count": 42,
   "id": "4e6f68ea",
   "metadata": {},
   "outputs": [
    {
     "data": {
      "text/plain": [
       "1    533\n",
       "2    394\n",
       "Name: LondonorNot, dtype: int64"
      ]
     },
     "execution_count": 42,
     "metadata": {},
     "output_type": "execute_result"
    }
   ],
   "source": [
    "LondonorNot = df['LondonorNot']\n",
    "EMPsurvEngagement = df['EMPsurvEngagement']\n",
    "LondonorNot.value_counts()"
   ]
  },
  {
   "cell_type": "code",
   "execution_count": 43,
   "id": "f84ec015",
   "metadata": {},
   "outputs": [
    {
     "data": {
      "text/plain": [
       "0    False\n",
       "1     True\n",
       "2    False\n",
       "3    False\n",
       "4     True\n",
       "Name: LondonorNot, dtype: bool"
      ]
     },
     "execution_count": 43,
     "metadata": {},
     "output_type": "execute_result"
    }
   ],
   "source": [
    "London = LondonorNot == 1.0\n",
    "OtherLocation = LondonorNot == 2.0\n",
    "London.head()"
   ]
  },
  {
   "cell_type": "code",
   "execution_count": 44,
   "id": "c949ab2a",
   "metadata": {},
   "outputs": [],
   "source": [
    "EngLondonCatScores1 = EMPsurvEngagement[London].dropna()\n",
    "EngLondonCatScores2 = EMPsurvEngagement[OtherLocation].dropna()"
   ]
  },
  {
   "cell_type": "code",
   "execution_count": 45,
   "id": "ada87bb5",
   "metadata": {},
   "outputs": [
    {
     "data": {
      "text/plain": [
       "Ttest_indResult(statistic=1.3157376412423551, pvalue=0.18858811412701523)"
      ]
     },
     "execution_count": 45,
     "metadata": {},
     "output_type": "execute_result"
    }
   ],
   "source": [
    "stats.ttest_ind(EngLondonCatScores1, EngLondonCatScores2)"
   ]
  },
  {
   "cell_type": "code",
   "execution_count": 46,
   "id": "8a047414",
   "metadata": {},
   "outputs": [
    {
     "data": {
      "text/plain": [
       "Ttest_indResult(statistic=1.3200931644368545, pvalue=0.18715641748333767)"
      ]
     },
     "execution_count": 46,
     "metadata": {},
     "output_type": "execute_result"
    }
   ],
   "source": [
    "stats.ttest_ind(EngLondonCatScores1, EngLondonCatScores2, equal_var=False)"
   ]
  },
  {
   "cell_type": "markdown",
   "id": "9352d1df",
   "metadata": {},
   "source": [
    "Levene's test shows a significance value of 0.187, so we can assume equal variance patterns in EMPsurvEngagement across our two egional and geographical groupings as p>0.05.\n",
    "\n",
    "'The t-test was not significant: t(925)= 1.316, p>0.1. There is no significant difference in engagement between teams based in London and those that are based in non-London locations; London (mean=81.5478, SD=10.10528) is not significantly different to Other Locations (mean=80.6726, SD=9.88519).'"
   ]
  },
  {
   "cell_type": "markdown",
   "id": "6bc5a1c2",
   "metadata": {},
   "source": [
    "### Below are the steps to \"Figure 5.21 Second t-test result: engagement comparing Sales versus Professional Service teams\" and their results.\n",
    "- 1 = Sales\n",
    "- 2 = Professional Service "
   ]
  },
  {
   "cell_type": "code",
   "execution_count": 47,
   "id": "383a7051",
   "metadata": {},
   "outputs": [
    {
     "name": "stdout",
     "output_type": "stream",
     "text": [
      "count    927.000000\n",
      "mean       1.458468\n",
      "std        0.498541\n",
      "min        1.000000\n",
      "25%        1.000000\n",
      "50%        1.000000\n",
      "75%        2.000000\n",
      "max        2.000000\n",
      "Name: Function, dtype: float64\n"
     ]
    }
   ],
   "source": [
    "# This may not make much sense.\n",
    "print(df['Function'].describe())"
   ]
  },
  {
   "cell_type": "code",
   "execution_count": 48,
   "id": "7768edaa",
   "metadata": {},
   "outputs": [
    {
     "data": {
      "text/plain": [
       "1    502\n",
       "2    425\n",
       "Name: Function, dtype: int64"
      ]
     },
     "execution_count": 48,
     "metadata": {},
     "output_type": "execute_result"
    }
   ],
   "source": [
    "Function = df['Function']\n",
    "EMPsurvEngagement = df['EMPsurvEngagement']\n",
    "Function.value_counts()"
   ]
  },
  {
   "cell_type": "code",
   "execution_count": 49,
   "id": "b5dabb27",
   "metadata": {},
   "outputs": [
    {
     "data": {
      "text/plain": [
       "0     True\n",
       "1     True\n",
       "2     True\n",
       "3     True\n",
       "4    False\n",
       "Name: Function, dtype: bool"
      ]
     },
     "execution_count": 49,
     "metadata": {},
     "output_type": "execute_result"
    }
   ],
   "source": [
    "Sales = Function == 1.0\n",
    "ProfessionalService = Function == 2.0\n",
    "Sales.head()"
   ]
  },
  {
   "cell_type": "code",
   "execution_count": 50,
   "id": "627f48f3",
   "metadata": {},
   "outputs": [],
   "source": [
    "EngFunctionCatScores1 = EMPsurvEngagement[Sales].dropna()\n",
    "EngFunctionCatScores2 = EMPsurvEngagement[ProfessionalService].dropna()"
   ]
  },
  {
   "cell_type": "code",
   "execution_count": 51,
   "id": "f87a61e4",
   "metadata": {},
   "outputs": [
    {
     "data": {
      "text/plain": [
       "Ttest_indResult(statistic=-6.873154849493818, pvalue=1.1534793371387033e-11)"
      ]
     },
     "execution_count": 51,
     "metadata": {},
     "output_type": "execute_result"
    }
   ],
   "source": [
    "stats.ttest_ind(EngFunctionCatScores1, EngFunctionCatScores2)"
   ]
  },
  {
   "cell_type": "code",
   "execution_count": 52,
   "id": "6281bf4b",
   "metadata": {},
   "outputs": [
    {
     "data": {
      "text/plain": [
       "Ttest_indResult(statistic=-6.943249355066502, pvalue=7.2197564554700875e-12)"
      ]
     },
     "execution_count": 52,
     "metadata": {},
     "output_type": "execute_result"
    }
   ],
   "source": [
    "stats.ttest_ind(EngFunctionCatScores1, EngFunctionCatScores2, equal_var=False)"
   ]
  },
  {
   "cell_type": "markdown",
   "id": "bb7cfea7",
   "metadata": {},
   "source": [
    "Levene's test shows a significance value of 0.024, so we cannot assume equal variance patterns in EMPsurvEngagement across our two functional groupings as p<0.05.\n",
    "\n",
    "'The t-test was significant: t(923.209)= –6.943, p<0.001. There is a significant difference in engagement scores of teams where employees work in the Sales function compared to teams from Professional Services. Sales teams (mean=79.1454, SD=10.30226) are significantly less engaged than teams from Professional Services (mean=83.5741, SD=9.11327).'"
   ]
  },
  {
   "cell_type": "markdown",
   "id": "c834b0e5",
   "metadata": {},
   "source": [
    "## Conclusion\n",
    "**\"The difference in engagement means of 81.55 for London compared to 80.67 for other locations should not be taken seriously as it could easily have occurred by random chance fluctuations in team engagement levels.\"**\n",
    "\n",
    "**\"Team engagement scores are significantly different across the functions. We can actually say with 99.9 per cent confidence that there is a significant difference in engagement results between people who work in the Sales Function (customer facing) and people who work in the Professional Services function (non-customer facing). Professional Services teams are significantly more engaged than those in the Sales function. Given that it is people in the sales function who deal directly with customers, this highlights a key challenge to be addressed in any engagement strategy.\"**"
   ]
  },
  {
   "cell_type": "markdown",
   "id": "67779739",
   "metadata": {},
   "source": [
    "# Example 5: using multiple regression to predict team-level engagement"
   ]
  },
  {
   "cell_type": "code",
   "execution_count": 53,
   "id": "455240ad",
   "metadata": {
    "scrolled": true
   },
   "outputs": [
    {
     "data": {
      "text/html": [
       "<div>\n",
       "<style scoped>\n",
       "    .dataframe tbody tr th:only-of-type {\n",
       "        vertical-align: middle;\n",
       "    }\n",
       "\n",
       "    .dataframe tbody tr th {\n",
       "        vertical-align: top;\n",
       "    }\n",
       "\n",
       "    .dataframe thead th {\n",
       "        text-align: right;\n",
       "    }\n",
       "</style>\n",
       "<table border=\"1\" class=\"dataframe\">\n",
       "  <thead>\n",
       "    <tr style=\"text-align: right;\">\n",
       "      <th></th>\n",
       "      <th>DepartmentGroupNumber</th>\n",
       "      <th>GroupSize</th>\n",
       "      <th>PercentMale</th>\n",
       "      <th>BAME</th>\n",
       "      <th>NumberTeamLeads</th>\n",
       "      <th>NumberFeMaleTeamLeads</th>\n",
       "      <th>Location</th>\n",
       "      <th>LondonorNot</th>\n",
       "      <th>Function</th>\n",
       "      <th>EMPsurvEngage_1</th>\n",
       "      <th>EMPsurvEngage_2</th>\n",
       "      <th>EMPsurvEngage_3</th>\n",
       "      <th>EMPsurvEngage_4</th>\n",
       "      <th>EMPsurvEngage_5</th>\n",
       "      <th>EMPsurvEngage_6</th>\n",
       "      <th>EMPsurvEngage_7</th>\n",
       "      <th>EMPsurvEngage_8</th>\n",
       "      <th>EMPsurvEngage_9</th>\n",
       "      <th>EMPsurvEngagement</th>\n",
       "      <th>EMPorgIntegrity1</th>\n",
       "      <th>EMPorgIntegrity2</th>\n",
       "      <th>EMPorgIntegrity3</th>\n",
       "      <th>EMPorgIntegrity4</th>\n",
       "      <th>EMPorgIntegrity5</th>\n",
       "      <th>EmpSurvOrgIntegrity</th>\n",
       "      <th>EMPsurvSUP1</th>\n",
       "      <th>EMPsurvSUP2</th>\n",
       "      <th>EMPsurvSUP3</th>\n",
       "      <th>EMPsurvSUP4</th>\n",
       "      <th>EmpSurvSupervisor</th>\n",
       "    </tr>\n",
       "  </thead>\n",
       "  <tbody>\n",
       "    <tr>\n",
       "      <th>0</th>\n",
       "      <td>1</td>\n",
       "      <td>13</td>\n",
       "      <td>100</td>\n",
       "      <td>0.03</td>\n",
       "      <td>2</td>\n",
       "      <td>0.0</td>\n",
       "      <td>3</td>\n",
       "      <td>2</td>\n",
       "      <td>1</td>\n",
       "      <td>100</td>\n",
       "      <td>100</td>\n",
       "      <td>100</td>\n",
       "      <td>85</td>\n",
       "      <td>100</td>\n",
       "      <td>92</td>\n",
       "      <td>92</td>\n",
       "      <td>77</td>\n",
       "      <td>77</td>\n",
       "      <td>91</td>\n",
       "      <td>92</td>\n",
       "      <td>92</td>\n",
       "      <td>92</td>\n",
       "      <td>92</td>\n",
       "      <td>1</td>\n",
       "      <td>73.8</td>\n",
       "      <td>92</td>\n",
       "      <td>92</td>\n",
       "      <td>85</td>\n",
       "      <td>92</td>\n",
       "      <td>90.25</td>\n",
       "    </tr>\n",
       "    <tr>\n",
       "      <th>1</th>\n",
       "      <td>2</td>\n",
       "      <td>41</td>\n",
       "      <td>67</td>\n",
       "      <td>0.04</td>\n",
       "      <td>6</td>\n",
       "      <td>0.0</td>\n",
       "      <td>2</td>\n",
       "      <td>1</td>\n",
       "      <td>1</td>\n",
       "      <td>93</td>\n",
       "      <td>98</td>\n",
       "      <td>93</td>\n",
       "      <td>90</td>\n",
       "      <td>100</td>\n",
       "      <td>88</td>\n",
       "      <td>90</td>\n",
       "      <td>59</td>\n",
       "      <td>85</td>\n",
       "      <td>88</td>\n",
       "      <td>59</td>\n",
       "      <td>80</td>\n",
       "      <td>88</td>\n",
       "      <td>83</td>\n",
       "      <td>2</td>\n",
       "      <td>62.4</td>\n",
       "      <td>83</td>\n",
       "      <td>85</td>\n",
       "      <td>85</td>\n",
       "      <td>85</td>\n",
       "      <td>84.50</td>\n",
       "    </tr>\n",
       "    <tr>\n",
       "      <th>2</th>\n",
       "      <td>3</td>\n",
       "      <td>28</td>\n",
       "      <td>65</td>\n",
       "      <td>0.25</td>\n",
       "      <td>4</td>\n",
       "      <td>2.0</td>\n",
       "      <td>3</td>\n",
       "      <td>2</td>\n",
       "      <td>1</td>\n",
       "      <td>89</td>\n",
       "      <td>96</td>\n",
       "      <td>96</td>\n",
       "      <td>82</td>\n",
       "      <td>100</td>\n",
       "      <td>74</td>\n",
       "      <td>89</td>\n",
       "      <td>57</td>\n",
       "      <td>93</td>\n",
       "      <td>86</td>\n",
       "      <td>57</td>\n",
       "      <td>96</td>\n",
       "      <td>100</td>\n",
       "      <td>79</td>\n",
       "      <td>3</td>\n",
       "      <td>67.0</td>\n",
       "      <td>93</td>\n",
       "      <td>79</td>\n",
       "      <td>82</td>\n",
       "      <td>93</td>\n",
       "      <td>86.75</td>\n",
       "    </tr>\n",
       "    <tr>\n",
       "      <th>3</th>\n",
       "      <td>4</td>\n",
       "      <td>43</td>\n",
       "      <td>65</td>\n",
       "      <td>0.02</td>\n",
       "      <td>6</td>\n",
       "      <td>0.0</td>\n",
       "      <td>3</td>\n",
       "      <td>2</td>\n",
       "      <td>1</td>\n",
       "      <td>93</td>\n",
       "      <td>93</td>\n",
       "      <td>88</td>\n",
       "      <td>60</td>\n",
       "      <td>98</td>\n",
       "      <td>67</td>\n",
       "      <td>88</td>\n",
       "      <td>47</td>\n",
       "      <td>81</td>\n",
       "      <td>80</td>\n",
       "      <td>42</td>\n",
       "      <td>93</td>\n",
       "      <td>98</td>\n",
       "      <td>84</td>\n",
       "      <td>4</td>\n",
       "      <td>64.2</td>\n",
       "      <td>70</td>\n",
       "      <td>67</td>\n",
       "      <td>70</td>\n",
       "      <td>70</td>\n",
       "      <td>69.25</td>\n",
       "    </tr>\n",
       "    <tr>\n",
       "      <th>4</th>\n",
       "      <td>5</td>\n",
       "      <td>10</td>\n",
       "      <td>25</td>\n",
       "      <td>0.10</td>\n",
       "      <td>1</td>\n",
       "      <td>0.0</td>\n",
       "      <td>2</td>\n",
       "      <td>1</td>\n",
       "      <td>2</td>\n",
       "      <td>100</td>\n",
       "      <td>100</td>\n",
       "      <td>100</td>\n",
       "      <td>100</td>\n",
       "      <td>100</td>\n",
       "      <td>100</td>\n",
       "      <td>100</td>\n",
       "      <td>70</td>\n",
       "      <td>100</td>\n",
       "      <td>97</td>\n",
       "      <td>80</td>\n",
       "      <td>100</td>\n",
       "      <td>100</td>\n",
       "      <td>90</td>\n",
       "      <td>5</td>\n",
       "      <td>75.0</td>\n",
       "      <td>100</td>\n",
       "      <td>100</td>\n",
       "      <td>80</td>\n",
       "      <td>70</td>\n",
       "      <td>87.50</td>\n",
       "    </tr>\n",
       "  </tbody>\n",
       "</table>\n",
       "</div>"
      ],
      "text/plain": [
       "   DepartmentGroupNumber  GroupSize  PercentMale  BAME  NumberTeamLeads  \\\n",
       "0                      1         13          100  0.03                2   \n",
       "1                      2         41           67  0.04                6   \n",
       "2                      3         28           65  0.25                4   \n",
       "3                      4         43           65  0.02                6   \n",
       "4                      5         10           25  0.10                1   \n",
       "\n",
       "   NumberFeMaleTeamLeads  Location  LondonorNot  Function  EMPsurvEngage_1  \\\n",
       "0                    0.0         3            2         1              100   \n",
       "1                    0.0         2            1         1               93   \n",
       "2                    2.0         3            2         1               89   \n",
       "3                    0.0         3            2         1               93   \n",
       "4                    0.0         2            1         2              100   \n",
       "\n",
       "   EMPsurvEngage_2  EMPsurvEngage_3  EMPsurvEngage_4  EMPsurvEngage_5  \\\n",
       "0              100              100               85              100   \n",
       "1               98               93               90              100   \n",
       "2               96               96               82              100   \n",
       "3               93               88               60               98   \n",
       "4              100              100              100              100   \n",
       "\n",
       "   EMPsurvEngage_6  EMPsurvEngage_7  EMPsurvEngage_8  EMPsurvEngage_9  \\\n",
       "0               92               92               77               77   \n",
       "1               88               90               59               85   \n",
       "2               74               89               57               93   \n",
       "3               67               88               47               81   \n",
       "4              100              100               70              100   \n",
       "\n",
       "   EMPsurvEngagement  EMPorgIntegrity1  EMPorgIntegrity2  EMPorgIntegrity3  \\\n",
       "0                 91                92                92                92   \n",
       "1                 88                59                80                88   \n",
       "2                 86                57                96               100   \n",
       "3                 80                42                93                98   \n",
       "4                 97                80               100               100   \n",
       "\n",
       "   EMPorgIntegrity4  EMPorgIntegrity5  EmpSurvOrgIntegrity  EMPsurvSUP1  \\\n",
       "0                92                 1                 73.8           92   \n",
       "1                83                 2                 62.4           83   \n",
       "2                79                 3                 67.0           93   \n",
       "3                84                 4                 64.2           70   \n",
       "4                90                 5                 75.0          100   \n",
       "\n",
       "   EMPsurvSUP2  EMPsurvSUP3  EMPsurvSUP4  EmpSurvSupervisor  \n",
       "0           92           85           92              90.25  \n",
       "1           85           85           85              84.50  \n",
       "2           79           82           93              86.75  \n",
       "3           67           70           70              69.25  \n",
       "4          100           80           70              87.50  "
      ]
     },
     "execution_count": 53,
     "metadata": {},
     "output_type": "execute_result"
    }
   ],
   "source": [
    "df.head()"
   ]
  },
  {
   "cell_type": "code",
   "execution_count": 54,
   "id": "ee7a270c",
   "metadata": {},
   "outputs": [
    {
     "name": "stdout",
     "output_type": "stream",
     "text": [
      "(927, 30)\n"
     ]
    }
   ],
   "source": [
    "print(df.shape)"
   ]
  },
  {
   "cell_type": "markdown",
   "id": "ebaf1568",
   "metadata": {},
   "source": [
    "## Data Cleaning"
   ]
  },
  {
   "cell_type": "code",
   "execution_count": 55,
   "id": "fd6f897f",
   "metadata": {},
   "outputs": [
    {
     "name": "stdout",
     "output_type": "stream",
     "text": [
      "Null Values = True\n"
     ]
    }
   ],
   "source": [
    "print('Null Values =',df.isnull().values.any())"
   ]
  },
  {
   "cell_type": "code",
   "execution_count": 56,
   "id": "202eca15",
   "metadata": {},
   "outputs": [
    {
     "data": {
      "text/plain": [
       "(array([], dtype=int64), array([], dtype=int64))"
      ]
     },
     "execution_count": 56,
     "metadata": {},
     "output_type": "execute_result"
    }
   ],
   "source": [
    "df = df.dropna()\n",
    "np.where(np.isnan(df))"
   ]
  },
  {
   "cell_type": "markdown",
   "id": "56d81c17",
   "metadata": {},
   "source": [
    "## Results\n",
    "### Below are the steps to \"Figure 5.24 Analysis output for our model predicting team engagement\" and their results."
   ]
  },
  {
   "cell_type": "code",
   "execution_count": 57,
   "id": "fb3f9986",
   "metadata": {},
   "outputs": [],
   "source": [
    "from sklearn.linear_model import LinearRegression\n",
    "# Setting the value for X and Y\n",
    "x = df[['EmpSurvSupervisor', 'EmpSurvOrgIntegrity', 'GroupSize', 'PercentMale', 'BAME', 'LondonorNot', 'Function']]\n",
    "y = df['EMPsurvEngagement']"
   ]
  },
  {
   "cell_type": "code",
   "execution_count": 58,
   "id": "13762e6b",
   "metadata": {},
   "outputs": [
    {
     "data": {
      "text/plain": [
       "LinearRegression()"
      ]
     },
     "execution_count": 58,
     "metadata": {},
     "output_type": "execute_result"
    }
   ],
   "source": [
    "mlr = LinearRegression()  \n",
    "mlr.fit(x, y)"
   ]
  },
  {
   "cell_type": "code",
   "execution_count": 59,
   "id": "1de16810",
   "metadata": {},
   "outputs": [
    {
     "name": "stdout",
     "output_type": "stream",
     "text": [
      "intercept\n",
      "53.52149518273649\n"
     ]
    }
   ],
   "source": [
    "print(\"intercept\")\n",
    "print(mlr.intercept_)"
   ]
  },
  {
   "cell_type": "code",
   "execution_count": 60,
   "id": "8d5b309e",
   "metadata": {},
   "outputs": [
    {
     "name": "stdout",
     "output_type": "stream",
     "text": [
      "coefficients or betas\n"
     ]
    },
    {
     "data": {
      "text/plain": [
       "[('EmpSurvSupervisor', 0.4859785716565218),\n",
       " ('EmpSurvOrgIntegrity', -0.0018955676445770054),\n",
       " ('GroupSize', -0.03244340448088385),\n",
       " ('PercentMale', -0.13829774754217516),\n",
       " ('BAME', 0.8558746328764019),\n",
       " ('LondonorNot', -0.7142646629247569),\n",
       " ('Function', -1.2370168422082553)]"
      ]
     },
     "execution_count": 60,
     "metadata": {},
     "output_type": "execute_result"
    }
   ],
   "source": [
    "print(\"coefficients or betas\")\n",
    "list(zip(x, mlr.coef_))"
   ]
  },
  {
   "cell_type": "code",
   "execution_count": 61,
   "id": "3d8ecac8",
   "metadata": {},
   "outputs": [
    {
     "name": "stdout",
     "output_type": "stream",
     "text": [
      "R squared: 37.01\n",
      "Mean Absolute Error: 5.542983179409234\n",
      "Mean Square Error: 52.14337592770418\n",
      "Root Mean Square Error: 7.221037039629708\n"
     ]
    }
   ],
   "source": [
    "# Splitting the dataset\n",
    "from sklearn.model_selection import train_test_split\n",
    "x_train, x_test, y_train, y_test = train_test_split(x, y, test_size = 0.2, random_state = 0)\n",
    "\n",
    "# Prediction of test set\n",
    "y_pred_mlr= mlr.predict(x_test)\n",
    "\n",
    "# Predicted values\n",
    "#print(\"Prediction for test set: {}\".format(y_pred_mlr))\n",
    "\n",
    "# Actual value and the predicted value\n",
    "mlr_diff = pd.DataFrame({'Actual value': y_test, 'Predicted value': y_pred_mlr})\n",
    "\n",
    "# Model Evaluation\n",
    "from sklearn import metrics\n",
    "meanAbErr = metrics.mean_absolute_error(y_test, y_pred_mlr)\n",
    "meanSqErr = metrics.mean_squared_error(y_test, y_pred_mlr)\n",
    "rootMeanSqErr = np.sqrt(metrics.mean_squared_error(y_test, y_pred_mlr))\n",
    "print('R squared: {:.2f}'.format(mlr.score(x,y)*100))\n",
    "print('Mean Absolute Error:', meanAbErr)\n",
    "print('Mean Square Error:', meanSqErr)\n",
    "print('Root Mean Square Error:', rootMeanSqErr)"
   ]
  },
  {
   "cell_type": "markdown",
   "id": "d5d6f0c7",
   "metadata": {},
   "source": [
    "### Alternative - use statsmodels.api."
   ]
  },
  {
   "cell_type": "code",
   "execution_count": 62,
   "id": "0c851c26",
   "metadata": {},
   "outputs": [
    {
     "data": {
      "text/html": [
       "<table class=\"simpletable\">\n",
       "<caption>OLS Regression Results</caption>\n",
       "<tr>\n",
       "  <th>Dep. Variable:</th>    <td>EMPsurvEngagement</td> <th>  R-squared:         </th> <td>   0.370</td>\n",
       "</tr>\n",
       "<tr>\n",
       "  <th>Model:</th>                   <td>OLS</td>        <th>  Adj. R-squared:    </th> <td>   0.364</td>\n",
       "</tr>\n",
       "<tr>\n",
       "  <th>Method:</th>             <td>Least Squares</td>   <th>  F-statistic:       </th> <td>   60.59</td>\n",
       "</tr>\n",
       "<tr>\n",
       "  <th>Date:</th>             <td>Fri, 22 Apr 2022</td>  <th>  Prob (F-statistic):</th> <td>2.24e-68</td>\n",
       "</tr>\n",
       "<tr>\n",
       "  <th>Time:</th>                 <td>02:24:57</td>      <th>  Log-Likelihood:    </th> <td> -2555.6</td>\n",
       "</tr>\n",
       "<tr>\n",
       "  <th>No. Observations:</th>      <td>   730</td>       <th>  AIC:               </th> <td>   5127.</td>\n",
       "</tr>\n",
       "<tr>\n",
       "  <th>Df Residuals:</th>          <td>   722</td>       <th>  BIC:               </th> <td>   5164.</td>\n",
       "</tr>\n",
       "<tr>\n",
       "  <th>Df Model:</th>              <td>     7</td>       <th>                     </th>     <td> </td>   \n",
       "</tr>\n",
       "<tr>\n",
       "  <th>Covariance Type:</th>      <td>nonrobust</td>     <th>                     </th>     <td> </td>   \n",
       "</tr>\n",
       "</table>\n",
       "<table class=\"simpletable\">\n",
       "<tr>\n",
       "           <td></td>              <th>coef</th>     <th>std err</th>      <th>t</th>      <th>P>|t|</th>  <th>[0.025</th>    <th>0.975]</th>  \n",
       "</tr>\n",
       "<tr>\n",
       "  <th>const</th>               <td>   53.5215</td> <td>    3.457</td> <td>   15.482</td> <td> 0.000</td> <td>   46.735</td> <td>   60.308</td>\n",
       "</tr>\n",
       "<tr>\n",
       "  <th>EmpSurvSupervisor</th>   <td>    0.4860</td> <td>    0.030</td> <td>   16.045</td> <td> 0.000</td> <td>    0.427</td> <td>    0.545</td>\n",
       "</tr>\n",
       "<tr>\n",
       "  <th>EmpSurvOrgIntegrity</th> <td>   -0.0019</td> <td>    0.006</td> <td>   -0.342</td> <td> 0.732</td> <td>   -0.013</td> <td>    0.009</td>\n",
       "</tr>\n",
       "<tr>\n",
       "  <th>GroupSize</th>           <td>   -0.0324</td> <td>    0.018</td> <td>   -1.771</td> <td> 0.077</td> <td>   -0.068</td> <td>    0.004</td>\n",
       "</tr>\n",
       "<tr>\n",
       "  <th>PercentMale</th>         <td>   -0.1383</td> <td>    0.018</td> <td>   -7.874</td> <td> 0.000</td> <td>   -0.173</td> <td>   -0.104</td>\n",
       "</tr>\n",
       "<tr>\n",
       "  <th>BAME</th>                <td>    0.8559</td> <td>    2.907</td> <td>    0.294</td> <td> 0.769</td> <td>   -4.852</td> <td>    6.564</td>\n",
       "</tr>\n",
       "<tr>\n",
       "  <th>LondonorNot</th>         <td>   -0.7143</td> <td>    0.671</td> <td>   -1.065</td> <td> 0.287</td> <td>   -2.031</td> <td>    0.603</td>\n",
       "</tr>\n",
       "<tr>\n",
       "  <th>Function</th>            <td>   -1.2370</td> <td>    0.753</td> <td>   -1.642</td> <td> 0.101</td> <td>   -2.716</td> <td>    0.242</td>\n",
       "</tr>\n",
       "</table>\n",
       "<table class=\"simpletable\">\n",
       "<tr>\n",
       "  <th>Omnibus:</th>       <td>102.502</td> <th>  Durbin-Watson:     </th> <td>   1.400</td>\n",
       "</tr>\n",
       "<tr>\n",
       "  <th>Prob(Omnibus):</th> <td> 0.000</td>  <th>  Jarque-Bera (JB):  </th> <td> 189.473</td>\n",
       "</tr>\n",
       "<tr>\n",
       "  <th>Skew:</th>          <td>-0.849</td>  <th>  Prob(JB):          </th> <td>7.19e-42</td>\n",
       "</tr>\n",
       "<tr>\n",
       "  <th>Kurtosis:</th>      <td> 4.830</td>  <th>  Cond. No.          </th> <td>2.32e+03</td>\n",
       "</tr>\n",
       "</table><br/><br/>Notes:<br/>[1] Standard Errors assume that the covariance matrix of the errors is correctly specified.<br/>[2] The condition number is large, 2.32e+03. This might indicate that there are<br/>strong multicollinearity or other numerical problems."
      ],
      "text/plain": [
       "<class 'statsmodels.iolib.summary.Summary'>\n",
       "\"\"\"\n",
       "                            OLS Regression Results                            \n",
       "==============================================================================\n",
       "Dep. Variable:      EMPsurvEngagement   R-squared:                       0.370\n",
       "Model:                            OLS   Adj. R-squared:                  0.364\n",
       "Method:                 Least Squares   F-statistic:                     60.59\n",
       "Date:                Fri, 22 Apr 2022   Prob (F-statistic):           2.24e-68\n",
       "Time:                        02:24:57   Log-Likelihood:                -2555.6\n",
       "No. Observations:                 730   AIC:                             5127.\n",
       "Df Residuals:                     722   BIC:                             5164.\n",
       "Df Model:                           7                                         \n",
       "Covariance Type:            nonrobust                                         \n",
       "=======================================================================================\n",
       "                          coef    std err          t      P>|t|      [0.025      0.975]\n",
       "---------------------------------------------------------------------------------------\n",
       "const                  53.5215      3.457     15.482      0.000      46.735      60.308\n",
       "EmpSurvSupervisor       0.4860      0.030     16.045      0.000       0.427       0.545\n",
       "EmpSurvOrgIntegrity    -0.0019      0.006     -0.342      0.732      -0.013       0.009\n",
       "GroupSize              -0.0324      0.018     -1.771      0.077      -0.068       0.004\n",
       "PercentMale            -0.1383      0.018     -7.874      0.000      -0.173      -0.104\n",
       "BAME                    0.8559      2.907      0.294      0.769      -4.852       6.564\n",
       "LondonorNot            -0.7143      0.671     -1.065      0.287      -2.031       0.603\n",
       "Function               -1.2370      0.753     -1.642      0.101      -2.716       0.242\n",
       "==============================================================================\n",
       "Omnibus:                      102.502   Durbin-Watson:                   1.400\n",
       "Prob(Omnibus):                  0.000   Jarque-Bera (JB):              189.473\n",
       "Skew:                          -0.849   Prob(JB):                     7.19e-42\n",
       "Kurtosis:                       4.830   Cond. No.                     2.32e+03\n",
       "==============================================================================\n",
       "\n",
       "Notes:\n",
       "[1] Standard Errors assume that the covariance matrix of the errors is correctly specified.\n",
       "[2] The condition number is large, 2.32e+03. This might indicate that there are\n",
       "strong multicollinearity or other numerical problems.\n",
       "\"\"\""
      ]
     },
     "execution_count": 62,
     "metadata": {},
     "output_type": "execute_result"
    }
   ],
   "source": [
    "import statsmodels.api as sm\n",
    "x = sm.add_constant(x)\n",
    "mod = sm.OLS(y, x)\n",
    "mlr = mod.fit()\n",
    "mlr.summary()"
   ]
  },
  {
   "cell_type": "code",
   "execution_count": 63,
   "id": "f45edc46",
   "metadata": {},
   "outputs": [
    {
     "name": "stdout",
     "output_type": "stream",
     "text": [
      "Anova table\n",
      "   df_resid           ssr  df_diff       ss_diff          F        Pr(>F)\n",
      "0     729.0  74527.621918      0.0           NaN        NaN           NaN\n",
      "1     722.0  46947.735913      7.0  27579.886005  60.592235  2.236647e-68\n"
     ]
    }
   ],
   "source": [
    "import statsmodels.formula.api as smf\n",
    "# We are going to it a regression which only has constant or intercept.\n",
    "# dependent variable: EMPsurvEngagement\n",
    "# constant or intercept: 1\n",
    "lr1 = smf.ols(formula=\"EMPsurvEngagement ~ 1\", data=df).fit()\n",
    "# lr1, mlr, F test, an anova test one\n",
    "anova = sm.stats.anova_lm(lr1, mlr, test=\"F\", typ=\"I\")\n",
    "print(\"Anova table\")\n",
    "print(anova)"
   ]
  },
  {
   "cell_type": "markdown",
   "id": "0c0b7f0e",
   "metadata": {},
   "source": [
    "Here the regression ANOVA F-value is 60.592, with associated degrees of freedom of 7 (for the regression) plus 722 (for the residual), giving a total of 729. The results show the statistical significance of the regression ANOVA as being .000, or we would say p<0.001. (I am not sure if my interpretation here is 100% correct.)\n",
    "\n",
    "These significant predictors can be identified as the following:\n",
    "1. Supervisor aggregate (with a significant standardized Beta= +0.486, p<0.001).\n",
    "2. Percentage of the work unit who are male (with a significant standardized Beta= –0.138, p<0.001)."
   ]
  },
  {
   "cell_type": "markdown",
   "id": "cf0c1f54",
   "metadata": {},
   "source": [
    "## Conclusion\n",
    "**\"Team perceptions of how supportive their supervisors are is the most important driver of team engagement. The better the team tends to rate their supervisor then, the higher the team's level of engagement. Importantly, gender diversity is also found to be a key potential driver of engagement. The higher the proportion of males that are found in the teams then, the less engaged the teams tend to be. Team size is nearly a significant factor – clearly, Sales staff versus Professional Services (which showed a significant t-test) loses its importance when we take into account the range of other factors.\"**"
   ]
  },
  {
   "cell_type": "markdown",
   "id": "b30911a7",
   "metadata": {},
   "source": [
    "# Final Note\n",
    "A potential interpretation of why the functional groups no longer come out as being significant may be because of variations in gender mix and levels of supervisory support across the two functional groups; these factors may be possible causes of the earlier differences that we found in team engagement across Sales versus Professional Services. If we had not run this regression analysis, we might have mistakenly diagnosed the type of job as the possible cause of variations in fluctuations in engagement when in fact, the potential causal factor may well be something that is associated with the different jobs, such as gender-mix differences across the jobs and potential differences in supervisory style that we tend to find across the two functional groups.\n",
    "\n",
    "The analysis outlined in the previous section provides a wealth of information that will help the organization determine where to focus engagement activities. Recommendations may now be focused on supervisor training as well as the diversity training across the organization as a whole. This care and thought need to be repaid by timely publishing of the survey results across the organization along with a plan of what changes will take place as a result of the answers in an attempt to address the survey results and what that means for each individual. We should also consider ethics and data sensitivity because if people are completing a survey with the understanding that it is anonymous, under no circumstances should that individual-level data be shared."
   ]
  }
 ],
 "metadata": {
  "kernelspec": {
   "display_name": "Python 3 (ipykernel)",
   "language": "python",
   "name": "python3"
  },
  "language_info": {
   "codemirror_mode": {
    "name": "ipython",
    "version": 3
   },
   "file_extension": ".py",
   "mimetype": "text/x-python",
   "name": "python",
   "nbconvert_exporter": "python",
   "pygments_lexer": "ipython3",
   "version": "3.9.12"
  }
 },
 "nbformat": 4,
 "nbformat_minor": 5
}
